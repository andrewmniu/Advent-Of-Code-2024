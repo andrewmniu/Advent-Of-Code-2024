{
 "cells": [
  {
   "cell_type": "markdown",
   "id": "7ef1b7aa-ec72-4102-927e-89ba2c393e3e",
   "metadata": {},
   "source": [
    "# Advent of Code 2024 Solutions"
   ]
  },
  {
   "cell_type": "markdown",
   "id": "35ab2450-a78f-43b6-8320-f59b0c89916d",
   "metadata": {},
   "source": [
    "First, let's import all the packages we'll use:"
   ]
  },
  {
   "cell_type": "code",
   "execution_count": 1,
   "id": "39bf5b8f-e19d-4598-90d6-325dd9c50e74",
   "metadata": {},
   "outputs": [],
   "source": [
    "import numpy as np\n",
    "import re\n",
    "import networkx as nx\n",
    "import itertools\n",
    "import math\n",
    "import copy"
   ]
  },
  {
   "cell_type": "markdown",
   "id": "6724dfd4-3bc6-4427-93e1-87301dbc010e",
   "metadata": {
    "jp-MarkdownHeadingCollapsed": true
   },
   "source": [
    "# [Day 1 Historian Hysteria](https://adventofcode.com/2024/day/1)"
   ]
  },
  {
   "cell_type": "code",
   "execution_count": 7,
   "id": "7d2cf1fb-a8f4-4c8d-8818-5015f0e6e97a",
   "metadata": {},
   "outputs": [],
   "source": [
    "file = open('input1.txt', 'r')\n",
    "input_text = file.read()\n",
    "file.close()"
   ]
  },
  {
   "cell_type": "markdown",
   "id": "d6fda1c3-8553-4cee-aefa-90979a864cd6",
   "metadata": {},
   "source": [
    "## Part 1"
   ]
  },
  {
   "cell_type": "markdown",
   "id": "f00288e8-9813-424e-9c0f-c50e6990a7c1",
   "metadata": {},
   "source": [
    "Starting off pretty easy - let's just convert our lists to vectors, sort by size, and then take the difference."
   ]
  },
  {
   "cell_type": "code",
   "execution_count": 8,
   "id": "31ceb173-5873-4b1f-8e37-769e0fba521c",
   "metadata": {},
   "outputs": [],
   "source": [
    "def create_lists(input_text):\n",
    "    lines = input_text.strip().splitlines()\n",
    "    left_list = []\n",
    "    right_list = []\n",
    "    for line in lines:\n",
    "        left, right = line.split()\n",
    "        left_list.append(int(left))\n",
    "        right_list.append(int(right))\n",
    "    return left_list, right_list"
   ]
  },
  {
   "cell_type": "code",
   "execution_count": 11,
   "id": "b7fd9546-3af1-4fce-827a-c1b0de782703",
   "metadata": {},
   "outputs": [
    {
     "data": {
      "text/plain": [
       "2367773"
      ]
     },
     "execution_count": 11,
     "metadata": {},
     "output_type": "execute_result"
    }
   ],
   "source": [
    "left_list, right_list = create_lists(input_text)\n",
    "left_list = np.sort(left_list)\n",
    "right_list = np.sort(right_list)\n",
    "np.sum(np.absolute(right_list-left_list))"
   ]
  },
  {
   "cell_type": "markdown",
   "id": "8b9157d1-2e52-41e3-843f-96d0b3b5a1b9",
   "metadata": {},
   "source": [
    "## Part 2"
   ]
  },
  {
   "cell_type": "markdown",
   "id": "b95b795a-df13-4e3c-82e8-088f87b7dba0",
   "metadata": {},
   "source": [
    "This one's also pretty chill. We can just loop through each value in left list and count how many times it appears in the right list."
   ]
  },
  {
   "cell_type": "code",
   "execution_count": 13,
   "id": "e1ebe38c-98de-4055-a549-4a3207bbd1ad",
   "metadata": {},
   "outputs": [
    {
     "data": {
      "text/plain": [
       "21271939"
      ]
     },
     "execution_count": 13,
     "metadata": {},
     "output_type": "execute_result"
    }
   ],
   "source": [
    "score = 0\n",
    "for num in left_list:\n",
    "    score += num * np.count_nonzero(right_list == num)\n",
    "score"
   ]
  },
  {
   "cell_type": "markdown",
   "id": "e0a1bd9f-f0dd-4391-a176-2ab8674d5fce",
   "metadata": {
    "jp-MarkdownHeadingCollapsed": true
   },
   "source": [
    "# [Day 2: Red-Nosed Reports](https://adventofcode.com/2024/day/2)"
   ]
  },
  {
   "cell_type": "code",
   "execution_count": 1,
   "id": "092bec7e-7dca-4d1a-90ae-d9325505f32f",
   "metadata": {},
   "outputs": [],
   "source": [
    "file = open('input2.txt', 'r')\n",
    "input_text = file.read()\n",
    "file.close()"
   ]
  },
  {
   "cell_type": "markdown",
   "id": "71665e02-a5da-49e1-9dff-8c72e9223e2f",
   "metadata": {},
   "source": [
    "## Part 1"
   ]
  },
  {
   "cell_type": "code",
   "execution_count": 2,
   "id": "dfc697ec-a40e-4e66-a262-f6a3ddfcd198",
   "metadata": {},
   "outputs": [],
   "source": [
    "def read_reports(input_text):\n",
    "    lines = input_text.strip().splitlines()\n",
    "    \n",
    "    reports = []\n",
    "    for line in lines:\n",
    "        reports.append([int(level) for level in line.split()])\n",
    "    return reports"
   ]
  },
  {
   "cell_type": "code",
   "execution_count": 3,
   "id": "cf011387-f316-4546-919a-1e30ecfedaa2",
   "metadata": {},
   "outputs": [],
   "source": [
    "reports = read_reports(input_text)"
   ]
  },
  {
   "cell_type": "markdown",
   "id": "6499adbf-e3f9-4d8b-bf6e-f7aea7781c97",
   "metadata": {},
   "source": [
    "A report is safe if its **strictly monotonic**, and each consecutive difference is **between $1$ and $3$ in absolute value**. We'll create a function to test for this and then run this function on every report in our list."
   ]
  },
  {
   "cell_type": "code",
   "execution_count": 4,
   "id": "20efbf75-3996-423a-9a00-f397e2d2e9d3",
   "metadata": {},
   "outputs": [],
   "source": [
    "def is_report_safe(report):\n",
    "    differences = []\n",
    "    for i in range(len(report) - 1):\n",
    "        differences.append(report[i+1]-report[i])\n",
    "    strictly_monotonic = all(num < 0 for num in differences) or all(num > 0 for num in differences)\n",
    "    gradual = all(1 <= num and 3 >= num for num in [abs(difference) for difference in differences])\n",
    "    return strictly_monotonic and gradual"
   ]
  },
  {
   "cell_type": "code",
   "execution_count": 5,
   "id": "92452bc8-6b7c-4c06-9936-21009f4e3d40",
   "metadata": {},
   "outputs": [
    {
     "data": {
      "text/plain": [
       "502"
      ]
     },
     "execution_count": 5,
     "metadata": {},
     "output_type": "execute_result"
    }
   ],
   "source": [
    "number_safe = 0\n",
    "for report in reports:\n",
    "    if is_report_safe(report):\n",
    "        number_safe += 1\n",
    "number_safe"
   ]
  },
  {
   "cell_type": "markdown",
   "id": "0c32f66a-cd6f-45c6-9354-58879154a3c8",
   "metadata": {},
   "source": [
    "## Part 2 "
   ]
  },
  {
   "cell_type": "markdown",
   "id": "b46b2a6e-6e47-4a6f-b0a8-3899431d8317",
   "metadata": {},
   "source": [
    "For each report, we can see if it only has one bad level by removing each level and seeing if the remaining levels constitute a safe report."
   ]
  },
  {
   "cell_type": "code",
   "execution_count": 7,
   "id": "490f604c-06a3-49e1-a417-9b92b6dfc942",
   "metadata": {},
   "outputs": [
    {
     "data": {
      "text/plain": [
       "544"
      ]
     },
     "execution_count": 7,
     "metadata": {},
     "output_type": "execute_result"
    }
   ],
   "source": [
    "number_safe = 0\n",
    "for report in reports:\n",
    "    for i in range(len(report)):\n",
    "        if is_report_safe([level for j, level in enumerate(report) if j != i]):\n",
    "            number_safe += 1\n",
    "            break\n",
    "number_safe"
   ]
  },
  {
   "cell_type": "markdown",
   "id": "f7231a77-94e4-4b92-9d14-d3d24d5d6b19",
   "metadata": {
    "jp-MarkdownHeadingCollapsed": true
   },
   "source": [
    "# [Day 3: Mull It Over](https://adventofcode.com/2024/day/3)"
   ]
  },
  {
   "cell_type": "code",
   "execution_count": 2,
   "id": "99be8450-0ae0-4e7a-92c7-6872e6368d06",
   "metadata": {},
   "outputs": [],
   "source": [
    "file = open('input3.txt', 'r')\n",
    "input_text = file.read()\n",
    "file.close()"
   ]
  },
  {
   "cell_type": "markdown",
   "id": "77394098-27a9-436a-969b-f4e6bf058a94",
   "metadata": {},
   "source": [
    "## Part 1"
   ]
  },
  {
   "cell_type": "markdown",
   "id": "06c083af-a0ba-413d-90e7-635991dd3b1e",
   "metadata": {},
   "source": [
    "We can use a simple **regular expression** to detect all substrings of the form `mul(X,Y)` where `X` and `Y` are 1-3 digit numbers"
   ]
  },
  {
   "cell_type": "code",
   "execution_count": 3,
   "id": "9fa8f2f2-8483-4db8-b0e8-63e5c268fbdc",
   "metadata": {},
   "outputs": [],
   "source": [
    "mem = input_text"
   ]
  },
  {
   "cell_type": "code",
   "execution_count": 4,
   "id": "d0c8f83b-adce-49e3-8048-17dffcf460f2",
   "metadata": {},
   "outputs": [],
   "source": [
    "regex = r\"mul\\((-?\\d+),(-?\\d+)\\)\"\n",
    "def extract_multiplications(mem):\n",
    "    total = 0\n",
    "    matches = re.findall(regex, mem)\n",
    "    for match in matches:\n",
    "        total += int(match[0])*int(match[1])\n",
    "    return total"
   ]
  },
  {
   "cell_type": "code",
   "execution_count": 6,
   "id": "5ef8942c-9306-4b9c-b78e-655b423b1b29",
   "metadata": {},
   "outputs": [
    {
     "data": {
      "text/plain": [
       "167090022"
      ]
     },
     "execution_count": 6,
     "metadata": {},
     "output_type": "execute_result"
    }
   ],
   "source": [
    "# mult_regex = r\"mul\\((-?\\d+),(-?\\d+)\\)\"\n",
    "extract_multiplications(mem)"
   ]
  },
  {
   "cell_type": "markdown",
   "id": "4c8f0962-3de7-449b-9538-fcdb22af8c29",
   "metadata": {},
   "source": [
    "## Part 2"
   ]
  },
  {
   "cell_type": "markdown",
   "id": "fbcde6df-3d5e-4e95-9682-1352cd8f6a33",
   "metadata": {},
   "source": [
    "We just have to preprocess our string a bit for part 2. We can split our string into blocks separated by `don't()`'s. Since the multiplication instructions are **enabled at the beginning**, we can count all the multiplications in the first block. In the other blocks, we only want to count multiplications **after the first `do()`**, since the start of each block follows a `don't()`."
   ]
  },
  {
   "cell_type": "code",
   "execution_count": 7,
   "id": "de830a01-7ba4-4594-8679-7e0a65bbffbb",
   "metadata": {},
   "outputs": [
    {
     "data": {
      "text/plain": [
       "89823704"
      ]
     },
     "execution_count": 7,
     "metadata": {},
     "output_type": "execute_result"
    }
   ],
   "source": [
    "blocks = mem.split(\"don't()\")\n",
    "total = 0\n",
    "for block in blocks[1:]:\n",
    "    do = str(block.split(\"do()\", 1)[1:])\n",
    "    total += extract_multiplications(do)\n",
    "total += extract_multiplications(blocks[0])\n",
    "total"
   ]
  },
  {
   "cell_type": "markdown",
   "id": "5ca96b9d-7b46-451b-b5e1-81a1e3042312",
   "metadata": {
    "jp-MarkdownHeadingCollapsed": true
   },
   "source": [
    "# [Day 4: Ceres Search](https://adventofcode.com/2024/day/4)"
   ]
  },
  {
   "cell_type": "code",
   "execution_count": 2,
   "id": "ebb7d161-e326-41cb-9dd4-e320880f1ae4",
   "metadata": {},
   "outputs": [],
   "source": [
    "file = open('input4.txt', 'r')\n",
    "input_text = file.read()\n",
    "file.close()"
   ]
  },
  {
   "cell_type": "markdown",
   "id": "595f3f02-7172-48dd-9d54-a98ead1e6207",
   "metadata": {},
   "source": [
    "## Part 1"
   ]
  },
  {
   "cell_type": "code",
   "execution_count": 10,
   "id": "01c79620-96d3-479b-b496-f89ea6cab858",
   "metadata": {},
   "outputs": [],
   "source": [
    "def read_word_search(input_text):\n",
    "    lines = input_text.strip().splitlines()\n",
    "\n",
    "    # We'll pad our array so when we use numpy vector as indices, we don't have to worry about going out of bounds.\n",
    "    word_search = [['.']*(len(lines[0])+2)] \n",
    "    \n",
    "    for line in lines:\n",
    "        row = ['.']\n",
    "        for col_index, char in enumerate(line):\n",
    "            row.append(char) \n",
    "        row.append('.')\n",
    "        word_search.append(row)\n",
    "    word_search.append(['.']*(len(lines[0])+2))\n",
    "    return word_search"
   ]
  },
  {
   "cell_type": "code",
   "execution_count": 4,
   "id": "d644635a-fb89-47f1-bc32-836218bbeb2a",
   "metadata": {},
   "outputs": [],
   "source": [
    "word_search = read_word_search(input_text)"
   ]
  },
  {
   "cell_type": "markdown",
   "id": "e1cc9584-c6aa-4ffd-825c-cfea03b7309e",
   "metadata": {},
   "source": [
    "For each character in our word search, we'll iterate in each direction and check if those characters spell \"XMAS.\""
   ]
  },
  {
   "cell_type": "code",
   "execution_count": 5,
   "id": "2331e45f-e787-477a-bc1a-a7041508b86e",
   "metadata": {},
   "outputs": [],
   "source": [
    "def detect_xmas(i, j, direction, word_search):\n",
    "    current = np.array([i,j])\n",
    "    for i in range(4):\n",
    "        ith_letter = current + i * direction\n",
    "        if word_search[ith_letter[0]][ith_letter[1]] != \"XMAS\"[i]:\n",
    "            return 0\n",
    "    return 1"
   ]
  },
  {
   "cell_type": "code",
   "execution_count": 6,
   "id": "43bf2178-c7a2-4a40-9621-1b4dedbe433a",
   "metadata": {},
   "outputs": [
    {
     "data": {
      "text/plain": [
       "2406"
      ]
     },
     "execution_count": 6,
     "metadata": {},
     "output_type": "execute_result"
    }
   ],
   "source": [
    "directions = [np.array(direction) for direction in [(-1,0),(0,1),(1,0),(0,-1),(1,1),(1,-1),(-1,-1),(-1,1)]]    \n",
    "total = 0\n",
    "for i, row in enumerate(word_search):\n",
    "    for j, entry in enumerate(row):\n",
    "        if entry == '.':\n",
    "            continue\n",
    "        for direction in directions:\n",
    "            total += detect_xmas(i, j, direction, word_search)\n",
    "total"
   ]
  },
  {
   "cell_type": "markdown",
   "id": "86169fbf-1980-46fb-8559-3724f139b183",
   "metadata": {},
   "source": [
    "## Part 2"
   ]
  },
  {
   "cell_type": "markdown",
   "id": "c6cd372f-6ac0-4293-9947-f5eef8cd4751",
   "metadata": {},
   "source": [
    "Not much extra stuff to do here. We just have to get a little fancier to get the neighboring letters. For any given `A`, we just have to check the cells neighboring it diagonally. Below, we flatten out our diagonals from the bottom left to the top right. So if we have a diagonal crossing that looks like,\n",
    "\n",
    "$\\begin{bmatrix} x_1 & . & x_2 \\\\ . & x_3 & . \\\\ x_4 & . & x_5 \\end{bmatrix}$, \n",
    "\n",
    "we map this to the string $x_4x_5x_3x_1x_2$. We then check to see if this matches one of the four possible`X-MAS`'s."
   ]
  },
  {
   "cell_type": "code",
   "execution_count": 7,
   "id": "220d1b70-b8eb-4f18-9bfe-def2974953bb",
   "metadata": {},
   "outputs": [],
   "source": [
    "valid_x_mas = {\"MSAMS\",\"MMASS\",\"SMASM\",\"SSAMM\"}\n",
    "def detect_x_mas(i, j, word_search):\n",
    "    cross = \"\"\n",
    "    parity_checker = (i+j) % 2\n",
    "    for k in range(i-1, i+2):\n",
    "        for l in range(j-1, j+2):\n",
    "            if (k + l) % 2 == parity_checker: \n",
    "                cross += word_search[k][l]\n",
    "    return 1 if cross in valid_x_mas else 0"
   ]
  },
  {
   "cell_type": "code",
   "execution_count": 8,
   "id": "b1a896e2-6c3a-47e7-b87f-d133334d902c",
   "metadata": {},
   "outputs": [
    {
     "data": {
      "text/plain": [
       "1807"
      ]
     },
     "execution_count": 8,
     "metadata": {},
     "output_type": "execute_result"
    }
   ],
   "source": [
    "x_mas_total = 0\n",
    "for i, row in enumerate(word_search):\n",
    "    for j, entry in enumerate(row):\n",
    "        if entry == '.':\n",
    "            continue\n",
    "        x_mas_total += detect_x_mas(i, j, word_search)\n",
    "x_mas_total"
   ]
  },
  {
   "cell_type": "markdown",
   "id": "653b5df0-98de-4cb7-a816-5a6e5549d431",
   "metadata": {
    "jp-MarkdownHeadingCollapsed": true
   },
   "source": [
    "# [Day 5: Print Queue](https://adventofcode.com/2024/day/5)"
   ]
  },
  {
   "cell_type": "code",
   "execution_count": 2,
   "id": "9db34ab9-68dc-4379-9091-bdb23a717fb5",
   "metadata": {},
   "outputs": [],
   "source": [
    "file = open('input5.txt', 'r')\n",
    "input_text = file.read()\n",
    "file.close()"
   ]
  },
  {
   "cell_type": "markdown",
   "id": "c6613181-245f-47eb-9f9f-1080dc2fec83",
   "metadata": {},
   "source": [
    "## Part 1"
   ]
  },
  {
   "cell_type": "code",
   "execution_count": 3,
   "id": "e915a515-6032-4be8-a434-b61a0236879a",
   "metadata": {},
   "outputs": [],
   "source": [
    "def get_rules_and_updates(input_text):\n",
    "    rules, updates = input_text.strip().split(\"\\n\\n\")\n",
    "    rules = rules.split('\\n')\n",
    "    updates = updates.split('\\n')\n",
    "    return rules, updates"
   ]
  },
  {
   "cell_type": "code",
   "execution_count": 5,
   "id": "a27ef40a-2293-4944-aa0b-8dcbd1ec5426",
   "metadata": {},
   "outputs": [],
   "source": [
    "rules, updates = get_rules_and_updates(input_text)\n",
    "rules = set(tuple(rule.split('|')) for rule in rules)"
   ]
  },
  {
   "cell_type": "markdown",
   "id": "cdb1cf06-324a-4c45-b83e-1db637d23aad",
   "metadata": {},
   "source": [
    "Since the rules give us a way to order updates of pages, we can just use **quick sort** with `|` in place of `<`. Once we get a sorted list of pages according to the rules, we can check if the update matches the sorted list of pages.\n",
    "\n",
    "*Digression: Initially I assumed that the rules would form a total ordering of the pages since this was the case in the small example that the problem gave. So my first approach was just to attempt to sort all of the pages at the beginning, which is why I thought to use quick sort. After spending some time being very confused as to why my code wasn't working, I **finally** checked the input for the first time. It was a good lesson to check my input before writing the solution for later days.*"
   ]
  },
  {
   "cell_type": "code",
   "execution_count": 6,
   "id": "47cdb412-695a-4934-9402-a8cb396d9991",
   "metadata": {},
   "outputs": [],
   "source": [
    "def quicksort(lst):\n",
    "    if len(lst) == 0:\n",
    "        return []\n",
    "    pivot = lst[0]\n",
    "    left = []\n",
    "    right = []\n",
    "    for elt in lst[1:]:\n",
    "        if (elt, pivot) in rules:\n",
    "            left.append(elt)\n",
    "        else:\n",
    "            right.append(elt)\n",
    "    return quicksort(left) + [pivot] + quicksort(right)"
   ]
  },
  {
   "cell_type": "code",
   "execution_count": 7,
   "id": "4fdaea93-420f-4fdd-9d56-234ce711d1ee",
   "metadata": {},
   "outputs": [
    {
     "data": {
      "text/plain": [
       "5588"
      ]
     },
     "execution_count": 7,
     "metadata": {},
     "output_type": "execute_result"
    }
   ],
   "source": [
    "total = 0 \n",
    "for update in updates:\n",
    "    update_pages = update.split(',')\n",
    "    sorted_pages = quicksort(update_pages)\n",
    "    mapped_update = [sorted_pages.index(page) for page in update_pages]\n",
    "    monotonic = all([mapped_update[i] < mapped_update[i+1] for i in range(len(mapped_update) - 1)])\n",
    "    if monotonic:\n",
    "        total += int(update_pages[int((len(mapped_update)-1)/2)])\n",
    "total"
   ]
  },
  {
   "cell_type": "markdown",
   "id": "a7c4d9bf-cf26-48de-9f43-bd85beeba4ed",
   "metadata": {},
   "source": [
    "## Part 2"
   ]
  },
  {
   "cell_type": "markdown",
   "id": "2e745b82-a59e-44c5-85cf-eece8e426c64",
   "metadata": {},
   "source": [
    "This should be pretty easy since we already sorted updates into the correct order in Part 1."
   ]
  },
  {
   "cell_type": "code",
   "execution_count": 8,
   "id": "3ae84f36-c235-41ff-a490-2aee880e8540",
   "metadata": {},
   "outputs": [
    {
     "data": {
      "text/plain": [
       "5331"
      ]
     },
     "execution_count": 8,
     "metadata": {},
     "output_type": "execute_result"
    }
   ],
   "source": [
    "total = 0 \n",
    "for update in updates:\n",
    "    update_pages = update.split(',')\n",
    "    sorted_pages = quicksort(update_pages)\n",
    "    mapped_update = [sorted_pages.index(page) for page in update_pages]\n",
    "    monotonic = all([mapped_update[i] < mapped_update[i+1] for i in range(len(mapped_update) - 1)])\n",
    "    if not monotonic:\n",
    "        total += int(sorted_pages[int((len(mapped_update)-1)/2)])\n",
    "total"
   ]
  },
  {
   "cell_type": "markdown",
   "id": "2fa993ff-bc16-4736-b976-bd775f3f64d7",
   "metadata": {},
   "source": [
    "# [Day 6: Guard Gallivant](https://adventofcode.com/2024/day/6)"
   ]
  },
  {
   "cell_type": "code",
   "execution_count": 2,
   "id": "86264f33-bf38-410f-93e0-d5cf3e541704",
   "metadata": {},
   "outputs": [],
   "source": [
    "file = open('input6.txt', 'r')\n",
    "input_text = file.read()\n",
    "file.close()"
   ]
  },
  {
   "cell_type": "markdown",
   "id": "a4ec18ec-6a68-4c33-8cd1-04fd944b9d6e",
   "metadata": {},
   "source": [
    "## Part 1"
   ]
  },
  {
   "cell_type": "code",
   "execution_count": 3,
   "id": "626c5974-3cd1-4a51-bb58-d1bd01e94db2",
   "metadata": {},
   "outputs": [],
   "source": [
    "def read_map(input_text):\n",
    "    lines = input_text.strip().splitlines()\n",
    "    # We'll pad the borders of our map\n",
    "    matrix = [['@' for i in range(len(lines[0])+2)]]\n",
    "\n",
    "    for row_index, line in enumerate(lines):\n",
    "        row = ['@']\n",
    "        for col_index, char in enumerate(line):\n",
    "            if char == '#':\n",
    "                row.append(\"#\")\n",
    "            else:\n",
    "                row.append('.')\n",
    "            if char == '^':\n",
    "                start_position = (row_index+1, col_index+1)\n",
    "        row.append('@')\n",
    "        matrix.append(row)\n",
    "    matrix.append(['@' for i in range(len(lines[0])+2)])\n",
    "    \n",
    "    return matrix, np.array(start_position)"
   ]
  },
  {
   "cell_type": "code",
   "execution_count": 4,
   "id": "688be072-c01f-47f7-9fbc-e1cf560d46d7",
   "metadata": {},
   "outputs": [],
   "source": [
    "guard_map, start_position = read_map(input_text)"
   ]
  },
  {
   "cell_type": "markdown",
   "id": "01e7c713-ef2d-41bf-940c-0f60a18b0c0a",
   "metadata": {},
   "source": [
    "We will run a loop to make the guard step forward if she is able to and turn right 90 degrees if she's facing an obstruction. We continue until she hits the edge of the map."
   ]
  },
  {
   "cell_type": "code",
   "execution_count": 5,
   "id": "fc75de31-7107-4457-8c7d-067db50f5838",
   "metadata": {},
   "outputs": [],
   "source": [
    "directions = [np.array(direction) for direction in [(-1,0),(0,1),(1,0),(0,-1)]]\n",
    "orientation = 0\n",
    "position = np.copy(start_position)\n",
    "squares = set()\n",
    "while True:\n",
    "    squares.add(tuple(position))\n",
    "    next_position = position + directions[orientation]\n",
    "    if guard_map[next_position[0]][next_position[1]] == \"@\":\n",
    "        break\n",
    "    elif guard_map[next_position[0]][next_position[1]] == \"#\":\n",
    "        orientation = (orientation+1) % 4\n",
    "    else:\n",
    "        position = next_position"
   ]
  },
  {
   "cell_type": "code",
   "execution_count": 6,
   "id": "d6164e5f-6615-423a-8781-3c158b50359f",
   "metadata": {},
   "outputs": [
    {
     "data": {
      "text/plain": [
       "4656"
      ]
     },
     "execution_count": 6,
     "metadata": {},
     "output_type": "execute_result"
    }
   ],
   "source": [
    "len(squares)"
   ]
  },
  {
   "cell_type": "markdown",
   "id": "a34e82d7-c770-4529-90a0-74a2bbcb2979",
   "metadata": {},
   "source": [
    "## Part 2"
   ]
  },
  {
   "cell_type": "markdown",
   "id": "55224d30-48a8-424d-b1ee-1c94d2065fcc",
   "metadata": {},
   "source": [
    "Since the guard follows the same patrol protocol every time, she becomes **stuck in a loop if and only if she visits a position she has already visited in the same orientation as before**. Thus, to detect whether adding an obstruction to a given position will cause the guard to get stuck, we can do the same thing as in Part 1 while also storing the orientation of the guard at each step. Then if the guard visits a spot she's been before in the same orientation as before, she is stuck in a loop. Otherwise, she exits the mapped area without entering a loop. Repeating this process for every position in the mapped area will give us all possible positions where an added obstruction would cause a loop.\n",
    "\n",
    "To reduce our search space, we observe that any obstruction placed outside of the guard's original path won't cause her to get stuck in a loop since she will never run into this obstruction. This allows us to **only search positions on the guard's original path**. Moreover, the path that the guard traces out when we add the obstruction **will only differ once she reaches the position of the added obstruction** for the first time. So if we compute the guards position and orientation on her original path, we won't have to recompute her entire path every time we add an obstruction. "
   ]
  },
  {
   "cell_type": "code",
   "execution_count": 7,
   "id": "ed287af1-d70f-49be-bd32-401877be2116",
   "metadata": {},
   "outputs": [],
   "source": [
    "# Get guards positions and orientations before adding an obstruction\n",
    "orientation = 0\n",
    "position = np.copy(start_position)\n",
    "squares_oriented = []\n",
    "squares_index = {}\n",
    "idx = 0\n",
    "while True:\n",
    "    # Record the first time we reach a position\n",
    "    if tuple(position) not in squares_index:\n",
    "        squares_index[tuple(position)] = idx\n",
    "    idx += 1\n",
    "    squares_oriented.append((tuple(position), orientation))\n",
    "    next_position = position + directions[orientation]\n",
    "    if guard_map[next_position[0]][next_position[1]] == \"@\":\n",
    "        break\n",
    "    elif guard_map[next_position[0]][next_position[1]] == \"#\":\n",
    "        orientation = (orientation+1) % 4\n",
    "    else:\n",
    "        position = next_position"
   ]
  },
  {
   "cell_type": "markdown",
   "id": "32f53e81-215e-4c49-a776-c008955f0459",
   "metadata": {},
   "source": [
    "Now for each visited square, we add an obstruction and run our above algorithm to detect a loop. We will modify our original `guard_map` rather than making a copy every iteration. To make sure we return the `guard_map` to its original state after each test, we will use a **decorator** to make the appropriate changes to the `guard_map` before and after calling our loop detecting function."
   ]
  },
  {
   "cell_type": "code",
   "execution_count": 10,
   "id": "9066f26c-46e3-4202-9b89-439fe5717b25",
   "metadata": {},
   "outputs": [],
   "source": [
    "def add_obstruction(fun):\n",
    "    def wrapper(obstruction, guard_map):\n",
    "        i,j = obstruction\n",
    "        guard_map[i][j] = '#'\n",
    "        result = fun(obstruction, guard_map)\n",
    "        guard_map[i][j] = '.'\n",
    "        return result\n",
    "    return wrapper\n",
    "\n",
    "@add_obstruction\n",
    "def creates_loop(obstruction, guard_map):\n",
    "    first = squares_index[obstruction] - 1 # Get the first time we visit the position where we want to place an obstruction\n",
    "    position, orientation = squares_oriented[first]\n",
    "    squares_visited = set(squares_oriented[:first]) # Get the guard's path up to this point\n",
    "    while True:\n",
    "        position_orientation = (tuple(position), orientation)\n",
    "        if tuple(position_orientation) in squares_visited:\n",
    "            return True\n",
    "        squares_visited.add(position_orientation)\n",
    "        next_position = position + directions[orientation]\n",
    "        if guard_map[next_position[0]][next_position[1]] == \"@\":\n",
    "            return False\n",
    "        if guard_map[next_position[0]][next_position[1]] == \"#\":\n",
    "            orientation = (orientation+1) % 4\n",
    "        else:\n",
    "            position = next_position"
   ]
  },
  {
   "cell_type": "code",
   "execution_count": 11,
   "id": "dc2e8791-8369-4da3-885c-197b423e8ca7",
   "metadata": {},
   "outputs": [
    {
     "data": {
      "text/plain": [
       "1575"
      ]
     },
     "execution_count": 11,
     "metadata": {},
     "output_type": "execute_result"
    }
   ],
   "source": [
    "total = 0\n",
    "for entry in squares:\n",
    "    if entry == tuple(start_position):\n",
    "        continue\n",
    "    if creates_loop(entry, guard_map):\n",
    "        total += 1\n",
    "total"
   ]
  },
  {
   "cell_type": "markdown",
   "id": "ace5d9e1-4b2d-4499-ae6b-85268e38339c",
   "metadata": {
    "jp-MarkdownHeadingCollapsed": true
   },
   "source": [
    "# [Day 7: Bridge Repair](https://adventofcode.com/2024/day/7)"
   ]
  },
  {
   "cell_type": "code",
   "execution_count": 1,
   "id": "793d4d27-514d-4d6b-a590-6e3953840125",
   "metadata": {},
   "outputs": [],
   "source": [
    "file = open('input7.txt', 'r')\n",
    "input_text = file.read()\n",
    "file.close()"
   ]
  },
  {
   "cell_type": "markdown",
   "id": "24e71de2-046a-4648-aa37-567116a8fe65",
   "metadata": {},
   "source": [
    "## Part 1"
   ]
  },
  {
   "cell_type": "code",
   "execution_count": 7,
   "id": "7165d061-944e-4a11-a932-3b0d98a6c84b",
   "metadata": {},
   "outputs": [],
   "source": [
    "def read_equations(input_text):\n",
    "    equations = []\n",
    "    lines = input_text.strip().splitlines()    \n",
    "    for equation in lines:\n",
    "        data = equation.split(' ')\n",
    "        test_value = int(data[0][:-1])\n",
    "        nums = tuple(int(value) for value in data[1:])\n",
    "        equations.append({\n",
    "            'test_value': test_value,\n",
    "            'nums': nums,\n",
    "        })\n",
    "    return equations"
   ]
  },
  {
   "cell_type": "code",
   "execution_count": 8,
   "id": "a777e9a6-ea64-47f6-ac08-24de06ff22ac",
   "metadata": {},
   "outputs": [],
   "source": [
    "equations = read_equations(input_text)"
   ]
  },
  {
   "cell_type": "markdown",
   "id": "4e086e37-8763-42d8-b02e-90d13ece43b9",
   "metadata": {},
   "source": [
    "We'll use recursion here. For a given sequence of numbers $x_1 \\ x_2 \\ \\ldots \\ x_{n-1} \\ x_n$ in an equation, we compute all the possible results we could get from different combinations of operations for the sequence $x_1 \\ x_2 \\ \\ldots \\ x_{n-1}$. Then for each number in this set, we add or multiply $x_n$ to get all the possible values we could get by inserting different combinations of operations into our entire sequence. I'm not sure whether memoizing is necessary here, but why not?"
   ]
  },
  {
   "cell_type": "code",
   "execution_count": 9,
   "id": "0f24c927-c62f-4226-af2a-b6f6297c43b3",
   "metadata": {},
   "outputs": [],
   "source": [
    "memoization_table = {}\n",
    "def get_combinations(nums):\n",
    "    if len(nums) == 1:\n",
    "        return set(nums)\n",
    "    last = nums[-1]\n",
    "    subtuple = nums[:-1]\n",
    "    if subtuple in memoization_table.keys():\n",
    "        rest = memoization_table[subtuple]\n",
    "    else:\n",
    "        rest = get_combinations(subtuple)\n",
    "        memoization_table[subtuple] = rest\n",
    "    return set(last + combination for combination in rest) | set(last * combination for combination in rest)"
   ]
  },
  {
   "cell_type": "code",
   "execution_count": 10,
   "id": "87275e58-53bc-4aee-b2b9-1cd6b366843d",
   "metadata": {},
   "outputs": [
    {
     "data": {
      "text/plain": [
       "303766880536"
      ]
     },
     "execution_count": 10,
     "metadata": {},
     "output_type": "execute_result"
    }
   ],
   "source": [
    "total = 0\n",
    "for equation in equations:\n",
    "    test_value = equation['test_value']\n",
    "    nums = equation['nums']\n",
    "    if test_value in get_combinations(nums):\n",
    "        total += test_value\n",
    "total"
   ]
  },
  {
   "cell_type": "markdown",
   "id": "97ac4f8b-4ea3-4389-8dab-c93a88043186",
   "metadata": {},
   "source": [
    "## Part 2"
   ]
  },
  {
   "cell_type": "markdown",
   "id": "b4837c19-89f0-4e38-b054-5660400ffbc1",
   "metadata": {},
   "source": [
    "We'll apply the same recursive method as above but now we throw in the concatenation operator in the inductive step."
   ]
  },
  {
   "cell_type": "code",
   "execution_count": 11,
   "id": "c375ce89-fa45-4e51-80be-8010c5fc77f3",
   "metadata": {},
   "outputs": [],
   "source": [
    "memoization_table2 = {}\n",
    "def get_combinations2(nums):\n",
    "    if len(nums) == 1:\n",
    "        return set(nums)\n",
    "    last = nums[-1]\n",
    "    subtuple = nums[:-1]\n",
    "    if subtuple in memoization_table2.keys():\n",
    "        rest = memoization_table2[subtuple]\n",
    "    else:\n",
    "        rest = get_combinations2(subtuple)\n",
    "        memoization_table[subtuple] = rest\n",
    "    return set(last + combination for combination in rest) | set(last * combination for combination in rest) | set(int(str(combination) + str(last)) for combination in rest)"
   ]
  },
  {
   "cell_type": "code",
   "execution_count": 12,
   "id": "2d0221bb-bfd0-42eb-8e47-cc354ebddd6d",
   "metadata": {},
   "outputs": [
    {
     "data": {
      "text/plain": [
       "337041851384440"
      ]
     },
     "execution_count": 12,
     "metadata": {},
     "output_type": "execute_result"
    }
   ],
   "source": [
    "total = 0\n",
    "for equation in equations:\n",
    "    test_value = equation['test_value']\n",
    "    nums = equation['nums']\n",
    "    if test_value in get_combinations2(nums):\n",
    "        total += test_value\n",
    "total"
   ]
  },
  {
   "cell_type": "markdown",
   "id": "5a1d8608-dcdd-4018-93a3-426e61c57b59",
   "metadata": {
    "jp-MarkdownHeadingCollapsed": true
   },
   "source": [
    "# [Day 8: Resonant Collinearity](https://adventofcode.com/2024/day/8)"
   ]
  },
  {
   "cell_type": "code",
   "execution_count": 2,
   "id": "3fb69d59-78ac-426a-8fd4-f6059d386897",
   "metadata": {},
   "outputs": [],
   "source": [
    "file = open('input8.txt', 'r')\n",
    "input_text = file.read()\n",
    "file.close()"
   ]
  },
  {
   "cell_type": "markdown",
   "id": "c46a125d-d388-47c7-baa0-8828e1e1c56b",
   "metadata": {},
   "source": [
    "## Part 1"
   ]
  },
  {
   "cell_type": "code",
   "execution_count": 3,
   "id": "09723a8c-0b1b-415a-b1ba-17f82384af9e",
   "metadata": {},
   "outputs": [],
   "source": [
    "def read_grid(input_text):\n",
    "    lines = input_text.strip().splitlines()\n",
    "    grid = []\n",
    "    for line in lines:\n",
    "        row = []\n",
    "        for char in line:\n",
    "            row.append(char)\n",
    "        grid.append(row)\n",
    "    return grid"
   ]
  },
  {
   "cell_type": "code",
   "execution_count": 4,
   "id": "53c41a94-08ee-4fad-9ddf-1175e9dbfddd",
   "metadata": {},
   "outputs": [],
   "source": [
    "grid = read_grid(input_text)"
   ]
  },
  {
   "cell_type": "markdown",
   "id": "03d85b64-c97f-42a5-be5a-a6c3b6590351",
   "metadata": {},
   "source": [
    "First, for each unique character/frequency, we'll get a **list of coordinates** where that character appears."
   ]
  },
  {
   "cell_type": "code",
   "execution_count": 6,
   "id": "db01d45f-16e8-4989-bbdc-4dd4d64ed2c4",
   "metadata": {},
   "outputs": [],
   "source": [
    "def get_character_positions(grid):\n",
    "    character_positions = {}\n",
    "    for i, row in enumerate(grid):\n",
    "        for j, value in enumerate(row):\n",
    "            if value == \".\":\n",
    "                continue\n",
    "            if value in character_positions.keys():\n",
    "                character_positions[value].add((i,j))\n",
    "            else:\n",
    "                character_positions[value] = {(i,j)}\n",
    "    return character_positions"
   ]
  },
  {
   "cell_type": "code",
   "execution_count": 7,
   "id": "963e7149-e0d5-4ddd-90a9-ea2ab23f4389",
   "metadata": {},
   "outputs": [],
   "source": [
    "character_positions = get_character_positions(grid)"
   ]
  },
  {
   "cell_type": "markdown",
   "id": "2ec191c7-7dc4-4411-81da-fe31de84efc1",
   "metadata": {},
   "source": [
    "We're given that an antinode only occurs when it's **aligned with two antennas of the same frequency**, and the **distance from one of the antennas is twice as far as the distance from the other antenna**. So for every pair of antennas $a_1, a_2 \\in \\mathbb{Z}^2$ with the same frequency, the two possible antinodes will be $(a_2 - a_1) + a_2$ and $a_1 - (a_2 - a_1)$. Thus, for any such pair, we just check if these two coordinates are in the bounds of our grid."
   ]
  },
  {
   "cell_type": "code",
   "execution_count": 8,
   "id": "f2372ab5-e9ae-4694-8077-0b374fb28b98",
   "metadata": {},
   "outputs": [],
   "source": [
    "def is_valid_coord(coordinates):\n",
    "    return coordinates[0] >= 0 and coordinates[1] >= 0 and coordinates[0] < len(grid) and coordinates[1] < len(grid[0])\n",
    "\n",
    "def get_antinodes(antennas):\n",
    "    antinodes = set()\n",
    "    antennas_np = [np.array(antenna) for antenna in antennas]\n",
    "    pairs = itertools.combinations(antennas_np, 2)\n",
    "    for combo in pairs:\n",
    "        p1, p2 = combo\n",
    "        difference = p2 - p1\n",
    "        antinode1 = p1 - difference\n",
    "        antinode2 = p2 + difference\n",
    "        \n",
    "        if is_valid_coord(antinode1):\n",
    "            antinodes.add(tuple(antinode1))\n",
    "        if is_valid_coord(antinode2):\n",
    "            antinodes.add(tuple(antinode2))\n",
    "    return antinodes"
   ]
  },
  {
   "cell_type": "code",
   "execution_count": 9,
   "id": "8b081dd5-1bb8-4e27-97ad-546301b1ea0b",
   "metadata": {},
   "outputs": [
    {
     "data": {
      "text/plain": [
       "289"
      ]
     },
     "execution_count": 9,
     "metadata": {},
     "output_type": "execute_result"
    }
   ],
   "source": [
    "antinodes = set()\n",
    "for char in character_positions.keys():\n",
    "    antinodes = antinodes | get_antinodes(character_positions[char])\n",
    "len(antinodes)"
   ]
  },
  {
   "cell_type": "markdown",
   "id": "f3baade5-d2b0-4451-a78f-2a8c7c54cf92",
   "metadata": {},
   "source": [
    "## Part 2"
   ]
  },
  {
   "cell_type": "markdown",
   "id": "07c9dfab-b4b5-4890-b6c9-cbaa48a99da9",
   "metadata": {},
   "source": [
    "For part 2, antinodes can occur at **any point that is collinear** with two antennas of the same frequency. Thus, for any pair of same-frequency antennas $a_1, a_2$, we can parametrize the line they lie on to enumerate all integer points on this line. We again look at the difference vector $a_2 - a_1$, but to ensure we attain all possible integer values on this line, we need to scale down by the $\\gcd$ of its $x$ and $y$ coordinates. As before, we only have to do this for points that fit within the bounds of our grid."
   ]
  },
  {
   "cell_type": "code",
   "execution_count": 13,
   "id": "a0be2d53-6d77-4248-a80a-4d3f9b3aa4cb",
   "metadata": {},
   "outputs": [],
   "source": [
    "def get_antinodes_2(antennas):\n",
    "    antinodes = set()\n",
    "    antennas_np = [np.array(antenna) for antenna in antennas]\n",
    "    pairs = itertools.combinations(antennas_np, 2)\n",
    "    for combo in pairs:\n",
    "        p1, p2 = combo\n",
    "        difference = p2 - p1\n",
    "        gcd = math.gcd(int(difference[0]), int(difference[1]))\n",
    "        difference = ((1/gcd)*difference).astype(int)\n",
    "        \n",
    "        current = copy.deepcopy(p1)\n",
    "        while is_valid_coord(current):\n",
    "            antinodes.add(tuple(current))\n",
    "            current += difference\n",
    "\n",
    "        current = copy.deepcopy(p1)\n",
    "        while is_valid_coord(current):\n",
    "            antinodes.add(tuple(current))\n",
    "            current -= difference\n",
    "\n",
    "    return antinodes"
   ]
  },
  {
   "cell_type": "code",
   "execution_count": 14,
   "id": "fc0004b0-5595-4756-b754-1cc1e2a696fb",
   "metadata": {},
   "outputs": [
    {
     "data": {
      "text/plain": [
       "1030"
      ]
     },
     "execution_count": 14,
     "metadata": {},
     "output_type": "execute_result"
    }
   ],
   "source": [
    "antinodes = set()\n",
    "for char in character_positions.keys():\n",
    "    antinodes = antinodes | get_antinodes_2(character_positions[char])\n",
    "len(antinodes)"
   ]
  },
  {
   "cell_type": "markdown",
   "id": "43d5c46a-4d23-4e29-ae87-f4889a7843b7",
   "metadata": {
    "jp-MarkdownHeadingCollapsed": true
   },
   "source": [
    "# Day 9"
   ]
  },
  {
   "cell_type": "code",
   "execution_count": null,
   "id": "09bc025f-c071-4348-a194-58fe5452231f",
   "metadata": {},
   "outputs": [],
   "source": []
  },
  {
   "cell_type": "markdown",
   "id": "691a4fa7-875a-4670-9ad9-570edb2441b1",
   "metadata": {
    "jp-MarkdownHeadingCollapsed": true
   },
   "source": [
    "# [Day 10: Hoof It](https://adventofcode.com/2024/day/10)"
   ]
  },
  {
   "cell_type": "markdown",
   "id": "6eced34a-892f-419a-b71d-301b081f12b5",
   "metadata": {},
   "source": [
    "## Part 1"
   ]
  },
  {
   "cell_type": "code",
   "execution_count": 2,
   "id": "b6814a3f-38ab-4077-a9ce-2e50476d4bff",
   "metadata": {},
   "outputs": [],
   "source": [
    "file = open('input10.txt', 'r')\n",
    "input_text = file.read()\n",
    "file.close()"
   ]
  },
  {
   "cell_type": "code",
   "execution_count": 3,
   "id": "9b78a25b-8e6b-463d-8461-238795c4854d",
   "metadata": {},
   "outputs": [],
   "source": [
    "def read_map(input_text):\n",
    "    lines = input_text.strip().splitlines()\n",
    "\n",
    "    # Add a buffer to the sides of the map\n",
    "    topographic_map = [[11 for i in range(len(lines[0])+2)]]\n",
    "    \n",
    "    for row_index, line in enumerate(lines):\n",
    "        row = [11]\n",
    "        for col_index, char in enumerate(line):\n",
    "            if char == \".\":\n",
    "                row.append(-1)\n",
    "            else:\n",
    "                row.append(int(char))   \n",
    "        row.append(11)\n",
    "        topographic_map.append(row)\n",
    "    topographic_map.append([11 for i in range(len(lines[0])+2)])\n",
    "    return topographic_map"
   ]
  },
  {
   "cell_type": "markdown",
   "id": "f9d8ab16-7cbe-4fb6-ae1b-417742b57fe0",
   "metadata": {},
   "source": [
    "We can view our topographic map as a directed graph $G = (V,A)$ with vertices $V = \\{(i,j) \\ | \\ 1 \\leq i \\leq \\text{\\# of rows}, \\ 1 \\leq j \\leq \\text{\\# of cols} \\}$. A pair $((i,j), (k,l))$ is an arc when $(i,j)$ and $(k,l)$ are vertical or horizontal neighbors and the height at $(i,j)$ is exactly one less than the height at $(k,l)$.\n",
    "\n",
    "Then to find the **score of a trailhead** with height $0$, we can apply breadth-first search (BFS) to find all reachable vertices in $G$ and count the number of distinct vertices with height $9$ that are reachable."
   ]
  },
  {
   "cell_type": "code",
   "execution_count": 4,
   "id": "e5c93dd5-c40e-4212-b584-c588f4f1fce5",
   "metadata": {},
   "outputs": [],
   "source": [
    "topographic_map = read_map(input_text)"
   ]
  },
  {
   "cell_type": "code",
   "execution_count": 5,
   "id": "6d5800f6-9724-4c31-b001-1859ea640c3a",
   "metadata": {},
   "outputs": [],
   "source": [
    "directions = [np.array(direction) for direction in [(-1,0),(0,1),(1,0),(0,-1)]]\n",
    "\n",
    "def bfs(start):\n",
    "    # Initialize every vertex except the start is unreachable\n",
    "    reachable = [[0 for i in range(len(topographic_map[0]))] for j in range(len(topographic_map))]\n",
    "    reachable[start[0]][start[1]] = 1 \n",
    "\n",
    "    # Now explore the neighbors of every reachable vertex whose neighbors we haven't visited before\n",
    "    queue = [start]\n",
    "    while len(queue) > 0: \n",
    "        current_node = queue[0]\n",
    "        reachable[current_node[0]][current_node[1]] = 1\n",
    "        for direction in directions:\n",
    "            neighbor = current_node + direction\n",
    "            if topographic_map[neighbor[0]][neighbor[1]] == (topographic_map[current_node[0]][current_node[1]] + 1):\n",
    "                queue.append(neighbor)\n",
    "        queue.pop(0)\n",
    "    return reachable"
   ]
  },
  {
   "cell_type": "markdown",
   "id": "296c6b82-69ba-4be2-b7eb-04b4e93753f7",
   "metadata": {},
   "source": [
    "The above function implements BFS, so now let's get the indices of all the $0$-height and $9$-height values and apply our algorithm to every trailhead."
   ]
  },
  {
   "cell_type": "code",
   "execution_count": 6,
   "id": "f7a5c3c4-f3bb-41b3-b1b9-ee4bd4b7f703",
   "metadata": {},
   "outputs": [],
   "source": [
    "def get_indices_of_value(value):\n",
    "    return [(i,j) for i, row in enumerate(topographic_map) for j, elt in enumerate(row) if elt == value]"
   ]
  },
  {
   "cell_type": "code",
   "execution_count": 7,
   "id": "5646a220-3b03-4b8f-8583-d501eea5a7b4",
   "metadata": {},
   "outputs": [],
   "source": [
    "zeroes = get_indices_of_value(0)\n",
    "nines = get_indices_of_value(9)"
   ]
  },
  {
   "cell_type": "code",
   "execution_count": 8,
   "id": "02a5d92c-c165-4ed7-a584-6be10c1f0e11",
   "metadata": {},
   "outputs": [],
   "source": [
    "scores = {}\n",
    "for zero in zeroes:\n",
    "    scores[zero] = []\n",
    "    reachable = bfs(np.array(zero))\n",
    "    for nine in nines:\n",
    "        if reachable[nine[0]][nine[1]]:\n",
    "            scores[zero].append(nine)"
   ]
  },
  {
   "cell_type": "code",
   "execution_count": 9,
   "id": "8d941a65-ba1c-48ca-98c4-4deca9b140c1",
   "metadata": {},
   "outputs": [
    {
     "data": {
      "text/plain": [
       "550"
      ]
     },
     "execution_count": 9,
     "metadata": {},
     "output_type": "execute_result"
    }
   ],
   "source": [
    "sum([len(score) for score in scores.values()])"
   ]
  },
  {
   "cell_type": "markdown",
   "id": "36ac49a2-26b7-4fd4-843d-c4967e6715e3",
   "metadata": {},
   "source": [
    "## Part 2"
   ]
  },
  {
   "cell_type": "markdown",
   "id": "d19c0663-a5f2-40a6-b717-1d3c96ba5419",
   "metadata": {},
   "source": [
    "To find the number of **distinct paths** between a $0$-height position and a $9$-height position, we can use our standard path-counting algorithm. If `count_paths(u,v)` gives us the number of directed paths between vertices $u,v \\in V$, we can look at all the neighbors $w_1, \\ldots w_k$ of $v$ such that $(w_i, v) \\in A$. Then \n",
    "\n",
    "`count_paths(u,v) = count_paths(u,w1) + ... + count_paths(u,wk)`. \n",
    "\n",
    "Alright, let's implement this. Again, not sure if memoization is necessary for this size of map, but it won't hurt."
   ]
  },
  {
   "cell_type": "code",
   "execution_count": 10,
   "id": "43b5618e-e3f0-4cdc-a5a6-5457987e1430",
   "metadata": {},
   "outputs": [],
   "source": [
    "memoization_table = {}\n",
    "def count_paths(start, end):\n",
    "    # Base case\n",
    "    if (topographic_map[end[0]][end[1]] == topographic_map[start[0]][start[1]] + 1) and any(np.array_equal(end, start + direction) for direction in directions):\n",
    "        return 1\n",
    "\n",
    "    # Recursive step\n",
    "    total = 0\n",
    "    for direction in directions:\n",
    "        neighbor = end + direction\n",
    "        if topographic_map[neighbor[0]][neighbor[1]] == topographic_map[end[0]][end[1]] - 1:\n",
    "            key = tuple(np.concatenate((start, neighbor), axis=None))\n",
    "            if key in memoization_table.keys():\n",
    "                neighbor_count = memoization_table[key]\n",
    "            else:\n",
    "                neighbor_count = count_paths(start, neighbor)\n",
    "                memoization_table[key] = neighbor_count\n",
    "            total += neighbor_count\n",
    "    return total"
   ]
  },
  {
   "cell_type": "markdown",
   "id": "b0ba5316-2b01-400e-a57a-f761a3970cc0",
   "metadata": {},
   "source": [
    "Now we just run this function between each trailhead and trailtop."
   ]
  },
  {
   "cell_type": "code",
   "execution_count": 11,
   "id": "78e7c182-37c9-416c-ade9-f90571cced35",
   "metadata": {},
   "outputs": [],
   "source": [
    "total = 0\n",
    "for zero in scores.keys():\n",
    "    for nine in scores[zero]:\n",
    "        total += count_paths(zero, nine)"
   ]
  },
  {
   "cell_type": "code",
   "execution_count": 12,
   "id": "59d6d0dc-e2f2-482f-b404-8262308664ac",
   "metadata": {},
   "outputs": [
    {
     "data": {
      "text/plain": [
       "1255"
      ]
     },
     "execution_count": 12,
     "metadata": {},
     "output_type": "execute_result"
    }
   ],
   "source": [
    "total"
   ]
  },
  {
   "cell_type": "markdown",
   "id": "5e59fa8d-3e8b-4f28-8626-19f5bdd64ebe",
   "metadata": {
    "jp-MarkdownHeadingCollapsed": true
   },
   "source": [
    "# [Day 11: Plutonian Pebbles](https://adventofcode.com/2024/day/11)"
   ]
  },
  {
   "cell_type": "markdown",
   "id": "0d4d542b-309b-49be-9cb7-4d7dca1813ac",
   "metadata": {},
   "source": [
    "## Part 1"
   ]
  },
  {
   "cell_type": "code",
   "execution_count": 2,
   "id": "6f344155-046f-41b0-8829-7e7335281887",
   "metadata": {},
   "outputs": [],
   "source": [
    "file = open('input11.txt', 'r')\n",
    "input_text = file.read()\n",
    "file.close()"
   ]
  },
  {
   "cell_type": "code",
   "execution_count": 3,
   "id": "41183ab0-763a-4b98-81b1-720f9a704e74",
   "metadata": {},
   "outputs": [],
   "source": [
    "stones = [int(stone) for stone in input_text.strip().split(' ')]"
   ]
  },
  {
   "cell_type": "markdown",
   "id": "978474e3-dfc5-4329-9c8a-8d0430c23c36",
   "metadata": {},
   "source": [
    "Since each stone changes **simultaneously** by the **same rules**, we can apply the appropriate to change to each stone individually in order and place all the results in a list. Then we just repeat this 25 times to get our final answer."
   ]
  },
  {
   "cell_type": "code",
   "execution_count": 4,
   "id": "d3237b4e-7e32-407c-90cb-a10abac99d2f",
   "metadata": {},
   "outputs": [],
   "source": [
    "def change(stone):\n",
    "    if stone == 0:\n",
    "        return [1]\n",
    "    s = str(stone)\n",
    "    if len(s) % 2 == 0:\n",
    "        return [int(s[:int(len(s)/2)]), int(s[int(len(s)/2):])]\n",
    "    return [stone*2024]\n",
    "\n",
    "def blink(stones):\n",
    "    new_stones = []\n",
    "    for stone in stones:\n",
    "        new_stones += change(stone)\n",
    "    return new_stones"
   ]
  },
  {
   "cell_type": "code",
   "execution_count": 5,
   "id": "e48ecfe0-b80e-48fc-af77-7a56bf95222e",
   "metadata": {},
   "outputs": [],
   "source": [
    "stones_temp = [stone for stone in stones]\n",
    "for i in range(0,25):\n",
    "    stones_temp = blink(stones_temp)"
   ]
  },
  {
   "cell_type": "code",
   "execution_count": 6,
   "id": "024f9202-e37c-4141-9519-57b0a5392b66",
   "metadata": {},
   "outputs": [
    {
     "data": {
      "text/plain": [
       "186203"
      ]
     },
     "execution_count": 6,
     "metadata": {},
     "output_type": "execute_result"
    }
   ],
   "source": [
    "len(stones_temp)"
   ]
  },
  {
   "cell_type": "markdown",
   "id": "2ed87403-b07f-462e-be07-6da3e9d2ca8a",
   "metadata": {},
   "source": [
    "## Part 2"
   ]
  },
  {
   "cell_type": "markdown",
   "id": "16c2677c-eb36-4b24-aae1-907de47eae53",
   "metadata": {},
   "source": [
    "Since blinking will cause the number of stones to **potentially double**, the number of times we have to run `change` grows **exponentially** in the worst case. So it's probably not the best idea to try and apply the same strategy as before 75 times. Instead, we notice that whenever we change our stones, we have the potential to produce a stone with a number we have already seen before. Thus, we can use recursion + memoization to reduce the number of times we need to call `change`. \n",
    "\n",
    "If we have `stones = [s1, s2, ..., sk]`, and we want to count the number of stones after $n$ blinks, we can use the recursive computation:\n",
    "\n",
    "`count_stones(stones, n) = count_stones(s1, n-1) + count_stones(s2, n-1) + ... + counts_stones(sk, n-1)` for $n > 1$, and\n",
    "\n",
    "`count_stones(stones, 1) = len(blink(stones))` for $n = 1$."
   ]
  },
  {
   "cell_type": "code",
   "execution_count": 7,
   "id": "619e7ce1-6490-41cf-b218-48dae287a456",
   "metadata": {},
   "outputs": [],
   "source": [
    "memoization_table = {}\n",
    "\n",
    "def count_stones(stones, n):\n",
    "    # If we're only blinking once, we just use our original blink method\n",
    "    if n == 1:\n",
    "        return len(blink(stones))\n",
    "        \n",
    "    total = 0\n",
    "    for stone in stones:\n",
    "        if (stone, n-1) in memoization_table.keys():\n",
    "            total += memoization_table[(stone,n-1)]\n",
    "        else:\n",
    "            memoization_table[(stone,n-1)] = count_stones(change(stone), n-1)\n",
    "            total += memoization_table[(stone,n-1)]\n",
    "    return total"
   ]
  },
  {
   "cell_type": "code",
   "execution_count": 8,
   "id": "fdb52755-3d69-43c8-8495-d0a09a7f36cd",
   "metadata": {},
   "outputs": [
    {
     "data": {
      "text/plain": [
       "221291560078593"
      ]
     },
     "execution_count": 8,
     "metadata": {},
     "output_type": "execute_result"
    }
   ],
   "source": [
    "count_stones(stones, 75)"
   ]
  },
  {
   "cell_type": "markdown",
   "id": "0eac9a20-5182-48f8-9fe1-fdaaabd6af22",
   "metadata": {},
   "source": [
    "Now that we successfully implemented our recursive approach, we can see how many calls to `change` we saved."
   ]
  },
  {
   "cell_type": "code",
   "execution_count": 9,
   "id": "a5fa9d75-8c1f-4d80-9d3d-dffc8d9ede94",
   "metadata": {},
   "outputs": [
    {
     "data": {
      "text/plain": [
       "121273"
      ]
     },
     "execution_count": 9,
     "metadata": {},
     "output_type": "execute_result"
    }
   ],
   "source": [
    "len(memoization_table)"
   ]
  },
  {
   "cell_type": "markdown",
   "id": "7051c4ac-1f49-4ac9-9c5f-bd53f8d6a104",
   "metadata": {},
   "source": [
    "Since our memoization table only has `121273` distinct values, and we memoized every value we computed, this is roughly equal to the number of times we called `change` (not accounting for the times in the `blink` calls). On the other hand, if we just recursively applied `blink`, we would have had to call `change` for every stone in our list of stones after blinks 1 through 74. So to count the number of calls to `change` we would have made in our iterative approach, we just sum up the number of stones after $i$ blinks for $1 \\leq i \\leq 74$."
   ]
  },
  {
   "cell_type": "code",
   "execution_count": 10,
   "id": "42828352-1cef-47e5-86b4-f70093acd8b6",
   "metadata": {
    "scrolled": true
   },
   "outputs": [
    {
     "data": {
      "text/plain": [
       "280740494459387"
      ]
     },
     "execution_count": 10,
     "metadata": {},
     "output_type": "execute_result"
    }
   ],
   "source": [
    "total_change_calls = 0\n",
    "for i in range(1, 74):\n",
    "    total_change_calls += count_stones(stones, i)\n",
    "total_change_calls"
   ]
  },
  {
   "cell_type": "markdown",
   "id": "11edf3d4-abcc-47f9-bc5a-1dd73d781dc4",
   "metadata": {},
   "source": [
    "Wow, I'm no math PhD - I'm just a math PhD student - but I can say with confidence that $280740494459387 - 121273 = 280740494282105$ is a large number of extra calls. Just something I learned in my studies."
   ]
  },
  {
   "cell_type": "markdown",
   "id": "dd635781-fae3-4228-b7c8-93321c260c86",
   "metadata": {
    "jp-MarkdownHeadingCollapsed": true
   },
   "source": [
    "# [Day 12: Garden Groups](https://adventofcode.com/2024/day/12)"
   ]
  },
  {
   "cell_type": "markdown",
   "id": "e95ee7b1-719b-4d85-b42c-98636df95246",
   "metadata": {},
   "source": [
    "## Part 1"
   ]
  },
  {
   "cell_type": "code",
   "execution_count": 2,
   "id": "14e7f1e6-1d14-44be-9e67-6c59076c30d0",
   "metadata": {},
   "outputs": [],
   "source": [
    "file = open('input12.txt', 'r')\n",
    "input_text = file.read()\n",
    "file.close()"
   ]
  },
  {
   "cell_type": "code",
   "execution_count": 3,
   "id": "72244476-710b-4793-a94d-13b02b6baecb",
   "metadata": {},
   "outputs": [],
   "source": [
    "def read_farm(input_text):\n",
    "    lines = input_text.strip().splitlines()\n",
    "    \n",
    "    farm = [['.' for i in range(len(lines[0])+2)]]\n",
    "    for row_index, line in enumerate(lines):\n",
    "        row = ['.']\n",
    "        for col_index, char in enumerate(line):\n",
    "            row.append(char) \n",
    "        row.append('.')\n",
    "        farm.append(row)\n",
    "    farm.append(['.' for i in range(len(lines[0])+2)])\n",
    "    return farm"
   ]
  },
  {
   "cell_type": "code",
   "execution_count": 4,
   "id": "659b07a9-c036-4c24-acd5-a6fa6b1d5eb6",
   "metadata": {},
   "outputs": [],
   "source": [
    "farm = read_farm(input_text)"
   ]
  },
  {
   "cell_type": "markdown",
   "id": "429cbfff-941e-4a8a-806a-24f3f8432b6d",
   "metadata": {},
   "source": [
    "First, let's get our regions. Similar to our approach in **Day 10**, we can view our farm as a graph $G = (V,E)$ where the vertices are our plots and the edges are between adjacent plots of the same plant. Then the **regions of our farm are precisely the connected components** of $G$, which we can compute using BFS."
   ]
  },
  {
   "cell_type": "code",
   "execution_count": 5,
   "id": "ab5643ff-63c0-43f0-a864-352bf4b6d718",
   "metadata": {},
   "outputs": [],
   "source": [
    "directions = [np.array(direction) for direction in [(-1,0),(0,1),(1,0),(0,-1)]]\n",
    "\n",
    "def get_region(start):\n",
    "    reachable = set()\n",
    "    queue = [start]\n",
    "    reachable.add(tuple(start))\n",
    "    while len(queue) > 0:\n",
    "        current_node = queue[0]\n",
    "        for direction in directions:\n",
    "            neighbor = current_node + direction\n",
    "            if farm[neighbor[0]][neighbor[1]] == farm[current_node[0]][current_node[1]] and tuple(neighbor) not in reachable:\n",
    "                queue.append(neighbor)\n",
    "                reachable.add(tuple(neighbor))\n",
    "        queue.pop(0)\n",
    "    return reachable"
   ]
  },
  {
   "cell_type": "markdown",
   "id": "6ebcf167-adb3-4e93-8d9e-7b790b1ca2a1",
   "metadata": {},
   "source": [
    "Now that we've implemented a function to give us the region that a plot is contained in, we need to compute the perimeter of a given region. We observe that the perimeter of a region is the **sum of all sides of plots that do not border another plot in the region**. In terms of our graph, let $R = (V', E')$ be the connected component corresponding to our region. Then the perimeter of $R$ is $4|V'| - 2|E'|$ since each plot has four sides and every edge represents a pair of bordering plots."
   ]
  },
  {
   "cell_type": "code",
   "execution_count": 6,
   "id": "164e9a3d-b77b-4d1c-9192-99e6137b83f9",
   "metadata": {},
   "outputs": [],
   "source": [
    "def count_neighbors(region):\n",
    "    total = 0\n",
    "    for plot in region:\n",
    "        for direction in directions:\n",
    "            neighbor = plot + direction\n",
    "            total = total + 1 if farm[neighbor[0]][neighbor[1]] == farm[plot[0]][plot[1]] else total\n",
    "    return total\n",
    "\n",
    "def get_perimeter(region):\n",
    "    return 4 * len(region) - count_neighbors(region)"
   ]
  },
  {
   "cell_type": "markdown",
   "id": "a118fbb0-1b25-455b-bb07-562bdd52835d",
   "metadata": {},
   "source": [
    "Note that in our implementation, `count_neighbors` actually gives us the sum of degrees of vertices in our region $R$, which is equal to $2|E'|$."
   ]
  },
  {
   "cell_type": "markdown",
   "id": "496e819e-52da-4369-b1f3-12cc9ccb3a32",
   "metadata": {},
   "source": [
    "Finally, we get all the regions on our farm and compute the price of the fence around each region."
   ]
  },
  {
   "cell_type": "code",
   "execution_count": 7,
   "id": "a26cf807-22d1-48d4-a0bd-44311a54d43b",
   "metadata": {},
   "outputs": [],
   "source": [
    "regions = []\n",
    "visited = set()\n",
    "\n",
    "for i, row in enumerate(farm):\n",
    "    for j, char in enumerate(row):\n",
    "        if char == '.':\n",
    "            continue\n",
    "        if (i,j) not in visited:\n",
    "            region = get_region(np.array([i,j]))\n",
    "            regions.append(region)\n",
    "            visited = visited | region"
   ]
  },
  {
   "cell_type": "code",
   "execution_count": 8,
   "id": "37cf6673-3b0f-49dd-9ca4-d36823e99f33",
   "metadata": {},
   "outputs": [
    {
     "data": {
      "text/plain": [
       "1344578"
      ]
     },
     "execution_count": 8,
     "metadata": {},
     "output_type": "execute_result"
    }
   ],
   "source": [
    "price = 0\n",
    "for region in regions:\n",
    "    price += len(region) * get_perimeter(region)\n",
    "price"
   ]
  },
  {
   "cell_type": "markdown",
   "id": "c1a6e9e4-8a6a-4353-ac24-9ce3b601a395",
   "metadata": {},
   "source": [
    "## Part 2"
   ]
  },
  {
   "cell_type": "markdown",
   "id": "5da48f0f-a847-4ec4-982d-8fe1fa5b4fb0",
   "metadata": {},
   "source": [
    "To compute the number of sides in our region, we can compute the number of **vertical sides in each column** and the number of **horizontal sides in each row**. Let's try to compute the number of sides in the **E region** in the following example:\n",
    "```\n",
    "EEEEE\n",
    "EXXXX\n",
    "EEEEE\n",
    "EXXXX\n",
    "EEEEE\n",
    "```\n",
    "Let's try and count the number of vertical sides in the **first column**. We first identify plots in our column whose **left/right neighbors are not in our region**. Then the number of left/right sides in this column is the **number of consecutive groups of plots** that we identified in the previous step. So to count the right sides in the first column, we identify the second and fourth plots from highest plots since those are the only plots whose right neighbor isn't in the E region. So our identified plots look like\n",
    "```\n",
    ".\n",
    "E\n",
    ".\n",
    "E\n",
    ".\n",
    "```\n",
    "which has **two consecutive groups** of plots (in this case each group only contains one plot). This means we have **two right edges** in the first column. To count the left edges in the first column, we identify every plot, since none of them have left neighbors inside the E region, so our identified plots look like\n",
    "```\n",
    "E\n",
    "E\n",
    "E\n",
    "E\n",
    "E\n",
    "```\n",
    "which has **one consecutive group** of plots. This gives us **one left edge** in the first column. For the second, third, and fourth columns, all E plots have left/right neighbors in the E region, so none of them contain left/right edges. In the last column, we have 0 left edges and 3 right edges.\n",
    "\n",
    "We can do the same with rows and top/bottom edges. For example, to compute the top edges of the first row `EEEEE`, we identify every plot as none of them have top neighbors in the E region. This gives us one consecutive group of plots for one top side. To compute the bottom edges, we identify every plot but the first one, so we get `.EEEE` which also only has one consecutive group of plots. Thus, the first row has **one top side** and **one bottom side**."
   ]
  },
  {
   "cell_type": "code",
   "execution_count": 9,
   "id": "8563abcf-3e12-4b39-be20-99ae01f6ef03",
   "metadata": {},
   "outputs": [],
   "source": [
    "def count_consecutive_ones(lst):\n",
    "    return len(list(filter(None, lst.split('0')))) \n",
    "\n",
    "def get_edges_in_col(vertical_window, col, region):\n",
    "    top = min(vertical_window)\n",
    "    bottom = max(vertical_window)\n",
    "    left = ''\n",
    "    right = ''\n",
    "    for row in range(top, bottom+1):\n",
    "        if row in vertical_window and (row, col-1) not in region:\n",
    "            left += '1'\n",
    "        else:\n",
    "            left += '0'\n",
    "\n",
    "        if row in vertical_window and (row, col+1) not in region:\n",
    "            right += '1'\n",
    "        else:\n",
    "            right += '0'\n",
    "    return count_consecutive_ones(left) + count_consecutive_ones(right)\n",
    "\n",
    "def get_edges_in_row(horizontal_window, row, region):\n",
    "    left = min(horizontal_window)\n",
    "    right = max(horizontal_window)\n",
    "    top = ''\n",
    "    bottom = ''\n",
    "    for col in range(left, right+1):\n",
    "        if col in horizontal_window and (row - 1, col) not in region:\n",
    "            top += '1'\n",
    "        else:\n",
    "            top += '0'\n",
    "\n",
    "        if col in horizontal_window and (row + 1, col) not in region:\n",
    "            bottom += '1'\n",
    "        else:\n",
    "            bottom += '0'\n",
    "    return count_consecutive_ones(top) + count_consecutive_ones(bottom)"
   ]
  },
  {
   "cell_type": "code",
   "execution_count": 10,
   "id": "16410493-56d9-4f4f-9e69-ec0eac9660d0",
   "metadata": {},
   "outputs": [],
   "source": [
    "def detect_vertical_edges(region):\n",
    "    left_border = min(region, key=lambda plot: plot[1])[1]\n",
    "    right_border = max(region, key=lambda plot: plot[1])[1]\n",
    "    total = 0\n",
    "    for col in range(left_border, right_border+1):\n",
    "        vertical_window = set([plot[0] for plot in region if plot[1] == col])\n",
    "        total += get_edges_in_col(vertical_window, col, region)\n",
    "    return total\n",
    "\n",
    "def detect_horizontal_edges(region):\n",
    "    top_border = min(region, key=lambda plot: plot[0])[0]\n",
    "    bottom_border = max(region, key=lambda plot: plot[0])[0]\n",
    "    total = 0\n",
    "    for row in range(top_border, bottom_border+1):\n",
    "        horizontal_window = set([plot[1] for plot in region if plot[0] == row])\n",
    "        total += get_edges_in_row(horizontal_window, row, region)\n",
    "    return total\n",
    "    "
   ]
  },
  {
   "cell_type": "code",
   "execution_count": 11,
   "id": "435cd181-a6ad-46f7-ab39-7be407fce0b7",
   "metadata": {},
   "outputs": [
    {
     "data": {
      "text/plain": [
       "814302"
      ]
     },
     "execution_count": 11,
     "metadata": {},
     "output_type": "execute_result"
    }
   ],
   "source": [
    "price = 0 \n",
    "for region in regions:\n",
    "    area = len(region)\n",
    "    sides = detect_vertical_edges(region) + detect_horizontal_edges(region)\n",
    "    price += area*sides\n",
    "price"
   ]
  },
  {
   "cell_type": "markdown",
   "id": "bce484e7-c0cf-42aa-8e93-c3723b6c8bee",
   "metadata": {
    "jp-MarkdownHeadingCollapsed": true
   },
   "source": [
    "# [Day 13: Claw Contraption](https://adventofcode.com/2024/day/13)"
   ]
  },
  {
   "cell_type": "markdown",
   "id": "c88bb449-ae8f-4bf3-a018-35801045be99",
   "metadata": {},
   "source": [
    "## Part 1"
   ]
  },
  {
   "cell_type": "code",
   "execution_count": 2,
   "id": "533d45e5-c47d-43dd-9956-9b6a2e43fd16",
   "metadata": {},
   "outputs": [],
   "source": [
    "file = open('input13.txt', 'r')\n",
    "input_text = file.read()\n",
    "file.close()"
   ]
  },
  {
   "cell_type": "markdown",
   "id": "ec919a7f-3762-43c2-8c03-42703c504dd5",
   "metadata": {},
   "source": [
    "This one is just linear algebra. For a given claw machine, let\n",
    "\n",
    "$a = \\begin{bmatrix} a_1 \\\\ a_2 \\end{bmatrix}$, $b = \\begin{bmatrix} b_1 \\\\ b_2 \\end{bmatrix}$, and $x = \\begin{bmatrix} x_1 \\\\ x_2 \\end{bmatrix} \\in \\mathbb{Z}^2$. \n",
    "\n",
    "The vectors **$a$ and $b$ represent the direction the claw moves after pressing button A and B respectively**, and the vector **$x$ is the location of our prize**. We can reprseent this as a system of equations $Ms = x$ where $s \\in \\mathbb{R}^2$, and \n",
    "\n",
    "$M = \\begin{bmatrix} a_1 & b_1 \\\\ a_2 & b_2 \\end{bmatrix}.$\n",
    "\n",
    "Since we can only move our claw with **non-negative integer linear combinations** of $a$ and $b$, we need to find a non-negative, integer-valued $s$ for us to be able to win the prize in our machine. If $M$ is **invertible**, then there is a **unique** $s$ satisfying the above system given by\n",
    "\n",
    "$s = M^{-1}x = \\frac{1}{\\det M} \\text{adj}(M) x = \\frac{1}{\\det M} \\begin{bmatrix} b_2 & -b_1 \\\\ -a_2 & a_1 \\end{bmatrix}x$.\n",
    "\n",
    "This corresponding combination of presses will **cost us $3 \\cdot s_1 + s_2$ tokens**. If $M$ isn't invertible, we'll have to think harder. But first, let's convert our input into systems of linear equations and deal with that later if we have to."
   ]
  },
  {
   "cell_type": "code",
   "execution_count": 3,
   "id": "5c116ff5-26a3-4b2a-89fb-a14455d07f8b",
   "metadata": {},
   "outputs": [],
   "source": [
    "import re\n",
    "def get_systems_of_linear_equations(input_text):\n",
    "    systems = []\n",
    "    groups = input_text.strip().split(\"\\n\\n\")\n",
    "    for group in groups:\n",
    "        lines = group.split(\"\\n\")\n",
    "        a_match = re.search(r\"X\\+(\\d+), Y\\+(\\d+)\", lines[0])\n",
    "        b_match = re.search(r\"X\\+(\\d+), Y\\+(\\d+)\", lines[1])\n",
    "        prize_match = re.search(r\"X\\=(\\d+), Y\\=(\\d+)\", lines[2])\n",
    "        \n",
    "        A = [int(a_match.group(1)), int(a_match.group(2))]\n",
    "        B = [int(b_match.group(1)), int(b_match.group(2))]\n",
    "        prize = [int(prize_match.group(1)), int(prize_match.group(2))]\n",
    "        systems.append((A,B,prize))\n",
    "    return systems"
   ]
  },
  {
   "cell_type": "code",
   "execution_count": 4,
   "id": "0a415794-77f3-4814-bc67-ddd19867380f",
   "metadata": {},
   "outputs": [],
   "source": [
    "systems = get_systems_of_linear_equations(input_text)"
   ]
  },
  {
   "cell_type": "markdown",
   "id": "31f71095-83fa-4289-b62d-96b8ce1c606c",
   "metadata": {},
   "source": [
    "Next, let's implement all the linear algebra formulas that we need."
   ]
  },
  {
   "cell_type": "code",
   "execution_count": 5,
   "id": "875f9ea3-21d6-4137-b970-43c2b16bed5e",
   "metadata": {},
   "outputs": [],
   "source": [
    "def determinant(A,B):\n",
    "    return A[0]*B[1] - B[0]*A[1]\n",
    "\n",
    "def adjugate(A, B, prize):\n",
    "    return [B[1] * prize[0] - B[0] * prize[1], -A[1] * prize[0] + A[0] * prize[1]]\n",
    "\n",
    "def token_price(solution):\n",
    "    return 3 * solution[0] + solution[1]"
   ]
  },
  {
   "cell_type": "markdown",
   "id": "7ee91dca-2233-4ce9-a098-ab101c3806cb",
   "metadata": {},
   "source": [
    "Let's check that all of these systems are invertible."
   ]
  },
  {
   "cell_type": "code",
   "execution_count": 6,
   "id": "7403e013-6dee-44b3-b178-14d484faacb3",
   "metadata": {},
   "outputs": [],
   "source": [
    "for system in systems:\n",
    "    A, B, _ = system\n",
    "    if determinant(A,B) == 0:\n",
    "        print(\"Think harder about this.\")\n",
    "        break"
   ]
  },
  {
   "cell_type": "markdown",
   "id": "c3f00442-d07d-4204-8d48-a2543a41bc8c",
   "metadata": {},
   "source": [
    "Great, we don't have to think any harder! Now we just solve each system of equation and get the cost of each non-negative, integer-valued solution."
   ]
  },
  {
   "cell_type": "code",
   "execution_count": 7,
   "id": "a219bd29-ac8f-4b19-bc6f-3f0bec8104a1",
   "metadata": {},
   "outputs": [],
   "source": [
    "tokens = 0\n",
    "for system in systems:\n",
    "    A, B, prize = system\n",
    "    adj = adjugate(A, B, prize)\n",
    "    det = determinant(A,B)\n",
    "    \n",
    "    integer_valued = all([coord % det == 0 for coord in adj])\n",
    "    \n",
    "    solution = [coord/det for coord in adj]\n",
    "    nonnegative = all([coord >= 0 for coord in solution])\n",
    "    if integer_valued and nonnegative:\n",
    "        tokens += token_price(solution)"
   ]
  },
  {
   "cell_type": "code",
   "execution_count": 8,
   "id": "0698cdf3-0c66-4630-9ada-fea7c47f1c51",
   "metadata": {},
   "outputs": [
    {
     "data": {
      "text/plain": [
       "33427.0"
      ]
     },
     "execution_count": 8,
     "metadata": {},
     "output_type": "execute_result"
    }
   ],
   "source": [
    "tokens"
   ]
  },
  {
   "cell_type": "markdown",
   "id": "a7f90ac0-9513-4f29-9e9f-b6781033cf31",
   "metadata": {},
   "source": [
    "*Aside: When I originally solved this, I used* `numpy` *arrays and* `numpy.linalg.solve` *, but I kept getting the occasional floating point error, which took me forever to fix for some reason. After wasting a bunch of time fixing that, I remembered that linear algebra in $\\mathbb{R}^2$ is really easy to implement without* `numpy`."
   ]
  },
  {
   "cell_type": "markdown",
   "id": "ed8d54f4-1931-4a77-ade0-2abcfb5fb9be",
   "metadata": {},
   "source": [
    "## Part 2"
   ]
  },
  {
   "cell_type": "markdown",
   "id": "d056aefe-4180-48f6-bc97-9f8bf606f882",
   "metadata": {},
   "source": [
    "This should be as easy as adding `10000000000000` to each coordinate of our prize and rerunning the same code as above."
   ]
  },
  {
   "cell_type": "code",
   "execution_count": 9,
   "id": "a3b96a55-133e-496e-8bb8-975dcfbc8298",
   "metadata": {},
   "outputs": [],
   "source": [
    "for system in systems:\n",
    "    prize = system[-1]\n",
    "    prize[0] += 10000000000000\n",
    "    prize[1] += 10000000000000"
   ]
  },
  {
   "cell_type": "code",
   "execution_count": 10,
   "id": "5d908b0a-1f19-4e67-82e0-c33a4358c875",
   "metadata": {},
   "outputs": [
    {
     "data": {
      "text/plain": [
       "91649162972270.0"
      ]
     },
     "execution_count": 10,
     "metadata": {},
     "output_type": "execute_result"
    }
   ],
   "source": [
    "tokens = 0\n",
    "for system in systems:\n",
    "    A, B, prize = system\n",
    "    adj = adjugate(A, B, prize)\n",
    "    det = determinant(A,B)\n",
    "    \n",
    "    integer_valued = all([coord % det == 0 for coord in adj])\n",
    "    \n",
    "    solution = [coord/det for coord in adj]\n",
    "    nonnegative = all([coord >= 0 for coord in solution])\n",
    "    if integer_valued and nonnegative:\n",
    "        tokens += token_price(solution)\n",
    "tokens"
   ]
  },
  {
   "cell_type": "markdown",
   "id": "d9d1fbe2-414a-4705-a62e-2b8570744986",
   "metadata": {},
   "source": [
    "Nice - it was as easy as adding `10000000000000` to each coordinate of our prize and rerunning the same code as above."
   ]
  },
  {
   "cell_type": "markdown",
   "id": "3fceb8a1-6003-42fb-9c33-c5bb872d209a",
   "metadata": {
    "jp-MarkdownHeadingCollapsed": true
   },
   "source": [
    "# [Day 14: Restroom Redoubt](https://adventofcode.com/2024/day/14)"
   ]
  },
  {
   "cell_type": "markdown",
   "id": "da869f02-9e47-4db4-b035-642a86d36dc8",
   "metadata": {},
   "source": [
    "## Part 1"
   ]
  },
  {
   "cell_type": "code",
   "execution_count": 2,
   "id": "fbe0a7a5-8fc9-4cd7-a7df-f58f369054a1",
   "metadata": {},
   "outputs": [],
   "source": [
    "file = open('input14.txt', 'r')\n",
    "input_text = file.read()\n",
    "file.close()"
   ]
  },
  {
   "cell_type": "code",
   "execution_count": 3,
   "id": "f75a4d0f-9ccf-4400-853b-cd011ec48168",
   "metadata": {},
   "outputs": [],
   "source": [
    "def get_robots(input_text):\n",
    "    robots = []\n",
    "    lines = input_text.strip().splitlines()\n",
    "    for line in lines:\n",
    "        position = re.search(r\"p=(-?\\d+),(-?\\d+)\", line)\n",
    "        velocity = re.search(r\"v=(-?\\d+),(-?\\d+)\", line)\n",
    "        robots.append({\n",
    "          'position': np.array([int(position.group(1)), int(position.group(2))]),\n",
    "          'velocity': np.array([int(velocity.group(1)), int(velocity.group(2))]),       \n",
    "        })\n",
    "    return robots"
   ]
  },
  {
   "cell_type": "code",
   "execution_count": 4,
   "id": "41b3b90d-872f-4424-92c7-ec030da4bae8",
   "metadata": {},
   "outputs": [],
   "source": [
    "robots = get_robots(input_text)"
   ]
  },
  {
   "cell_type": "markdown",
   "id": "e76b0740-d4f2-49a3-94e1-c424c18a8401",
   "metadata": {},
   "source": [
    "This first part shouldn't be too hard. We're given that the robots move in a **straight line**, and they **teleport between opposite edges**. Thus, for a robot with initial position $p_0$ and velocity $v$, its position after $t$ seconds will be $p_t = p_0 + t \\cdot v \\mod(101, 103)$. This is to say that we take the $x$ and $y$-coordinate of $p_0 + t \\cdot v$ modulo $101$ and $103$ respectively. \n",
    "\n",
    "*Side note: The inner topologist in me has the urge to point out that these robots are traveling on a torus.*"
   ]
  },
  {
   "cell_type": "code",
   "execution_count": 25,
   "id": "50a6f662-3917-4336-9fdd-7e90588ee4ad",
   "metadata": {},
   "outputs": [],
   "source": [
    "def get_position(robot, t, width, height):\n",
    "    new_pos = robot['position'] + t * robot['velocity']\n",
    "    return np.array([new_pos[0] % width, new_pos[1] % height])"
   ]
  },
  {
   "cell_type": "code",
   "execution_count": 26,
   "id": "4da7784a-4f45-4e38-8858-2bc1a0579542",
   "metadata": {},
   "outputs": [],
   "source": [
    "width = 101\n",
    "height = 103\n",
    "positions_t100 = [get_position(robot, 100, width, height) for robot in robots]"
   ]
  },
  {
   "cell_type": "markdown",
   "id": "5632ec24-20be-4435-a4a3-fcaf007010cc",
   "metadata": {},
   "source": [
    "After computing the position of each robot after 100 seconds, we need to calculate the safety factor of this arrangement of robots."
   ]
  },
  {
   "cell_type": "code",
   "execution_count": 27,
   "id": "6e219fb2-9537-4f27-8b50-1d468eb1c6bd",
   "metadata": {},
   "outputs": [],
   "source": [
    "arrangement = [[0 for j in range(width)] for i in range(height)]\n",
    "for position in positions_t100:\n",
    "    arrangement[position[1]][position[0]] += 1"
   ]
  },
  {
   "cell_type": "code",
   "execution_count": 28,
   "id": "af905356-03eb-4ff0-8bf1-667bad55ca23",
   "metadata": {},
   "outputs": [],
   "source": [
    "horizontal_mid = int((height-1)/2)\n",
    "vertical_mid = int((width-1)/2)\n",
    "top_left = [row[:vertical_mid] for row in arrangement[:horizontal_mid]]\n",
    "top_right = [row[vertical_mid+1:] for row in arrangement[:horizontal_mid]]\n",
    "bottom_left = [row[:vertical_mid] for row in arrangement[horizontal_mid+1:]]\n",
    "bottom_right = [row[vertical_mid+1:] for row in arrangement[horizontal_mid+1:]]\n",
    "quadrants = [top_left, top_right, bottom_left, bottom_right]"
   ]
  },
  {
   "cell_type": "code",
   "execution_count": 29,
   "id": "f671570a-c1cb-48bd-a0fb-ba17a238774f",
   "metadata": {},
   "outputs": [
    {
     "data": {
      "text/plain": [
       "232253028"
      ]
     },
     "execution_count": 29,
     "metadata": {},
     "output_type": "execute_result"
    }
   ],
   "source": [
    "total = 1\n",
    "for quadrant in quadrants:\n",
    "    total *= sum(map(sum, quadrant))\n",
    "total"
   ]
  },
  {
   "cell_type": "markdown",
   "id": "3b591047-97d3-4771-bc6f-28e14af2d78b",
   "metadata": {},
   "source": [
    "## Part 2"
   ]
  },
  {
   "cell_type": "markdown",
   "id": "58b39caa-cbb5-4377-9a88-5608e7b59346",
   "metadata": {},
   "source": [
    "Okay, we don't *exactly* know what the Christmas tree will look like (it may or may not take up the whole grid, it may or may not be shaded in, it may or may not be exactly symmetrical, etc.), so this will involve *some level of manual inspection*. Fortunately using **basic group theory** that everyone *for sure* learned in one math class or another, we can think of each of these robots being acted on by their velocity $v \\in \\mathbb{Z}_{101} \\times \\mathbb{Z}_{103}$. Fortunately, this means there are **at most** $101 \\cdot 103 = 10403$ distinct arrangements of robots before all the robots simultaneously loop back to their starting position. Unfortunately, $10403$ is a lot of arrangements to look at by eye. Even more unfortunate is that because $101$ and $103$ are both prime, any diagonal velocity will have order $10403$, meaning it's likely that we will have **exactly $10403$ distinct arrangements**.\n",
    "\n",
    "If we're gonna look at a bunch of arrangements manually, we might as well try and be smart about it. Intuitively, when the robots are in an arrangement that looks uniformly random, they should be **uniformly spread apart**. Conversely, if the robots are in an arrangement that form a structured image, we'd expect some level of **clustering** at certain points in the image.\n",
    "\n",
    "Note that the safety factor from Part 1 gives us a rough measure of this notion of **entropy** - the safety factor should be at its highest when the robots are evenly spread throughout the four quadrants, and it will decrease to 0 as any of the quadrants decrease to 0 robots. So hopefully if we sort all of our robot arrangements from time $t=0$ to $t=10402$ by lowest safety factor, the Christmas tree will show up close to the beginning of our list of $10403$ arrangements."
   ]
  },
  {
   "cell_type": "code",
   "execution_count": 10,
   "id": "9045ed21-3529-45c3-b640-b034a69a5cc6",
   "metadata": {},
   "outputs": [],
   "source": [
    "def get_safety_factor(area):\n",
    "    horizontal_mid = int((height-1)/2)\n",
    "    vertical_mid = int((width-1)/2)\n",
    "    top_left = [row[:vertical_mid] for row in area[:horizontal_mid]]\n",
    "    top_right = [row[vertical_mid+1:] for row in area[:horizontal_mid]]\n",
    "    bottom_left = [row[:vertical_mid] for row in area[horizontal_mid+1:]]\n",
    "    bottom_right = [row[vertical_mid+1:] for row in area[horizontal_mid+1:]]\n",
    "    quadrants = [top_left, top_right, bottom_left, bottom_right]\n",
    "    total = 1\n",
    "    for quadrant in quadrants:\n",
    "        total *= sum(map(sum, quadrant))\n",
    "    return total"
   ]
  },
  {
   "cell_type": "code",
   "execution_count": 11,
   "id": "6bec3c4a-28fd-4951-9366-ffe9fc6563ac",
   "metadata": {},
   "outputs": [],
   "source": [
    "robot_arrangements = []\n",
    "for t in range(0, 101*103):\n",
    "    area = [[0 for j in range(width)] for i in range(height)]\n",
    "    for position in [get_position(robot, t, width, height) for robot in robots]:\n",
    "        area[position[1]][position[0]] += 1\n",
    "    robot_arrangements.append((t, area))"
   ]
  },
  {
   "cell_type": "code",
   "execution_count": 12,
   "id": "940e2e33-0cf2-4dbf-9b8b-d71e867b0688",
   "metadata": {},
   "outputs": [],
   "source": [
    "robot_arrangements.sort(key=lambda x: get_safety_factor(x[1]))"
   ]
  },
  {
   "cell_type": "markdown",
   "id": "8059156f-71d4-427b-8124-740b3be9b434",
   "metadata": {},
   "source": [
    "Now that we've computed all of our possible robot arrangements by safety factor, we will try and visualize each arrangement as an image. We will create a black and white image where **white pixels represent a position that contains a robot**."
   ]
  },
  {
   "cell_type": "code",
   "execution_count": 13,
   "id": "2652928e-7e61-4474-91db-4747523883cc",
   "metadata": {},
   "outputs": [],
   "source": [
    "from PIL import Image\n",
    "def print_robot_positions(area):\n",
    "    im = Image.new(mode=\"RGB\", size=(width, height))\n",
    "    pixels = im.load()\n",
    "    for j in range(width):\n",
    "        for i in range(height):\n",
    "            if area[i][j] > 0:\n",
    "                pixels[j,i] = (255,255,255)\n",
    "    display(im)"
   ]
  },
  {
   "cell_type": "code",
   "execution_count": 19,
   "id": "dcf2598e-1a47-49c2-bfbc-a22725db7b07",
   "metadata": {},
   "outputs": [
    {
     "name": "stdout",
     "output_type": "stream",
     "text": [
      "0 8886\n"
     ]
    },
    {
     "data": {
      "image/jpeg": "[encoded data removed]",
      "image/png": "[encoded data removed]",
      "text/plain": [
       "<PIL.Image.Image image mode=RGB size=101x103>"
      ]
     },
     "metadata": {},
     "output_type": "display_data"
    },
    {
     "name": "stdout",
     "output_type": "stream",
     "text": [
      "\n",
      "1 8583\n"
     ]
    },
    {
     "data": {
      "image/jpeg": "[encoded data removed]",
      "image/png": "[encoded data removed]",
      "text/plain": [
       "<PIL.Image.Image image mode=RGB size=101x103>"
      ]
     },
     "metadata": {},
     "output_type": "display_data"
    },
    {
     "name": "stdout",
     "output_type": "stream",
     "text": [
      "\n",
      "2 200\n"
     ]
    },
    {
     "data": {
      "image/jpeg": "[encoded data removed]",
      "image/png": "[encoded data removed]",
      "text/plain": [
       "<PIL.Image.Image image mode=RGB size=101x103>"
      ]
     },
     "metadata": {},
     "output_type": "display_data"
    },
    {
     "name": "stdout",
     "output_type": "stream",
     "text": [
      "\n",
      "3 4442\n"
     ]
    },
    {
     "data": {
      "image/jpeg": "[encoded data removed]",
      "image/png": "[encoded data removed]",
      "text/plain": [
       "<PIL.Image.Image image mode=RGB size=101x103>"
      ]
     },
     "metadata": {},
     "output_type": "display_data"
    },
    {
     "name": "stdout",
     "output_type": "stream",
     "text": [
      "\n",
      "4 3836\n"
     ]
    },
    {
     "data": {
      "image/jpeg": "[encoded data removed]",
      "image/png": "[encoded data removed]",
      "text/plain": [
       "<PIL.Image.Image image mode=RGB size=101x103>"
      ]
     },
     "metadata": {},
     "output_type": "display_data"
    },
    {
     "name": "stdout",
     "output_type": "stream",
     "text": [
      "\n",
      "5 7876\n"
     ]
    },
    {
     "data": {
      "image/jpeg": "[encoded data removed]",
      "image/png": "[encoded data removed]",
      "text/plain": [
       "<PIL.Image.Image image mode=RGB size=101x103>"
      ]
     },
     "metadata": {},
     "output_type": "display_data"
    },
    {
     "name": "stdout",
     "output_type": "stream",
     "text": [
      "\n",
      "6 1917\n"
     ]
    },
    {
     "data": {
      "image/jpeg": "[encoded data removed]",
      "image/png": "[encoded data removed]",
      "text/plain": [
       "<PIL.Image.Image image mode=RGB size=101x103>"
      ]
     },
     "metadata": {},
     "output_type": "display_data"
    },
    {
     "name": "stdout",
     "output_type": "stream",
     "text": [
      "\n",
      "7 8381\n"
     ]
    },
    {
     "data": {
      "image/jpeg": "[encoded data removed]",
      "image/png": "[encoded data removed]",
      "text/plain": [
       "<PIL.Image.Image image mode=RGB size=101x103>"
      ]
     },
     "metadata": {},
     "output_type": "display_data"
    },
    {
     "name": "stdout",
     "output_type": "stream",
     "text": [
      "\n",
      "8 2321\n"
     ]
    },
    {
     "data": {
      "image/jpeg": "[encoded data removed]",
      "image/png": "[encoded data removed]",
      "text/plain": [
       "<PIL.Image.Image image mode=RGB size=101x103>"
      ]
     },
     "metadata": {},
     "output_type": "display_data"
    },
    {
     "name": "stdout",
     "output_type": "stream",
     "text": [
      "\n",
      "9 9492\n"
     ]
    },
    {
     "data": {
      "image/jpeg": "[encoded data removed]",
      "image/png": "[encoded data removed]",
      "text/plain": [
       "<PIL.Image.Image image mode=RGB size=101x103>"
      ]
     },
     "metadata": {},
     "output_type": "display_data"
    },
    {
     "name": "stdout",
     "output_type": "stream",
     "text": [
      "\n",
      "10 8179\n"
     ]
    },
    {
     "data": {
      "image/jpeg": "[encoded data removed]",
      "image/png": "[encoded data removed]",
      "text/plain": [
       "<PIL.Image.Image image mode=RGB size=101x103>"
      ]
     },
     "metadata": {},
     "output_type": "display_data"
    },
    {
     "name": "stdout",
     "output_type": "stream",
     "text": [
      "\n",
      "11 1311\n"
     ]
    },
    {
     "data": {
      "image/jpeg": "[encoded data removed]",
      "image/png": "[encoded data removed]",
      "text/plain": [
       "<PIL.Image.Image image mode=RGB size=101x103>"
      ]
     },
     "metadata": {},
     "output_type": "display_data"
    },
    {
     "name": "stdout",
     "output_type": "stream",
     "text": [
      "\n",
      "12 5048\n"
     ]
    },
    {
     "data": {
      "image/jpeg": "[encoded data removed]",
      "image/png": "[encoded data removed]",
      "text/plain": [
       "<PIL.Image.Image image mode=RGB size=101x103>"
      ]
     },
     "metadata": {},
     "output_type": "display_data"
    },
    {
     "name": "stdout",
     "output_type": "stream",
     "text": [
      "\n",
      "13 5149\n"
     ]
    },
    {
     "data": {
      "image/jpeg": "[encoded data removed]",
      "image/png": "[encoded data removed]",
      "text/plain": [
       "<PIL.Image.Image image mode=RGB size=101x103>"
      ]
     },
     "metadata": {},
     "output_type": "display_data"
    },
    {
     "name": "stdout",
     "output_type": "stream",
     "text": [
      "\n",
      "14 99\n"
     ]
    },
    {
     "data": {
      "image/jpeg": "[encoded data removed]",
      "image/png": "[encoded data removed]",
      "text/plain": [
       "<PIL.Image.Image image mode=RGB size=101x103>"
      ]
     },
     "metadata": {},
     "output_type": "display_data"
    },
    {
     "name": "stdout",
     "output_type": "stream",
     "text": [
      "\n",
      "15 9290\n"
     ]
    },
    {
     "data": {
      "image/jpeg": "[encoded data removed]",
      "image/png": "[encoded data removed]",
      "text/plain": [
       "<PIL.Image.Image image mode=RGB size=101x103>"
      ]
     },
     "metadata": {},
     "output_type": "display_data"
    },
    {
     "name": "stdout",
     "output_type": "stream",
     "text": [
      "\n",
      "16 9795\n"
     ]
    },
    {
     "data": {
      "image/jpeg": "[encoded data removed]",
      "image/png": "[encoded data removed]",
      "text/plain": [
       "<PIL.Image.Image image mode=RGB size=101x103>"
      ]
     },
     "metadata": {},
     "output_type": "display_data"
    },
    {
     "name": "stdout",
     "output_type": "stream",
     "text": [
      "\n",
      "17 10098\n"
     ]
    },
    {
     "data": {
      "image/jpeg": "[encoded data removed]",
      "image/png": "[encoded data removed]",
      "text/plain": [
       "<PIL.Image.Image image mode=RGB size=101x103>"
      ]
     },
     "metadata": {},
     "output_type": "display_data"
    },
    {
     "name": "stdout",
     "output_type": "stream",
     "text": [
      "\n",
      "18 4543\n"
     ]
    },
    {
     "data": {
      "image/jpeg": "[encoded data removed]",
      "image/png": "[encoded data removed]",
      "text/plain": [
       "<PIL.Image.Image image mode=RGB size=101x103>"
      ]
     },
     "metadata": {},
     "output_type": "display_data"
    },
    {
     "name": "stdout",
     "output_type": "stream",
     "text": [
      "\n",
      "19 4745\n"
     ]
    },
    {
     "data": {
      "image/jpeg": "[encoded data removed]",
      "image/png": "[encoded data removed]",
      "text/plain": [
       "<PIL.Image.Image image mode=RGB size=101x103>"
      ]
     },
     "metadata": {},
     "output_type": "display_data"
    },
    {
     "name": "stdout",
     "output_type": "stream",
     "text": [
      "\n",
      "20 6260\n"
     ]
    },
    {
     "data": {
      "image/jpeg": "[encoded data removed]",
      "image/png": "[encoded data removed]",
      "text/plain": [
       "<PIL.Image.Image image mode=RGB size=101x103>"
      ]
     },
     "metadata": {},
     "output_type": "display_data"
    },
    {
     "name": "stdout",
     "output_type": "stream",
     "text": [
      "\n",
      "21 4644\n"
     ]
    },
    {
     "data": {
      "image/jpeg": "[encoded data removed]",
      "image/png": "[encoded data removed]",
      "text/plain": [
       "<PIL.Image.Image image mode=RGB size=101x103>"
      ]
     },
     "metadata": {},
     "output_type": "display_data"
    },
    {
     "name": "stdout",
     "output_type": "stream",
     "text": [
      "\n",
      "22 402\n"
     ]
    },
    {
     "data": {
      "image/jpeg": "[encoded data removed]",
      "image/png": "[encoded data removed]",
      "text/plain": [
       "<PIL.Image.Image image mode=RGB size=101x103>"
      ]
     },
     "metadata": {},
     "output_type": "display_data"
    },
    {
     "name": "stdout",
     "output_type": "stream",
     "text": [
      "\n",
      "23 6563\n"
     ]
    },
    {
     "data": {
      "image/jpeg": "[encoded data removed]",
      "image/png": "[encoded data removed]",
      "text/plain": [
       "<PIL.Image.Image image mode=RGB size=101x103>"
      ]
     },
     "metadata": {},
     "output_type": "display_data"
    },
    {
     "name": "stdout",
     "output_type": "stream",
     "text": [
      "\n",
      "24 3432\n"
     ]
    },
    {
     "data": {
      "image/jpeg": "[encoded data removed]",
      "image/png": "[encoded data removed]",
      "text/plain": [
       "<PIL.Image.Image image mode=RGB size=101x103>"
      ]
     },
     "metadata": {},
     "output_type": "display_data"
    },
    {
     "name": "stdout",
     "output_type": "stream",
     "text": [
      "\n",
      "25 1715\n"
     ]
    },
    {
     "data": {
      "image/jpeg": "[encoded data removed]",
      "image/png": "[encoded data removed]",
      "text/plain": [
       "<PIL.Image.Image image mode=RGB size=101x103>"
      ]
     },
     "metadata": {},
     "output_type": "display_data"
    },
    {
     "name": "stdout",
     "output_type": "stream",
     "text": [
      "\n",
      "26 7977\n"
     ]
    },
    {
     "data": {
      "image/jpeg": "[encoded data removed]",
      "image/png": "[encoded data removed]",
      "text/plain": [
       "<PIL.Image.Image image mode=RGB size=101x103>"
      ]
     },
     "metadata": {},
     "output_type": "display_data"
    },
    {
     "name": "stdout",
     "output_type": "stream",
     "text": [
      "\n",
      "27 1210\n"
     ]
    },
    {
     "data": {
      "image/jpeg": "[encoded data removed]",
      "image/png": "[encoded data removed]",
      "text/plain": [
       "<PIL.Image.Image image mode=RGB size=101x103>"
      ]
     },
     "metadata": {},
     "output_type": "display_data"
    },
    {
     "name": "stdout",
     "output_type": "stream",
     "text": [
      "\n",
      "28 8684\n"
     ]
    },
    {
     "data": {
      "image/jpeg": "[encoded data removed]",
      "image/png": "[encoded data removed]",
      "text/plain": [
       "<PIL.Image.Image image mode=RGB size=101x103>"
      ]
     },
     "metadata": {},
     "output_type": "display_data"
    },
    {
     "name": "stdout",
     "output_type": "stream",
     "text": [
      "\n",
      "29 8785\n"
     ]
    },
    {
     "data": {
      "image/jpeg": "[encoded data removed]",
      "image/png": "[encoded data removed]",
      "text/plain": [
       "<PIL.Image.Image image mode=RGB size=101x103>"
      ]
     },
     "metadata": {},
     "output_type": "display_data"
    },
    {
     "name": "stdout",
     "output_type": "stream",
     "text": [
      "\n",
      "30 2523\n"
     ]
    },
    {
     "data": {
      "image/jpeg": "[encoded data removed]",
      "image/png": "[encoded data removed]",
      "text/plain": [
       "<PIL.Image.Image image mode=RGB size=101x103>"
      ]
     },
     "metadata": {},
     "output_type": "display_data"
    },
    {
     "name": "stdout",
     "output_type": "stream",
     "text": [
      "\n",
      "31 6462\n"
     ]
    },
    {
     "data": {
      "image/jpeg": "[encoded data removed]",
      "image/png": "[encoded data removed]",
      "text/plain": [
       "<PIL.Image.Image image mode=RGB size=101x103>"
      ]
     },
     "metadata": {},
     "output_type": "display_data"
    },
    {
     "name": "stdout",
     "output_type": "stream",
     "text": [
      "\n",
      "32 3634\n"
     ]
    },
    {
     "data": {
      "image/jpeg": "[encoded data removed]",
      "image/png": "[encoded data removed]",
      "text/plain": [
       "<PIL.Image.Image image mode=RGB size=101x103>"
      ]
     },
     "metadata": {},
     "output_type": "display_data"
    },
    {
     "name": "stdout",
     "output_type": "stream",
     "text": [
      "\n",
      "33 5553\n"
     ]
    },
    {
     "data": {
      "image/jpeg": "[encoded data removed]",
      "image/png": "[encoded data removed]",
      "text/plain": [
       "<PIL.Image.Image image mode=RGB size=101x103>"
      ]
     },
     "metadata": {},
     "output_type": "display_data"
    },
    {
     "name": "stdout",
     "output_type": "stream",
     "text": [
      "\n",
      "34 4038\n"
     ]
    },
    {
     "data": {
      "image/jpeg": "[encoded data removed]",
      "image/png": "[encoded data removed]",
      "text/plain": [
       "<PIL.Image.Image image mode=RGB size=101x103>"
      ]
     },
     "metadata": {},
     "output_type": "display_data"
    },
    {
     "name": "stdout",
     "output_type": "stream",
     "text": [
      "\n",
      "35 9896\n"
     ]
    },
    {
     "data": {
      "image/jpeg": "[encoded data removed]",
      "image/png": "[encoded data removed]",
      "text/plain": [
       "<PIL.Image.Image image mode=RGB size=101x103>"
      ]
     },
     "metadata": {},
     "output_type": "display_data"
    },
    {
     "name": "stdout",
     "output_type": "stream",
     "text": [
      "\n",
      "36 2018\n"
     ]
    },
    {
     "data": {
      "image/jpeg": "[encoded data removed]",
      "image/png": "[encoded data removed]",
      "text/plain": [
       "<PIL.Image.Image image mode=RGB size=101x103>"
      ]
     },
     "metadata": {},
     "output_type": "display_data"
    },
    {
     "name": "stdout",
     "output_type": "stream",
     "text": [
      "\n",
      "37 6664\n"
     ]
    },
    {
     "data": {
      "image/jpeg": "[encoded data removed]",
      "image/png": "[encoded data removed]",
      "text/plain": [
       "<PIL.Image.Image image mode=RGB size=101x103>"
      ]
     },
     "metadata": {},
     "output_type": "display_data"
    },
    {
     "name": "stdout",
     "output_type": "stream",
     "text": [
      "\n",
      "38 301\n"
     ]
    },
    {
     "data": {
      "image/jpeg": "[encoded data removed]",
      "image/png": "[encoded data removed]",
      "text/plain": [
       "<PIL.Image.Image image mode=RGB size=101x103>"
      ]
     },
     "metadata": {},
     "output_type": "display_data"
    },
    {
     "name": "stdout",
     "output_type": "stream",
     "text": [
      "\n",
      "39 3331\n"
     ]
    },
    {
     "data": {
      "image/jpeg": "[encoded data removed]",
      "image/png": "[encoded data removed]",
      "text/plain": [
       "<PIL.Image.Image image mode=RGB size=101x103>"
      ]
     },
     "metadata": {},
     "output_type": "display_data"
    },
    {
     "name": "stdout",
     "output_type": "stream",
     "text": [
      "\n",
      "40 705\n"
     ]
    },
    {
     "data": {
      "image/jpeg": "[encoded data removed]",
      "image/png": "[encoded data removed]",
      "text/plain": [
       "<PIL.Image.Image image mode=RGB size=101x103>"
      ]
     },
     "metadata": {},
     "output_type": "display_data"
    },
    {
     "name": "stdout",
     "output_type": "stream",
     "text": [
      "\n",
      "41 7068\n"
     ]
    },
    {
     "data": {
      "image/jpeg": "[encoded data removed]",
      "image/png": "[encoded data removed]",
      "text/plain": [
       "<PIL.Image.Image image mode=RGB size=101x103>"
      ]
     },
     "metadata": {},
     "output_type": "display_data"
    },
    {
     "name": "stdout",
     "output_type": "stream",
     "text": [
      "\n",
      "42 2220\n"
     ]
    },
    {
     "data": {
      "image/jpeg": "[encoded data removed]",
      "image/png": "[encoded data removed]",
      "text/plain": [
       "<PIL.Image.Image image mode=RGB size=101x103>"
      ]
     },
     "metadata": {},
     "output_type": "display_data"
    },
    {
     "name": "stdout",
     "output_type": "stream",
     "text": [
      "\n",
      "43 9391\n"
     ]
    },
    {
     "data": {
      "image/jpeg": "[encoded data removed]",
      "image/png": "[encoded data removed]",
      "text/plain": [
       "<PIL.Image.Image image mode=RGB size=101x103>"
      ]
     },
     "metadata": {},
     "output_type": "display_data"
    },
    {
     "name": "stdout",
     "output_type": "stream",
     "text": [
      "\n",
      "44 6866\n"
     ]
    },
    {
     "data": {
      "image/jpeg": "[encoded data removed]",
      "image/png": "[encoded data removed]",
      "text/plain": [
       "<PIL.Image.Image image mode=RGB size=101x103>"
      ]
     },
     "metadata": {},
     "output_type": "display_data"
    },
    {
     "name": "stdout",
     "output_type": "stream",
     "text": [
      "\n",
      "45 6058\n"
     ]
    },
    {
     "data": {
      "image/jpeg": "[encoded data removed]",
      "image/png": "[encoded data removed]",
      "text/plain": [
       "<PIL.Image.Image image mode=RGB size=101x103>"
      ]
     },
     "metadata": {},
     "output_type": "display_data"
    },
    {
     "name": "stdout",
     "output_type": "stream",
     "text": [
      "\n",
      "46 7775\n"
     ]
    },
    {
     "data": {
      "image/jpeg": "[encoded data removed]",
      "image/png": "[encoded data removed]",
      "text/plain": [
       "<PIL.Image.Image image mode=RGB size=101x103>"
      ]
     },
     "metadata": {},
     "output_type": "display_data"
    },
    {
     "name": "stdout",
     "output_type": "stream",
     "text": [
      "\n",
      "47 6765\n"
     ]
    },
    {
     "data": {
      "image/jpeg": "[encoded data removed]",
      "image/png": "[encoded data removed]",
      "text/plain": [
       "<PIL.Image.Image image mode=RGB size=101x103>"
      ]
     },
     "metadata": {},
     "output_type": "display_data"
    },
    {
     "name": "stdout",
     "output_type": "stream",
     "text": [
      "\n",
      "48 9088\n"
     ]
    },
    {
     "data": {
      "image/jpeg": "[encoded data removed]",
      "image/png": "[encoded data removed]",
      "text/plain": [
       "<PIL.Image.Image image mode=RGB size=101x103>"
      ]
     },
     "metadata": {},
     "output_type": "display_data"
    },
    {
     "name": "stdout",
     "output_type": "stream",
     "text": [
      "\n",
      "49 1109\n"
     ]
    },
    {
     "data": {
      "image/jpeg": "[encoded data removed]",
      "image/png": "[encoded data removed]",
      "text/plain": [
       "<PIL.Image.Image image mode=RGB size=101x103>"
      ]
     },
     "metadata": {},
     "output_type": "display_data"
    },
    {
     "name": "stdout",
     "output_type": "stream",
     "text": [
      "\n"
     ]
    }
   ],
   "source": [
    "for i, arrangement in enumerate(robot_arrangements[0:50]):\n",
    "    t = arrangement[0]\n",
    "    area = arrangement[1]\n",
    "    print(i, t)\n",
    "    print_robot_positions(area)\n",
    "    print()"
   ]
  },
  {
   "cell_type": "markdown",
   "id": "530989c9-c142-4349-9d57-5125cb9c489e",
   "metadata": {},
   "source": [
    "Huzzah! After all our hard work, we see that the robot arrangement with the **11th smallest safety factor** has a Christmas tree!"
   ]
  },
  {
   "cell_type": "code",
   "execution_count": 21,
   "id": "4dead44a-e84d-4a55-b8f4-de9e3be6f1b8",
   "metadata": {},
   "outputs": [
    {
     "data": {
      "image/jpeg": "[encoded data removed]",
      "image/png": "[encoded data removed]",
      "text/plain": [
       "<PIL.Image.Image image mode=RGB size=101x103>"
      ]
     },
     "metadata": {},
     "output_type": "display_data"
    }
   ],
   "source": [
    "print_robot_positions(robot_arrangements[10][1])"
   ]
  },
  {
   "cell_type": "markdown",
   "id": "f5e613f8-68df-4f66-91a1-4e2e33d9abd8",
   "metadata": {},
   "source": [
    "This was definitely my favorite day of Advent of Code this year. I enjoyed how **open-ended and not well-defined** it was, paving the way for many different and unique solutions. I saw on Reddit that many people just exported *all* $10403$ images and used the preview function on their file explorers to be able to quickly inspect all of the images for the Christmas tree. \n",
    "\n",
    "Many others also used the intuitive idea of entropy like I did but used a different way of measuring that entropy. I saw some people look at the **variances** in the $x$ and $y$ directions and looked for arrangements with low variance in both coordinates to measure low entropy. I think my favorite method to measure entropy was someone who exported all the images, compressed them all, and checked which one **compressed the most**. It's crazy how so many people had the same fuzzy idea to test for structure/entropy but they all leveraged their unique technical backgrounds and strengths to use very different tools to tackle the same idea."
   ]
  },
  {
   "cell_type": "markdown",
   "id": "11fde6db-bd4f-46cd-8ec7-27a1d4678515",
   "metadata": {
    "jp-MarkdownHeadingCollapsed": true
   },
   "source": [
    "# [Day 15: Warehouse Woes](https://adventofcode.com/2024/day/15)"
   ]
  },
  {
   "cell_type": "code",
   "execution_count": 1,
   "id": "12273a8f-87d3-4734-a885-6448f6845f27",
   "metadata": {},
   "outputs": [],
   "source": [
    "file = open('input15.txt', 'r')\n",
    "input_text = file.read()\n",
    "file.close()"
   ]
  },
  {
   "cell_type": "code",
   "execution_count": 3,
   "id": "a92b1821-d9c5-4eb1-9376-c1452b3c8cdc",
   "metadata": {},
   "outputs": [],
   "source": [
    "def get_warehouse_and_moves(input_text):\n",
    "    warehouse_input, moves_input = lines = input_text.strip().split('\\n\\n')\n",
    "    warehouse_input = warehouse_input.splitlines()\n",
    "    warehouse = []\n",
    "    for i, row in enumerate(warehouse_input):\n",
    "        warehouse_row = []\n",
    "        for j, char in enumerate(row):\n",
    "            warehouse_row.append(char)\n",
    "            if char == \"@\":\n",
    "                start = np.array([i,j])\n",
    "        warehouse.append(warehouse_row)\n",
    "\n",
    "    moves = \"\"\n",
    "    for move in moves_input.splitlines():\n",
    "        moves += move\n",
    "        \n",
    "    return warehouse, start, moves"
   ]
  },
  {
   "cell_type": "code",
   "execution_count": 4,
   "id": "54040d9b-9714-450d-b23f-9557fccf8f45",
   "metadata": {},
   "outputs": [],
   "source": [
    "warehouse, start, moves = get_warehouse_and_moves(input_text)"
   ]
  },
  {
   "cell_type": "markdown",
   "id": "b07dfc23-3836-43e2-8f58-d9ef17914c00",
   "metadata": {},
   "source": [
    "Given our robot's position and an attempted move direction $d$, we will **trace out a ray** to look at all the positions in direction $d$ from our robot's position until we hit a barrier `#`. After tracing this ray, we just need to check if there is a free space `.` for the robot and any succeeding boxes `O` to move into. If there's no free space before the barrier, we don't do anything. Otherwise, we shift everything before the position of the **first free space** one position in direction $d$."
   ]
  },
  {
   "cell_type": "code",
   "execution_count": 5,
   "id": "3320004a-aa63-48c0-8a9a-52b6c1e9afa6",
   "metadata": {},
   "outputs": [],
   "source": [
    "move_key = {'<': np.array([0,-1]), 'v': np.array([1,0]), '>': np.array([0,1]), '^': np.array([-1,0])}\n",
    "# Trace the ray in the specified direction\n",
    "def trace_ray(start, move, matrix):\n",
    "    ray = [matrix[start[0]][start[1]]]\n",
    "    current = np.copy(start)\n",
    "    direction = move_key[move]\n",
    "    while matrix[current[0]][current[1]] != \"#\":\n",
    "        current += direction\n",
    "        ray.append(matrix[current[0]][current[1]])\n",
    "    return ray\n",
    "\n",
    "# Updates the state of the warehouse to perform a successul move\n",
    "def update_state(start, move, new_state, matrix):\n",
    "    current = np.copy(start)\n",
    "    direction = move_key[move]\n",
    "    for char in new_state:\n",
    "        matrix[current[0]][current[1]] = char\n",
    "        current += direction\n",
    "        \n",
    "def make_move(position, move, matrix):\n",
    "    ray = trace_ray(position, move, matrix)\n",
    "    if '.' in ray:\n",
    "        free_space = ray.index('.')\n",
    "        # Move everything preceding the first free space one position and add a free space at the robots initial position.\n",
    "        new_state = ['.'] + ray[:free_space]\n",
    "        update_state(position, move, new_state, matrix)\n",
    "        return True\n",
    "    return False"
   ]
  },
  {
   "cell_type": "markdown",
   "id": "bc0e1d90-c892-4c78-b892-68aa4e33167a",
   "metadata": {},
   "source": [
    "Now we run all the moves and sum up the final GPS coordinates."
   ]
  },
  {
   "cell_type": "code",
   "execution_count": 6,
   "id": "daf3132b-dc68-4544-8ac0-31634e2a6f35",
   "metadata": {},
   "outputs": [],
   "source": [
    "current = np.copy(start)\n",
    "for move in moves:\n",
    "    current = current + move_key[move] if make_move(current, move, warehouse) else current"
   ]
  },
  {
   "cell_type": "code",
   "execution_count": 7,
   "id": "a0f38ab1-178f-4b4a-b9d1-31f18e2004cb",
   "metadata": {},
   "outputs": [
    {
     "data": {
      "text/plain": [
       "1413675"
      ]
     },
     "execution_count": 7,
     "metadata": {},
     "output_type": "execute_result"
    }
   ],
   "source": [
    "total = 0\n",
    "for i, row in enumerate(warehouse):\n",
    "    for j, char in enumerate(row):\n",
    "        if char == \"O\":\n",
    "            total += 100 * i + j\n",
    "total"
   ]
  },
  {
   "cell_type": "markdown",
   "id": "4fb63c78-d9ac-49ea-919a-8697b29f73af",
   "metadata": {},
   "source": [
    "## Part 2"
   ]
  },
  {
   "cell_type": "markdown",
   "id": "636836ac-2b05-407a-a46d-92f324666590",
   "metadata": {},
   "source": [
    "Let's create a new function to parse our input into this new, double-wide warehouse."
   ]
  },
  {
   "cell_type": "code",
   "execution_count": 8,
   "id": "c5f013ee-806e-4a44-8ab8-964555d38cd3",
   "metadata": {},
   "outputs": [],
   "source": [
    "def get_warehouse_and_moves2(input_text):\n",
    "    warehouse_input, moves_input = lines = input_text.strip().split('\\n\\n')\n",
    "    warehouse_input = warehouse_input.splitlines()\n",
    "    warehouse = []\n",
    "    for i, row in enumerate(warehouse_input):\n",
    "        warehouse_row = []\n",
    "        for j, char in enumerate(row):\n",
    "            if char == \"@\":\n",
    "                warehouse_row += [char, '.']\n",
    "                start = np.array([i,2*j])\n",
    "            elif char == \"O\":\n",
    "                warehouse_row += ['[',']']\n",
    "            else:\n",
    "                warehouse_row += [char, char]\n",
    "        warehouse.append(warehouse_row)\n",
    "\n",
    "    moves = \"\"\n",
    "    for move in moves_input.splitlines():\n",
    "        moves += move\n",
    "        \n",
    "    return warehouse, start, moves"
   ]
  },
  {
   "cell_type": "code",
   "execution_count": 9,
   "id": "1b140f5a-f08a-4ca9-968f-8202758faba2",
   "metadata": {},
   "outputs": [],
   "source": [
    "warehouse, start, moves = get_warehouse_and_moves2(input_text)"
   ]
  },
  {
   "cell_type": "markdown",
   "id": "5ceb74f1-d8f4-4e26-a32e-f0a9b4f4a7f5",
   "metadata": {},
   "source": [
    "In Part 1, when attempting to push a box, we only had to worry about what was directly behind the box to figure out if we could move or not. While this remains true for left/right moves in Part 2, we now have to worry about a **cascading effect** when we attempt to move a box in a vertical direction. For instance, pushing one box could push two boxes in the next layer, and those two boxes could potentially push more boxes, and so forth. In the given example, the expected behavior looks like:\n",
    "```\n",
    "##############\n",
    "##......##..##\n",
    "##..........##\n",
    "##...[][]...##\n",
    "##....[]....## \n",
    "##.....@....##\n",
    "##############\n",
    "\n",
    "Move ^:\n",
    "##############\n",
    "##......##..##\n",
    "##...[][]...##\n",
    "##....[]....##\n",
    "##.....@....##\n",
    "##..........##\n",
    "##############\n",
    "\n",
    "Move ^:\n",
    "##############\n",
    "##......##..##\n",
    "##...[][]...##\n",
    "##....[]....##\n",
    "##.....@....##\n",
    "##..........##\n",
    "##############\n",
    "```\n",
    "where the first up move pushes all the boxes up one, but the second does nothing because the right side of the top right box has a barrier above it.\n",
    "\n",
    "To account for this branching behavior, we would want to use a **tree-like structure** to indicate what each part of each relevant box is touching. So in the above example, we would want something like this at the beginning:\n",
    "\n",
    "<center><img src=\"tree.png\" width=\"400\"/></center>\n",
    "\n",
    "Since the robot contacts the right part of the bottom box from below, we want to indicate that the robot will push **both the left and right components** of the lower box. We do this by representing both components of the bottom box as children of the robot in our tree. Continuing with this example, the left part of the lower box contacts the right part of the top-left box, so we assign it both the components of the top-left box as children. We do the same with the right part of the lower box and the top-right box. Since the top boxes don't contact any other boxes vertically, we give each of the corresponding nodes a **single child** to indicate whether there is a free space or wall directly above it.\n",
    "\n",
    "Because there is **free space above all the top boxes**, we are able to move all of these boxes up one position. Now, consider what happens when the robot tries to move up again:\n",
    "\n",
    "<center><img src=\"tree2.png\" width=\"400\"/></center>\n",
    "\n",
    "Our tree mostly stays the same except the right part of the top-right box now has a **wall** directly above it. This barrier prevents the robot from moving up any further.\n",
    "\n",
    "So the way to determine whether our robot can execute a vertical move is to create this tree-like structure to give us what contact there is between the robot and adjacent boxes (if any). After we've done so, we check if all the leaves of this tree (nodes with no children) are free or not. If they are all free, the robot can succesfully complete the move. Otherwise, if there is at least one wall, the robot cannot move.\n",
    "\n",
    "The reason we say \"tree-like structure\" instead of using a proper tree is that we could have a node with multiple parents. If we modify the above warehouse slightly, we get:\n",
    "```\n",
    "##############\n",
    "##......##..##\n",
    "##....[]....##\n",
    "##...[][]...##\n",
    "##....[]....## \n",
    "##.....@....##\n",
    "##############\n",
    "```\n",
    "\n",
    "which would require the following directed graph to represent an attempted `^` move:\n",
    "\n",
    "<center><img src=\"digraph.png\" width=\"400\"/></center>\n",
    "\n",
    "Both the right part of the left-middle box and the left part of the right-middle box are contacting the top box, so both of the corresponding nodes will be parents of the nodes in the top box. Note that we also don't care about the depth of the leaves we are looking at. In this case, there are leaves at two different depths, but since they are all free spaces, the robot is able to push all of these boxes up.\n",
    "\n",
    "Let's implement all of this."
   ]
  },
  {
   "cell_type": "code",
   "execution_count": 15,
   "id": "1ea08cba-bfdf-41a6-a63a-6c5e8e7d47ce",
   "metadata": {},
   "outputs": [],
   "source": [
    "class Node:\n",
    "    def __init__(self, value):\n",
    "        self.value = value\n",
    "        self.children = set()\n",
    "        self.parents = set()\n",
    "\n",
    "    def add_child(self, child):\n",
    "        self.children.add(child)\n",
    "\n",
    "    def add_parent(self, parent):\n",
    "        self.parents.add(parent)\n",
    "\n",
    "    def print_node(self):\n",
    "        print(f\"value: {self.value}\")\n",
    "        print(f\"children: {self.children}\")\n",
    "        print(f\"parents: {self.parents}\")\n",
    "\n",
    "    def __repr__(self):\n",
    "        return f\"Node: {self.value}\"\n",
    "\n",
    "class Graph:\n",
    "    def __init__(self, root_value):\n",
    "        self.graph = {}\n",
    "        self.root = self.add_node(root_value)\n",
    "        \n",
    "    # Don't want two nodes with the same value    \n",
    "    def add_node(self, value):\n",
    "        if tuple(value) not in self.graph.keys():\n",
    "            node = Node(value)\n",
    "            self.graph[tuple(value)] = node\n",
    "            return node\n",
    "        else:\n",
    "            return self.get_node(value)\n",
    "\n",
    "    def add_edge(self, node1, node2):\n",
    "        node1.add_child(node2)\n",
    "        node2.add_parent(node1)\n",
    "\n",
    "    def get_node(self, value):\n",
    "        return self.graph[tuple(value)]\n",
    "\n",
    "    def print_graph(self):\n",
    "        for node in self.graph:\n",
    "            node.print_node()\n",
    "\n",
    "    def get_leaves(self):\n",
    "        leaves = set()\n",
    "        for node in self.graph.values():\n",
    "            if len(node.children) == 0:\n",
    "                leaves.add(node)\n",
    "        return leaves\n",
    "             \n",
    "    def __repr__(self):\n",
    "        return f\"Graph: {[node for node in self.graph.values()]}\"\n",
    "    "
   ]
  },
  {
   "cell_type": "code",
   "execution_count": 11,
   "id": "baeb4d96-11ff-48e5-accd-a36b5125da9b",
   "metadata": {},
   "outputs": [],
   "source": [
    "import copy\n",
    "\n",
    "# Recursive function to add children to a node\n",
    "def add_children(move, matrix, node, graph):\n",
    "    position = node.value\n",
    "    # Determine whether robot is moving up or down\n",
    "    next_position = position + move_key[move]\n",
    "    next_value = matrix[next_position[0]][next_position[1]]\n",
    "    # If there is no box in the next position, just add one child\n",
    "    if next_value in \".#\":\n",
    "        leaf = graph.add_node(next_position)\n",
    "        graph.add_edge(node, leaf)\n",
    "    else:\n",
    "        # If the next value is '[' or ']', add the two pieces of the corresponding box as children to the current node\n",
    "        if next_value == \"[\":\n",
    "            left = graph.add_node(next_position)\n",
    "            right = graph.add_node(next_position + np.array([0,1]))\n",
    "        else: \n",
    "            right = graph.add_node(next_position)\n",
    "            left = graph.add_node(next_position - np.array([0,1]))\n",
    "        graph.add_edge(node, left)\n",
    "        graph.add_edge(node, right)\n",
    "        #Recursively add children for these new nodes\n",
    "        add_children(move, matrix, left, graph)\n",
    "        add_children(move, matrix, right, graph)\n",
    "\n",
    "# Initialize the root node (corresponding to the robot) and add all children\n",
    "def trace_tree(start, move, matrix):\n",
    "    current = np.copy(start)\n",
    "    graph = Graph(current)\n",
    "    if move not in '^v':\n",
    "        print('ERROR')\n",
    "        return\n",
    "    add_children(move, matrix, graph.root, graph)\n",
    "    return graph"
   ]
  },
  {
   "cell_type": "markdown",
   "id": "45b06e43-a17c-4bcc-b494-d0361b1fa04e",
   "metadata": {},
   "source": [
    "Now that we've implemented our desired graph structure, all we need to do is **update** our warehouse appropriately. As we said before, if there is a wall in any of the leaves, we **do nothing**. Otherwise, we are able to move, and we want to **shift every character** one step vertically in the given direction."
   ]
  },
  {
   "cell_type": "code",
   "execution_count": 12,
   "id": "b45fa617-0f19-4984-a439-43cf0e4739ff",
   "metadata": {},
   "outputs": [],
   "source": [
    "def update_warehouse(position, move, graph, matrix):\n",
    "    leaves = graph.get_leaves()\n",
    "    # If there is a wall in any of the leaves, don't do anything\n",
    "    if '#' in [matrix[node.value[0]][node.value[1]] for node in leaves]:\n",
    "        return False\n",
    "    tmp = copy.deepcopy(matrix)\n",
    "    direction = move_key[move]\n",
    "    # Move each internal node one spot in the given direction\n",
    "    for index, node in graph.graph.items():\n",
    "        if node not in leaves:\n",
    "            # Copy the value of the current cell into the cell one step in the given direction\n",
    "            next_index = np.array(index) + direction\n",
    "            previous_index = np.array(index) - direction\n",
    "            matrix[next_index[0]][next_index[1]] = tmp[index[0]][index[1]]\n",
    "\n",
    "            # Replace the current cell with either a free space or the object that is pushing it\n",
    "            if index[1] not in [parent.value[1] for parent in node.parents]:\n",
    "                matrix[index[0]][index[1]] = '.'\n",
    "            else:   \n",
    "                matrix[index[0]][index[1]] = tmp[previous_index[0]][previous_index[1]]\n",
    "    return True        \n",
    "\n",
    "def make_move2(position, move, matrix):\n",
    "    if matrix[position[0]][position[1]] != \"@\":\n",
    "        print(\"Can only move '@'\")\n",
    "        return\n",
    "        \n",
    "    if move in '<>':\n",
    "        return make_move(position, move, matrix)\n",
    "    else:\n",
    "        graph = trace_tree(position, move, matrix)\n",
    "        return update_warehouse(position, move, graph, matrix)"
   ]
  },
  {
   "cell_type": "markdown",
   "id": "faef7b62-d7d8-43a2-ad1c-554a727806cd",
   "metadata": {},
   "source": [
    "As we did in Part 1, we run all the moves and sum up the final GPS coordinates."
   ]
  },
  {
   "cell_type": "code",
   "execution_count": 13,
   "id": "51d1b37e-bad7-4fdd-a01f-263d4da662e8",
   "metadata": {},
   "outputs": [],
   "source": [
    "current = np.copy(start)\n",
    "for move in moves:\n",
    "    current = current + move_key[move] if make_move2(current, move, warehouse) else current"
   ]
  },
  {
   "cell_type": "code",
   "execution_count": 14,
   "id": "359a9fbb-20e0-4dd2-a8b8-d581c6b2a9fc",
   "metadata": {},
   "outputs": [
    {
     "data": {
      "text/plain": [
       "1399772"
      ]
     },
     "execution_count": 14,
     "metadata": {},
     "output_type": "execute_result"
    }
   ],
   "source": [
    "total = 0\n",
    "for i, row in enumerate(warehouse):\n",
    "    for j, char in enumerate(row):\n",
    "        if char == \"[\":\n",
    "            total += 100 * i + j\n",
    "total"
   ]
  },
  {
   "cell_type": "markdown",
   "id": "bf250023-ede1-475b-9da8-39c1823591c3",
   "metadata": {
    "jp-MarkdownHeadingCollapsed": true
   },
   "source": [
    "# [Day 16: Reindeer Maze](https://adventofcode.com/2024/day/16)"
   ]
  },
  {
   "cell_type": "markdown",
   "id": "eadc53ca-135f-455b-8783-be9283c4de43",
   "metadata": {},
   "source": [
    "## Part 1"
   ]
  },
  {
   "cell_type": "code",
   "execution_count": 5,
   "id": "1b504059-ada5-45f3-9293-f1f9fa007de2",
   "metadata": {},
   "outputs": [],
   "source": [
    "file = open('input16.txt', 'r')\n",
    "input_text = file.read()\n",
    "file.close()"
   ]
  },
  {
   "cell_type": "code",
   "execution_count": 6,
   "id": "bba99691-eb1b-4eff-b0ba-9dc465ca358d",
   "metadata": {},
   "outputs": [],
   "source": [
    "def read_maze(input_text):\n",
    "    lines = input_text.strip().splitlines()\n",
    "    maze = []\n",
    "    for i, line in enumerate(lines):\n",
    "        row = []\n",
    "        for j, char in enumerate(line):\n",
    "            if char == \"S\":\n",
    "                start = np.array([i,j])\n",
    "            if char == \"E\":\n",
    "                end = np.array([i,j])\n",
    "            row.append(char)\n",
    "        maze.append(row)\n",
    "    return maze, start, end"
   ]
  },
  {
   "cell_type": "code",
   "execution_count": 7,
   "id": "4aa3ca8e-afe6-48d0-82eb-9db7b20a4443",
   "metadata": {},
   "outputs": [],
   "source": [
    "maze, start, end = read_maze(input_text)"
   ]
  },
  {
   "cell_type": "markdown",
   "id": "6de7f8ef-f8b8-4ef8-a2f3-570304a2f02e",
   "metadata": {},
   "source": [
    "This is a **shortest path problem**. As we've already seen in Days 10 and 12, we can view our maze as a graph with each position in the maze as a vertex and each pair of adjacent positions as edges. To account for the fact that rotations increase our score by 1000 points, we will modify our graph construction slightly. Let $G = (V,E)$ with vertices given by $V = \\{(i, j, \\text{direction}) \\ | \\ (i,j) \\in \\text{maze} , \\ \\text{direction} \\in \\set{N, E, S, W}\\}$. \n",
    "\n",
    "For each maze position $(i,j)$, we will add edges of weight `1000` between directions that are a **90-degree rotation** apart, e.g. $(i, j, N)$ and $(i, j, E)$. Additionally, for any pair of **vertically adjacent** positions $(i, j), (i+1,j)$ in our maze, we will add edges $\\set{(i, j, N), (i+1, j, N)}$ and $\\set{(i, j, S), (i+1, j, S)}$ of weight `1`. Similarly, for **horizontally adjacent** positions $(i, j), (i, j+1)$, we will add edges $\\set{(i, j, E), (i, j+1, E)}$ and $\\set{(i, j, W), (i, j+1, W)}$.\n",
    "\n",
    "Let's denote $(s_1, s_2)$ as our starting position and $(e_1, e_2)$ as our ending position. Since the Reindeer **start facing `East`**, we will run **Djikstra's algorithm** on $G$ with $(s_1, s_2, E)$ as our source. Then to find the lowest score a Reindeer could possibly get, we check the minimum distance amongst $(e_1, e_2, \\text{direction})$ for any $\\text{direction} \\in \\set{N, E, S, W}$.\n",
    "\n",
    "First, let's implement our graph as an **adjacency list**."
   ]
  },
  {
   "cell_type": "code",
   "execution_count": 8,
   "id": "391a59f5-286f-4f54-99df-6cad85b57ae6",
   "metadata": {},
   "outputs": [],
   "source": [
    "direction_map = {\"N\": np.array([-1,0]), \"E\": np.array([0,1]), \"S\": np.array([1,0]), \"W\": np.array([0,-1])}\n",
    "\n",
    "from collections import defaultdict\n",
    "adjacency_list = defaultdict(dict)\n",
    "for i, row in enumerate(maze):\n",
    "    for j, char in enumerate(row):\n",
    "        if char != \"#\":\n",
    "            current = np.array([i,j])\n",
    "            for direction, direction_vector in direction_map.items():\n",
    "                neighbor = current + direction_vector\n",
    "                if maze[neighbor[0]][neighbor[1]] != \"#\":\n",
    "                    adjacency_list[(i, j, direction)][(*neighbor, direction)] = 1\n",
    "                    adjacency_list[(*neighbor, direction)][(i, j, direction)] = 1\n",
    "                for other_direction, other_direction_vector in direction_map.items():\n",
    "                    if np.dot(direction_vector, other_direction_vector) == 0:\n",
    "                        adjacency_list[(i, j, direction)][(i, j, other_direction)] = 1000\n",
    "                        adjacency_list[(i, j, other_direction)][(i, j, direction)] = 1000"
   ]
  },
  {
   "cell_type": "markdown",
   "id": "a7933500-c364-47dc-a2d9-b2c983fdb5d4",
   "metadata": {},
   "source": [
    "Now we'll implement Djikstra's algorithm using a **min-heap**."
   ]
  },
  {
   "cell_type": "code",
   "execution_count": 9,
   "id": "6889df27-fbbf-4bdf-98db-082fe0d317c7",
   "metadata": {},
   "outputs": [],
   "source": [
    "from heapq import heappush, heappop, heapify\n",
    "\n",
    "distances = {}\n",
    "heap = []\n",
    "heappush(heap, (0, (*start, 'E')))\n",
    "\n",
    "while len(heap) > 0:\n",
    "    current_distance, vertex = heappop(heap)\n",
    "    if vertex in distances:\n",
    "            continue\n",
    "    distances[vertex] = current_distance\n",
    "    for neighbor, neighbor_distance in adjacency_list[vertex].items():\n",
    "        if neighbor not in distances:\n",
    "            heappush(heap, (current_distance + neighbor_distance, neighbor))\n",
    "    "
   ]
  },
  {
   "cell_type": "markdown",
   "id": "5a3896ba-b1db-40da-94e8-1285b39d8eab",
   "metadata": {},
   "source": [
    "Finally, we get the minimum score among all our vertices corresponding to our end position."
   ]
  },
  {
   "cell_type": "code",
   "execution_count": 10,
   "id": "5e3485ed-5d1b-44a4-8c10-79ffa954cd3e",
   "metadata": {},
   "outputs": [
    {
     "name": "stdout",
     "output_type": "stream",
     "text": [
      "(1, 139, 'E') 94436\n",
      "(1, 139, 'W') 94436\n",
      "(1, 139, 'S') 93436\n",
      "(1, 139, 'N') 93436\n"
     ]
    },
    {
     "data": {
      "text/plain": [
       "93436"
      ]
     },
     "execution_count": 10,
     "metadata": {},
     "output_type": "execute_result"
    }
   ],
   "source": [
    "end_positions = {tuple(end) + (direction,) for direction in \"NESW\"}\n",
    "minimum = float('inf')\n",
    "for end_position in end_positions:\n",
    "    distance = distances[end_position]\n",
    "    print(end_position, distance)\n",
    "    minimum = distance if distance < minimum else minimum\n",
    "minimum"
   ]
  },
  {
   "cell_type": "markdown",
   "id": "163cea7c-0d08-4fae-8d0c-da579d93364f",
   "metadata": {},
   "source": [
    "## Part 2"
   ]
  },
  {
   "cell_type": "markdown",
   "id": "ed361070-d9fe-424a-aa57-2b283aa03f03",
   "metadata": {},
   "source": [
    "We will use dynamic programming to find all points that lie on a shortest path. In general, if we have a weighted graph $G$, source and target nodes $s$ and $t$, and the distances of every node from $s$, we can compute the shortest paths from $s$ to $t$ recursively. We start with our target node $t$ since every shortest path from $s$ to $t$ must end at $t$. Then if $u$ is a neighbor of $t$, it lies on a shortest path from $s$ to $t$ if and only if the **distance between $s$ and $t$ is equal to the distance between $s$ and $u$ plus the weight of $\\set{u,t}$**.\n",
    "\n",
    "In our case, our source will be $(s_1, s_2, E)$ and we will consider any target $(e_1, e_2, \\text{direction})$ that achieves the minimum score from Part 1."
   ]
  },
  {
   "cell_type": "code",
   "execution_count": 11,
   "id": "fac16f12-c52b-47b8-a6d0-0e9ae8c8a24c",
   "metadata": {},
   "outputs": [],
   "source": [
    "memoization = {}\n",
    "def get_best_seats(end, distances):\n",
    "    best_seats = {end}\n",
    "    if end == tuple(start) + (\"E\",):\n",
    "        memoization[end] = best_seats\n",
    "        return best_seats\n",
    "    min_distance = distances[end]\n",
    "    for neighbor, distance in adjacency_list[end].items():\n",
    "        if distances[neighbor] == min_distance - distance:\n",
    "            if neighbor not in memoization.keys():\n",
    "                memoization[neighbor] = get_best_seats(neighbor, distances)\n",
    "            best_seats |= memoization[neighbor]       \n",
    "    return best_seats"
   ]
  },
  {
   "cell_type": "code",
   "execution_count": 12,
   "id": "07723128-2812-4e53-9f53-dfe6c11d439c",
   "metadata": {},
   "outputs": [],
   "source": [
    "best_seats = set()\n",
    "for end_position in end_positions:\n",
    "    if distances[end_position] == minimum:\n",
    "        best_seats |= get_best_seats(end_position, distances)"
   ]
  },
  {
   "cell_type": "markdown",
   "id": "cd764148-87c7-4091-be51-5fde45bb3c8e",
   "metadata": {},
   "source": [
    "Now we just count the number of distinct coordinates in our maze that show up in our shortest paths."
   ]
  },
  {
   "cell_type": "code",
   "execution_count": 13,
   "id": "c2de52a4-5d76-40fa-9fab-c0cfd00f2531",
   "metadata": {},
   "outputs": [
    {
     "data": {
      "text/plain": [
       "486"
      ]
     },
     "execution_count": 13,
     "metadata": {},
     "output_type": "execute_result"
    }
   ],
   "source": [
    "best_seats = {seat[:2] for seat in best_seats}\n",
    "len(best_seats)"
   ]
  },
  {
   "cell_type": "markdown",
   "id": "189b1564-1968-4119-8a39-b9d91423648e",
   "metadata": {
    "jp-MarkdownHeadingCollapsed": true
   },
   "source": [
    "# [Day 17: Chronospatial Computer](https://adventofcode.com/2024/day/17)"
   ]
  },
  {
   "cell_type": "markdown",
   "id": "86158d93-ef35-4521-afbb-a96d1d2b7b86",
   "metadata": {},
   "source": [
    "## Part 1"
   ]
  },
  {
   "cell_type": "code",
   "execution_count": 2,
   "id": "7be0a1df-c375-42b1-8c07-96f8436ba322",
   "metadata": {},
   "outputs": [],
   "source": [
    "file = open('input17.txt', 'r')\n",
    "input_text = file.read()\n",
    "file.close()"
   ]
  },
  {
   "cell_type": "code",
   "execution_count": 3,
   "id": "d135408a-6e36-4de6-88a0-2b3c5c69f888",
   "metadata": {},
   "outputs": [],
   "source": [
    "def load_program(input_text):\n",
    "    registers, program = input_text.strip().split('\\n\\n')\n",
    "    registers = registers.split('\\n')\n",
    "    registers = [int(register.split(' ')[-1]) for register in registers]\n",
    "    registers = {\"A\": registers[0], \"B\": registers[1], \"C\": registers[2]}\n",
    "    program = [int(bit) for bit in program[9:].split(',')]\n",
    "    return registers, program"
   ]
  },
  {
   "cell_type": "code",
   "execution_count": 4,
   "id": "ca5103fb-4694-414d-adb6-899eed3d6982",
   "metadata": {},
   "outputs": [],
   "source": [
    "registers, program = load_program(input_text)"
   ]
  },
  {
   "cell_type": "markdown",
   "id": "2e4dcc0e-68ea-4a2a-b76e-a52656b224e8",
   "metadata": {},
   "source": [
    "This part should be easy. All we have to do is create a bunch of conditional statements following all the rules for handling different opcodes and operands. We also want to save the output of the program as a list."
   ]
  },
  {
   "cell_type": "code",
   "execution_count": 5,
   "id": "34ce7e73-be1d-4eb0-8b8a-5ff64c391810",
   "metadata": {},
   "outputs": [],
   "source": [
    "def combo_operand(operand):\n",
    "    if operand >= 0 and operand <= 3:\n",
    "        return operand\n",
    "    elif operand  == 4:\n",
    "        return registers['A']\n",
    "    elif operand == 5:\n",
    "        return registers['B']\n",
    "    elif operand == 6:\n",
    "        return registers['C']\n",
    "    else:\n",
    "        return \"ERROR: invalid combo operand\"\n",
    "\n",
    "program_output = []\n",
    "def execute_operation(pointer, program):\n",
    "    opcode = program[pointer]\n",
    "    operand = program[pointer + 1] \n",
    "    if opcode == 0:\n",
    "        registers['A'] = int(registers['A']/(2**combo_operand(operand)))\n",
    "    elif opcode == 1:\n",
    "        registers['B'] = registers['B'] ^ operand\n",
    "    elif opcode == 2:\n",
    "        registers['B'] = combo_operand(operand) % 8\n",
    "    elif opcode == 3:\n",
    "        if registers['A'] != 0:\n",
    "            return operand\n",
    "    elif opcode == 4:\n",
    "        registers['B'] = registers['B'] ^ registers['C']\n",
    "    elif opcode == 5:\n",
    "        program_output.append(combo_operand(operand) % 8)\n",
    "    elif opcode == 6:\n",
    "        registers['B'] = int(registers['A']/(2**combo_operand(operand)))\n",
    "    elif opcode == 7:\n",
    "        registers['C'] = int(registers['A']/(2**combo_operand(operand)))\n",
    "    return pointer + 2 \n",
    "\n",
    "def run_program(program):\n",
    "    pointer = 0\n",
    "    while pointer < len(program):\n",
    "        pointer = execute_operation(pointer, program)"
   ]
  },
  {
   "cell_type": "code",
   "execution_count": 6,
   "id": "b9c479a4-770d-49b3-ac6e-df7d89cf0444",
   "metadata": {},
   "outputs": [],
   "source": [
    "run_program(program)"
   ]
  },
  {
   "cell_type": "code",
   "execution_count": 7,
   "id": "32757ead-9bf8-4bb3-b9cd-409268605a26",
   "metadata": {},
   "outputs": [
    {
     "data": {
      "text/plain": [
       "'1,6,3,6,5,6,5,1,7'"
      ]
     },
     "execution_count": 7,
     "metadata": {},
     "output_type": "execute_result"
    }
   ],
   "source": [
    "\",\".join([str(output) for output in program_output])"
   ]
  },
  {
   "cell_type": "markdown",
   "id": "70abdb23-81ff-4885-9d25-5adf1d5cd5a0",
   "metadata": {},
   "source": [
    "## Part 2"
   ]
  },
  {
   "cell_type": "markdown",
   "id": "d26f9620-70a6-49af-96a9-d4475c163484",
   "metadata": {},
   "source": [
    "Let's convert this itty-bitty machine code to Python, so we can make more sense of it. Every instruction except for `jnz` and `out` just performs some bitwise operation and writes it to one of our registers.\n",
    "\n",
    "Our program is given by `2,4,1,1,7,5,4,0,0,3,1,6,5,5,3,0`. All of these are bitwise operations except for the last two intsructions. The second to last instruction tells us to output the value of the `combo` operand `5`, and the last instruction tells us to jump to the beginning of the program if register `A` isn't `0`. Thus, we can view this program as **the following `while` loop**:"
   ]
  },
  {
   "cell_type": "code",
   "execution_count": 9,
   "id": "7d3e16d0-ac96-4b28-be5b-378010932bcb",
   "metadata": {},
   "outputs": [],
   "source": [
    "def compute(A, B, C):\n",
    "    output = []\n",
    "    while A != 0:\n",
    "        B = A % 8 # 2, 4\n",
    "        B = B ^ 1 # 1, 1\n",
    "        C = A >> B # 7, 5\n",
    "        B = B ^ C # 4, 0\n",
    "        A = A >> 3 # 0, 3\n",
    "        B = B ^ 6 # 1, 6\n",
    "        output.append(str(B % 8)) # 5, 5\n",
    "    return (\",\").join(output)"
   ]
  },
  {
   "cell_type": "code",
   "execution_count": 10,
   "id": "f4fb7f1f-6764-409e-8eb2-62cebb80bfa8",
   "metadata": {},
   "outputs": [
    {
     "data": {
      "text/plain": [
       "'1,6,3,6,5,6,5,1,7'"
      ]
     },
     "execution_count": 10,
     "metadata": {},
     "output_type": "execute_result"
    }
   ],
   "source": [
    "initial_registers, _ = load_program(input_text)\n",
    "compute(initial_registers['A'],0,0)"
   ]
  },
  {
   "cell_type": "markdown",
   "id": "9664f098-ef96-44ff-a0aa-45fc49b3b376",
   "metadata": {},
   "source": [
    "Nice, it works! Now we observe that registers `B` and `C` get assigned based on the value of register `A` each time in the loop, so it doesn't matter what those initial register values are. We also know that for every iteration, we **output once and then right shift `A` by three bits**. This means that to print exactly `n = len(program)` times, we need an integer with **at most $3 \\cdot n$ bits** and **at least $3 \\cdot n-2$ bits** in its binary representation. Moreover, **the last $k$ outputs are only dependent on the first $3 \\cdot k$ bits of $A$**. Let's see how we can leverage this to figure out what the initial value of register `A` must be to output our program.\n",
    "\n",
    "Let $x = x_1x_2x_3\\ldots x_{3n-1}x_{3n}$ denote the binary respresentation of the lowest possible initial value for register `A` that causes the program to output a copy of itself. We know we want the last output to be a `0` and that this only depends on the first 3 bits $x$. In particular, if we initialize register `A` with the integer corresponding to $x_1x_2x_3$ and run our program, the program should output a **single value equal to `0`**. This means we can reverse engineer $x_1x_2x_3$ by running our program with every 3-bit integer as our initial value for register `A`, and checking which ones output `0`. Since $0$ through $7$ are the only 3-bit integers, we just have to check these values."
   ]
  },
  {
   "cell_type": "code",
   "execution_count": 11,
   "id": "819bceb5-1861-46d9-bf69-bd96017abb01",
   "metadata": {},
   "outputs": [
    {
     "name": "stdout",
     "output_type": "stream",
     "text": [
      "A = 0, output = \n",
      "A = 1, output = 7\n",
      "A = 2, output = 5\n",
      "A = 3, output = 4\n",
      "A = 4, output = 3\n",
      "A = 5, output = 2\n",
      "A = 6, output = 1\n",
      "A = 7, output = 0\n"
     ]
    }
   ],
   "source": [
    "for i in range(8):\n",
    "    print(f\"A = {i}, output = {compute(i, 0, 0)}\")"
   ]
  },
  {
   "cell_type": "markdown",
   "id": "8900c40d-cd35-4d30-93ec-f055c816b70e",
   "metadata": {},
   "source": [
    "Since $7$ is the only 3-bit integer that would cause our program to output `0`, we know $x_1x_2x_3 = 111$. Now we can **continue inductively** to figure out what the next triple of bits should be. We do this by concatenating all triples of bits to $111$ and checking which one outputs the last two values of our output, `3,0`."
   ]
  },
  {
   "cell_type": "code",
   "execution_count": 12,
   "id": "f63f25d6-368f-46c1-b36e-97db51b4b4c1",
   "metadata": {},
   "outputs": [
    {
     "name": "stdout",
     "output_type": "stream",
     "text": [
      "A = 0, output = 3,0\n",
      "A = 1, output = 7,0\n",
      "A = 2, output = 2,0\n",
      "A = 3, output = 2,0\n",
      "A = 4, output = 2,0\n",
      "A = 5, output = 1,0\n",
      "A = 6, output = 1,0\n",
      "A = 7, output = 0,0\n"
     ]
    }
   ],
   "source": [
    "for i in range(8):\n",
    "    initial_value = (7 << 3) + i\n",
    "    print(f\"A = {i}, output = {compute(initial_value, 0, 0)}\")"
   ]
  },
  {
   "cell_type": "markdown",
   "id": "86cd45ef-79e5-4683-8545-0b2a0e10700a",
   "metadata": {},
   "source": [
    "Here we see that $0$ is the only 3-bit integer that gives us our desired output, so the **first six bits of $x$ must be $111000$**. Now we repeat until we've done this $n$ times and get our answer. One point of concern, though, is that in the above computation, there were multiple 3-bit integers we could append that would give the same 2-value output. It did not happen to us this time, but it might be the case that there are **multiple 3-bit integers we could choose** from that would output the correct answer at a given inductive step. Let's see what happens if we repeat this process one more time."
   ]
  },
  {
   "cell_type": "code",
   "execution_count": 13,
   "id": "9419d4a8-aea3-4217-80ed-2ebcc9ef7a02",
   "metadata": {},
   "outputs": [
    {
     "name": "stdout",
     "output_type": "stream",
     "text": [
      "A = 0, output = 7,3,0\n",
      "A = 1, output = 7,3,0\n",
      "A = 2, output = 5,3,0\n",
      "A = 3, output = 4,3,0\n",
      "A = 4, output = 5,3,0\n",
      "A = 5, output = 6,3,0\n",
      "A = 6, output = 2,3,0\n",
      "A = 7, output = 7,3,0\n"
     ]
    }
   ],
   "source": [
    "for i in range(8):\n",
    "    initial_value = (((7 << 3) + 0) << 3) + i\n",
    "    print(f\"A = {i}, output = {compute(initial_value, 0, 0)}\")"
   ]
  },
  {
   "cell_type": "markdown",
   "id": "82d3ebee-800a-40f1-818b-24aa0e4ef79e",
   "metadata": {},
   "source": [
    "Indeed, concatenating both $2$ and $4$ outputs the last 3 values of our program correctly. Thus, the first nine bits of $x$ could be $111000001$ or $111000010$. To address this, if at any step we have multiple 3-bit integers to choose from, we will keep track and apply our inductive process to *all* of the corresponding concatenated strings."
   ]
  },
  {
   "cell_type": "code",
   "execution_count": 14,
   "id": "8c53de04-e96b-4627-ac62-76d4a7d07fe0",
   "metadata": {},
   "outputs": [],
   "source": [
    "valid = []\n",
    "def induct(initial3k):\n",
    "    # Try concatenating all triples of bits to our current working string of 3k bits\n",
    "    for i in range(8):\n",
    "        # In the base case where we find our first three bits, we don't want to consider i=0 as this won't output anything\n",
    "        if initial3k == 0 and i == 0:\n",
    "            continue\n",
    "            \n",
    "        # Append the binary representation of i to the binary representation of our string of 3k bits\n",
    "        concatenated = (initial3k << 3) + i\n",
    "        output = compute(concatenated, 0, 0)\n",
    "\n",
    "        # If the output matches the last bits of our program, we recurse\n",
    "        if output == (\",\").join([str(entry) for entry in program[-(len(output.split(','))):]]):\n",
    "            # Store all the values that give us our entire output\n",
    "            if output == (\",\").join([str(entry) for entry in program]):\n",
    "                valid.append(concatenated)\n",
    "            induct(concatenated)"
   ]
  },
  {
   "cell_type": "markdown",
   "id": "16267d5f-2b89-4778-ae15-743ec9139e93",
   "metadata": {},
   "source": [
    "Since  we start with an empty string, we call `induct` on `0`, and this should recursively give us every valid initial value for `A`."
   ]
  },
  {
   "cell_type": "code",
   "execution_count": 15,
   "id": "f553027a-ec53-45f6-b0d6-c9a09f29a024",
   "metadata": {},
   "outputs": [
    {
     "data": {
      "text/plain": [
       "[247839653009594,\n",
       " 247839653009595,\n",
       " 247839653009599,\n",
       " 247839653009914,\n",
       " 247839653009915,\n",
       " 247839653009918]"
      ]
     },
     "execution_count": 15,
     "metadata": {},
     "output_type": "execute_result"
    }
   ],
   "source": [
    "induct(0)\n",
    "valid.sort()\n",
    "valid"
   ]
  },
  {
   "cell_type": "markdown",
   "id": "45a1444d-e296-4799-b6d0-fb544c8a33db",
   "metadata": {},
   "source": [
    "Finally, we verify that this outputs our program."
   ]
  },
  {
   "cell_type": "code",
   "execution_count": 16,
   "id": "e00ab919-280f-4d61-b472-54d7e906df9a",
   "metadata": {},
   "outputs": [
    {
     "data": {
      "text/plain": [
       "'2,4,1,1,7,5,4,0,0,3,1,6,5,5,3,0'"
      ]
     },
     "execution_count": 16,
     "metadata": {},
     "output_type": "execute_result"
    }
   ],
   "source": [
    "compute(min(valid), 0, 0)"
   ]
  },
  {
   "cell_type": "markdown",
   "id": "a9ff7d0a-36db-4411-a1f5-e217485a8ee0",
   "metadata": {},
   "source": [
    "**Great.**"
   ]
  },
  {
   "cell_type": "markdown",
   "id": "5bcacfe5-71bc-4980-bcda-3fa2e91906dc",
   "metadata": {
    "jp-MarkdownHeadingCollapsed": true
   },
   "source": [
    "# [Day 18: RAM Run](https://adventofcode.com/2024/day/18)"
   ]
  },
  {
   "cell_type": "markdown",
   "id": "12b4f294-bd46-4dc4-9ff0-0d2a2fe29fc7",
   "metadata": {},
   "source": [
    "## Part 1"
   ]
  },
  {
   "cell_type": "code",
   "execution_count": 2,
   "id": "8489437a-0880-4f83-96da-9b2301b46473",
   "metadata": {},
   "outputs": [],
   "source": [
    "file = open('input18.txt', 'r')\n",
    "input_text = file.read()\n",
    "file.close()"
   ]
  },
  {
   "cell_type": "code",
   "execution_count": 3,
   "id": "2e6279ee-81f5-4f1c-becb-bda1a8d033a3",
   "metadata": {},
   "outputs": [],
   "source": [
    "def read_corrupted(input_text):\n",
    "    lines = input_text.strip().splitlines()\n",
    "    corrupted = []\n",
    "    for line in lines:\n",
    "        i, j = [int(coord) for coord in line.split(',')]\n",
    "        corrupted.append((i,j))\n",
    "    return corrupted"
   ]
  },
  {
   "cell_type": "code",
   "execution_count": 4,
   "id": "33bb87a2-e5da-4d80-b9c1-06b3af074d3f",
   "metadata": {},
   "outputs": [],
   "source": [
    "corrupted = read_corrupted(input_text)"
   ]
  },
  {
   "cell_type": "markdown",
   "id": "9a2ab91c-3f01-424b-81c9-b76e50176956",
   "metadata": {},
   "source": [
    "First let's create a grid to represent our memory after the first kilobyte has fallen onto it. As we've done before, we will pad the boundaries of our grid to avoid out of bounds errors. "
   ]
  },
  {
   "cell_type": "code",
   "execution_count": 5,
   "id": "167ecbad-1b4b-4e91-8b1e-9fa5eef04ab9",
   "metadata": {},
   "outputs": [],
   "source": [
    "blank_memory = []\n",
    "blank_memory.append(['#' for i in range(73)])\n",
    "for i in range(71):\n",
    "    row = ['#']\n",
    "    for j in range(71):\n",
    "        row.append('.')\n",
    "    row.append('#')\n",
    "    blank_memory.append(row)\n",
    "blank_memory.append(['#' for i in range(73)])\n",
    "\n",
    "import copy\n",
    "memory = copy.deepcopy(blank_memory)\n",
    "for byte in corrupted[:1024]:\n",
    "    x, y = byte\n",
    "    memory[y+1][x+1] = '#'"
   ]
  },
  {
   "cell_type": "markdown",
   "id": "872503a9-e958-41de-8711-517f359da38e",
   "metadata": {},
   "source": [
    "This will clearly be a **shortest path problem** between `(0,0)` and `(70,70)`. Since we've already implemented Djikstra's in Day 16, we're allowed to cheat and use an external library to do this."
   ]
  },
  {
   "cell_type": "code",
   "execution_count": 6,
   "id": "6bca2f82-fd71-47e7-a83b-c0b2c1526f01",
   "metadata": {},
   "outputs": [],
   "source": [
    "import networkx as nx\n",
    "\n",
    "G = nx.Graph()\n",
    "directions = [np.array(direction) for direction in [(0,1),(0,-1),(1,0),(-1,0)]]\n",
    "def add_neighbors(position, memory, graph):\n",
    "    for direction in directions:\n",
    "        neighbor = position + direction\n",
    "        if memory[neighbor[0]][neighbor[1]] == '.':\n",
    "            graph.add_edge(tuple(position), tuple(neighbor))"
   ]
  },
  {
   "cell_type": "code",
   "execution_count": 7,
   "id": "d2dfaf22-8f60-43f3-8eb5-e7f38cf735c6",
   "metadata": {},
   "outputs": [],
   "source": [
    "for i, row in enumerate(memory):\n",
    "    for j, char in enumerate(row):\n",
    "        if char == \".\":\n",
    "            G.add_node((i,j))\n",
    "            add_neighbors(np.array([i,j]), memory, G)"
   ]
  },
  {
   "cell_type": "code",
   "execution_count": 8,
   "id": "702b1501-01fc-492f-9f2f-41b73b89e186",
   "metadata": {},
   "outputs": [
    {
     "data": {
      "text/plain": [
       "356"
      ]
     },
     "execution_count": 8,
     "metadata": {},
     "output_type": "execute_result"
    }
   ],
   "source": [
    "nx.shortest_path_length(G, (1,1), (71,71))"
   ]
  },
  {
   "cell_type": "markdown",
   "id": "a9cafc8e-8e9d-48db-8c51-18348d38b9bf",
   "metadata": {},
   "source": [
    "Thanks `networkx`! Recall that since our grid is padded, our `X` and `Y` coordinates are all 1-indexed, which is why we look at `(1,1)` and `(71,71)` in `G`."
   ]
  },
  {
   "cell_type": "markdown",
   "id": "e85daf71-13de-4684-a4a3-e9e826942161",
   "metadata": {},
   "source": [
    "## Part 2"
   ]
  },
  {
   "cell_type": "markdown",
   "id": "e53610c6-957c-4b85-97bb-54d63dd13f7b",
   "metadata": {},
   "source": [
    "Let's create a function that tests whether `(0,0)` and `(70,70)` are still connected after `k` bytes have fallen. "
   ]
  },
  {
   "cell_type": "code",
   "execution_count": 11,
   "id": "ce9dffd1-e56a-4bf6-a147-60e106a4c0eb",
   "metadata": {},
   "outputs": [],
   "source": [
    "def connected(t):\n",
    "    memory = copy.deepcopy(blank_memory)\n",
    "    for byte in corrupted[:t]:\n",
    "        x, y = byte\n",
    "        memory[y+1][x+1] = '#'\n",
    "\n",
    "    G = nx.Graph()\n",
    "    for i, row in enumerate(memory):\n",
    "        for j, char in enumerate(row):\n",
    "            if char == \".\":\n",
    "                G.add_node((i,j))\n",
    "                add_neighbors(np.array([i,j]), memory, G)\n",
    "    try:\n",
    "        nx.shortest_path_length(G, (1,1), (71,71))\n",
    "        return True\n",
    "    except:\n",
    "        return False"
   ]
  },
  {
   "cell_type": "markdown",
   "id": "7d8de608-e39d-447a-a1dc-2c5ee97aee68",
   "metadata": {},
   "source": [
    "Now we can just use **binary search** to find the first time the exit is unreachable from the starting position."
   ]
  },
  {
   "cell_type": "code",
   "execution_count": 14,
   "id": "18f6125b-6676-44b4-b88b-e8b4a7bb13b0",
   "metadata": {},
   "outputs": [],
   "source": [
    "window_size = len(corrupted) >> 1\n",
    "t = window_size\n",
    "\n",
    "while window_size > 0:\n",
    "    if connected(t) and not connected(t+1):\n",
    "        break\n",
    "    window_size >>= 1\n",
    "    t = t + window_size if connected(t) else t - window_size"
   ]
  },
  {
   "cell_type": "markdown",
   "id": "9abce0fc-d550-47ed-9b47-261252a1cd1c",
   "metadata": {},
   "source": [
    "And we can get the coordinates at this time."
   ]
  },
  {
   "cell_type": "code",
   "execution_count": 15,
   "id": "9be5a079-1f1a-4ac4-9820-44aad8c66d73",
   "metadata": {},
   "outputs": [
    {
     "data": {
      "text/plain": [
       "(22, 33)"
      ]
     },
     "execution_count": 15,
     "metadata": {},
     "output_type": "execute_result"
    }
   ],
   "source": [
    "corrupted[t]"
   ]
  },
  {
   "cell_type": "markdown",
   "id": "8c8d12d8-1ce5-43f8-a355-4d5eda03414b",
   "metadata": {
    "jp-MarkdownHeadingCollapsed": true
   },
   "source": [
    "# [Day 19: Linen Layout](https://adventofcode.com/2024/day/19)"
   ]
  },
  {
   "cell_type": "markdown",
   "id": "2939e8ea-1e7a-40ca-9759-96a40fcd43ee",
   "metadata": {},
   "source": [
    "## Part 1"
   ]
  },
  {
   "cell_type": "code",
   "execution_count": 5,
   "id": "27d8b82b-2762-4a6c-b531-6840c4c89914",
   "metadata": {},
   "outputs": [],
   "source": [
    "file = open('input19.txt', 'r')\n",
    "input_text = file.read()\n",
    "file.close()"
   ]
  },
  {
   "cell_type": "code",
   "execution_count": 6,
   "id": "22aa0b42-3618-47cb-a27a-64b409838575",
   "metadata": {},
   "outputs": [],
   "source": [
    "def get_patterns_and_designs(input_text):\n",
    "    patterns, designs = input_text.strip().split('\\n\\n')\n",
    "    patterns = set(patterns.split(', '))\n",
    "    designs = designs.splitlines()\n",
    "    return patterns, designs"
   ]
  },
  {
   "cell_type": "code",
   "execution_count": 7,
   "id": "e1b6fc13-6b64-4059-a70a-607dbe6dd510",
   "metadata": {},
   "outputs": [],
   "source": [
    "patterns, designs = get_patterns_and_designs(input_text)"
   ]
  },
  {
   "cell_type": "markdown",
   "id": "4ebaf9b6-21c2-49df-a19e-6f46ea4952f6",
   "metadata": {},
   "source": [
    "This is another typical **dynamic programming** problem. We know that a design is possible if and only if it is the **concatenation of a towel pattern and another possible design**. Thus, given a design, we can split it into two strings `first` and `second` and check if `first` is a towel pattern and use recursion to see if `second` is a possible design. The length of `first` can vary from `1` to the maximum length of a towel pattern."
   ]
  },
  {
   "cell_type": "code",
   "execution_count": 8,
   "id": "d29a473a-1f4f-457f-bd24-486c5107d7a0",
   "metadata": {},
   "outputs": [],
   "source": [
    "max_length = max(len(pattern) for pattern in patterns)\n",
    "design_memoization = {}\n",
    "def is_possible(design):\n",
    "    # Base case\n",
    "    if design in patterns:\n",
    "        return True\n",
    "\n",
    "    for i in range(1, min(max_length, len(design)) + 1):\n",
    "        # Split our design\n",
    "        first = design[:i]\n",
    "        second = design[i:]\n",
    "        # If the first part of the design isn't a towel pattern, this design cannot be valid\n",
    "        if first not in patterns:\n",
    "            continue\n",
    "        # Compute if the second part of the design is possible if we haven't already\n",
    "        if second not in design_memoization.keys():\n",
    "            design_memoization[second] = is_possible(second)\n",
    "        # If both parts are possible this design is possible\n",
    "        if design_memoization[second]:\n",
    "            return True\n",
    "    # If there is no way to split this design into two smaller possible designs, this design is impossible\n",
    "    return False"
   ]
  },
  {
   "cell_type": "code",
   "execution_count": 9,
   "id": "0224b762-c7c1-43b9-82ee-4e13c5a3070b",
   "metadata": {},
   "outputs": [
    {
     "data": {
      "text/plain": [
       "302"
      ]
     },
     "execution_count": 9,
     "metadata": {},
     "output_type": "execute_result"
    }
   ],
   "source": [
    "possible = list(filter(is_possible, designs))\n",
    "len(possible)"
   ]
  },
  {
   "cell_type": "markdown",
   "id": "c88a6276-94e8-48dc-b94b-c1d809e95bb6",
   "metadata": {},
   "source": [
    "## Part 2"
   ]
  },
  {
   "cell_type": "markdown",
   "id": "57efce54-d0da-497d-9874-aaf9d2b8002d",
   "metadata": {},
   "source": [
    "This recursion is almost the exact same as Part 1 except now we just keep track of the number of possible designs."
   ]
  },
  {
   "cell_type": "code",
   "execution_count": 10,
   "id": "e7ee3ef4-a551-4c88-83c9-0d8bf50efc39",
   "metadata": {},
   "outputs": [],
   "source": [
    "possible_designs_memoization = {}\n",
    "def get_possible_designs(design):\n",
    "    possible_designs = 0\n",
    "    if design in patterns:\n",
    "        possible_designs += 1\n",
    "    \n",
    "    for i in range(1, min(max_length, len(design)) + 1):\n",
    "        first = design[:i]\n",
    "        second = design[i:]\n",
    "        if first not in patterns:\n",
    "            continue\n",
    "        if second not in possible_designs_memoization.keys():\n",
    "            possible_designs_memoization[second] = get_possible_designs(second)\n",
    "        possible_designs += possible_designs_memoization[second]\n",
    "        \n",
    "    return possible_designs "
   ]
  },
  {
   "cell_type": "code",
   "execution_count": 11,
   "id": "849f76cd-5417-4a71-bb34-60c40be1d1c6",
   "metadata": {},
   "outputs": [],
   "source": [
    "possible_designs = [get_possible_designs(design) for design in designs]"
   ]
  },
  {
   "cell_type": "code",
   "execution_count": 12,
   "id": "520ac042-0004-4ff8-b51b-f53b9799e69c",
   "metadata": {},
   "outputs": [
    {
     "data": {
      "text/plain": [
       "771745460576799"
      ]
     },
     "execution_count": 12,
     "metadata": {},
     "output_type": "execute_result"
    }
   ],
   "source": [
    "sum(possible_designs)"
   ]
  },
  {
   "cell_type": "markdown",
   "id": "375ea9a9-88ee-498b-8abe-4a97e26bea34",
   "metadata": {
    "jp-MarkdownHeadingCollapsed": true
   },
   "source": [
    "# [Day 20: Race Condition](https://adventofcode.com/2024/day/20)"
   ]
  },
  {
   "cell_type": "markdown",
   "id": "3de0d299-4e87-4bfe-9906-126fac8a0692",
   "metadata": {},
   "source": [
    "## Part 1"
   ]
  },
  {
   "cell_type": "code",
   "execution_count": 2,
   "id": "e5ad1124-90c1-4ccf-9d57-ed9eb63a0627",
   "metadata": {},
   "outputs": [],
   "source": [
    "file = open('input20.txt', 'r')\n",
    "input_text = file.read()\n",
    "file.close()"
   ]
  },
  {
   "cell_type": "code",
   "execution_count": 3,
   "id": "f6ec1e3f-b032-47e4-9e26-03054e398b0d",
   "metadata": {},
   "outputs": [],
   "source": [
    "import networkx as nx\n",
    "import copy\n",
    "\n",
    "def read_racetrack(input_text):\n",
    "    lines = input_text.strip().splitlines()\n",
    "    racetrack = []\n",
    "    for i, line in enumerate(lines):\n",
    "        row = []\n",
    "        for j, char in enumerate(line):\n",
    "            if char == \"S\":\n",
    "                start = (i,j)\n",
    "            if char == \"E\":\n",
    "                end = (i,j)\n",
    "            row.append(char)\n",
    "        racetrack.append(row)\n",
    "    return racetrack, start, end"
   ]
  },
  {
   "cell_type": "code",
   "execution_count": 4,
   "id": "9940dd06-c13a-42b0-aa71-795bb7112a03",
   "metadata": {},
   "outputs": [],
   "source": [
    "racetrack, start, end = read_racetrack(input_text)"
   ]
  },
  {
   "cell_type": "markdown",
   "id": "459c29d9-3503-4a46-8041-26400a97c2c2",
   "metadata": {},
   "source": [
    "Let's get the **unique path** through the racetrack."
   ]
  },
  {
   "cell_type": "code",
   "execution_count": 5,
   "id": "4c52ef07-9021-4ad9-9fa6-be1ed7f0328a",
   "metadata": {},
   "outputs": [],
   "source": [
    "directions = [np.array(direction) for direction in [(0,1),(0,-1),(1,0),(-1,0)]]\n",
    "current = np.array(start)\n",
    "path = [start]\n",
    "while tuple(current) != end:\n",
    "    for direction in directions:\n",
    "        neighbor = current + direction\n",
    "        if racetrack[neighbor[0]][neighbor[1]] != '#' and tuple(neighbor) not in path:\n",
    "            path.append(tuple(neighbor))\n",
    "            current = neighbor\n",
    "            break"
   ]
  },
  {
   "cell_type": "markdown",
   "id": "86503e1f-d2ef-43b3-9dbd-0792838a24bf",
   "metadata": {},
   "source": [
    "To check all possible cheats starting at a certain position $p$, we look at all points $q$ in our racetrack that are **two steps away**. For each $q$, we check that this point is in the unique path. Then if $\\text{index of }q - \\text{index of }p - 2 > 0$, we know we will have a successful cheat. This is because we will have **cut out $\\text{index of }q - \\text{index of }p$ steps** and **replaced it with the $2$ steps** taken to use the cheat."
   ]
  },
  {
   "cell_type": "code",
   "execution_count": 6,
   "id": "35cc62ed-08b0-4bd6-bb4e-4d398db9ac95",
   "metadata": {},
   "outputs": [],
   "source": [
    "# Store the indices of each node in our path to save lookup time\n",
    "path_index = {node: i for i, node in enumerate(path)}\n",
    "def check_shortcuts(position, racetrack, path, shortcuts):\n",
    "    for first_step in directions:\n",
    "        neighbor = position + first_step\n",
    "        for second_step in directions:\n",
    "            next_neighbor = neighbor + second_step\n",
    "            if tuple(next_neighbor) in path_index:\n",
    "                distance_saved = path_index[tuple(next_neighbor)] - path_index[position] - 2\n",
    "                if distance_saved >= 100:\n",
    "                    shortcuts[(position, tuple(next_neighbor))] = distance_saved"
   ]
  },
  {
   "cell_type": "markdown",
   "id": "5195a087-4abf-46b5-9bf0-1c831a48e6c7",
   "metadata": {},
   "source": [
    "Now we just apply this function to every point in our path."
   ]
  },
  {
   "cell_type": "code",
   "execution_count": 7,
   "id": "66d40a0e-811f-41e2-a90c-7fb790cb5722",
   "metadata": {},
   "outputs": [],
   "source": [
    "shortcuts = {}\n",
    "for node in path:\n",
    "    check_shortcuts(node, racetrack, path, shortcuts)"
   ]
  },
  {
   "cell_type": "code",
   "execution_count": 8,
   "id": "6b9765df-dde0-49cb-ad53-fac31907958e",
   "metadata": {},
   "outputs": [
    {
     "data": {
      "text/plain": [
       "1417"
      ]
     },
     "execution_count": 8,
     "metadata": {},
     "output_type": "execute_result"
    }
   ],
   "source": [
    "len(shortcuts)"
   ]
  },
  {
   "cell_type": "markdown",
   "id": "8b665316-570a-44c9-a32e-17b603c61e1c",
   "metadata": {},
   "source": [
    "## Part 2"
   ]
  },
  {
   "cell_type": "markdown",
   "id": "084dcf73-302b-4b4f-80df-23252db62908",
   "metadata": {},
   "source": [
    "We will do the same thing as above, but now to check for shortcuts starting at a position $p$, we look at **all neighbors $q$ that are within `20` steps** of $p$. Then as before, if $q$ is in our path, we **cut out $\\text{index of }q - \\text{index of }p$ steps** and replace it with the **number of steps it takes to get from $p$ to $q$**. f this difference is greater than `100`, we keep track of it. Note that the neighbors of $p$ that are within `20` steps can be given **formulaically** by the set $\\set{p + (\\pm i, \\pm(j-i)) \\ | \\ 1 \\leq j \\leq 20, \\ 0 \\leq i \\leq j}$ where $j$ indicates the number of steps taken from $p$."
   ]
  },
  {
   "cell_type": "code",
   "execution_count": 9,
   "id": "aae15837-7b4a-4914-9b99-6f37cdb6ba8e",
   "metadata": {},
   "outputs": [],
   "source": [
    "def check_shortcuts20(position, racetrack, path, shortcuts):\n",
    "    x, y = position\n",
    "    for j in range(1,21):\n",
    "        for i in range(0,j+1):\n",
    "            neighbors = [(x + i, y + j - i), (x + i, y - (j - i)), (x - i, y + j - i), (x - i, y - (j - i))]\n",
    "            for neighbor in neighbors:\n",
    "                if neighbor in path_index:\n",
    "                    distance_saved = path_index[neighbor] - path_index[position] - j\n",
    "                    if distance_saved >= 100:\n",
    "                        shortcuts[(position, neighbor)] = distance_saved"
   ]
  },
  {
   "cell_type": "code",
   "execution_count": 10,
   "id": "13fa95dc-806d-45e6-a249-c5d856276631",
   "metadata": {},
   "outputs": [],
   "source": [
    "shortcuts20 = {}\n",
    "for i, node in enumerate(path):\n",
    "    check_shortcuts20(node, racetrack, path, shortcuts20)"
   ]
  },
  {
   "cell_type": "code",
   "execution_count": 11,
   "id": "d5dc8e62-7324-43e0-b442-6b4c87fe5fb8",
   "metadata": {},
   "outputs": [
    {
     "data": {
      "text/plain": [
       "1014683"
      ]
     },
     "execution_count": 11,
     "metadata": {},
     "output_type": "execute_result"
    }
   ],
   "source": [
    "len(shortcuts20)"
   ]
  },
  {
   "cell_type": "markdown",
   "id": "a487e3fc-2a48-4415-9a5a-43281898ae3f",
   "metadata": {},
   "source": [
    "# Day 21"
   ]
  },
  {
   "cell_type": "markdown",
   "id": "4c24cc08-e3b8-4c56-a310-dbeb51313edf",
   "metadata": {
    "jp-MarkdownHeadingCollapsed": true
   },
   "source": [
    "# [Day 22: Monkey Market](https://adventofcode.com/2024/day/22)"
   ]
  },
  {
   "cell_type": "markdown",
   "id": "5b6862c6-c0d8-4bce-b8ba-4d4b569e0032",
   "metadata": {},
   "source": [
    "## Part 1"
   ]
  },
  {
   "cell_type": "code",
   "execution_count": 2,
   "id": "5d2da570-0707-4746-a4f0-40ac2c70a15c",
   "metadata": {},
   "outputs": [],
   "source": [
    "file = open('input22.txt', 'r')\n",
    "input_text = file.read()\n",
    "file.close()"
   ]
  },
  {
   "cell_type": "code",
   "execution_count": 3,
   "id": "101026ca-4f53-4e9b-a9dc-765ed0e74ad0",
   "metadata": {},
   "outputs": [],
   "source": [
    "def get_secret_numbers(input_text):\n",
    "    return [int(number) for number in input_text.strip().splitlines()]"
   ]
  },
  {
   "cell_type": "code",
   "execution_count": 4,
   "id": "60b0d3fc-1f8e-4c9b-b053-e198c9f418f7",
   "metadata": {},
   "outputs": [],
   "source": [
    "numbers = get_secret_numbers(input_text)"
   ]
  },
  {
   "cell_type": "markdown",
   "id": "5609e189-ad1e-46ce-aa79-71ab35e45445",
   "metadata": {},
   "source": [
    "There shouldn't be anything fancy here. We just need to implement one iteration of the appropriate mixing and pruning and then run this `2000` times."
   ]
  },
  {
   "cell_type": "code",
   "execution_count": 5,
   "id": "593a65d0-8421-4ebc-9c44-1dba5fa3bb1d",
   "metadata": {},
   "outputs": [],
   "source": [
    "def generate_next_number(secret_number):\n",
    "    secret_number = (secret_number ^ (secret_number << 6)) % 16777216\n",
    "    secret_number = (secret_number ^ (secret_number >> 5)) % 16777216\n",
    "    secret_number = (secret_number ^ (secret_number << 11)) % 16777216\n",
    "    return secret_number\n",
    "\n",
    "def get_price(secret_number, iterations):\n",
    "    current = secret_number\n",
    "    for i in range(iterations):\n",
    "        current = generate_next_number(current)\n",
    "    return current"
   ]
  },
  {
   "cell_type": "code",
   "execution_count": 6,
   "id": "4f62e610-7158-4dea-87eb-3dbedf5ea7cc",
   "metadata": {},
   "outputs": [
    {
     "data": {
      "text/plain": [
       "14691757043"
      ]
     },
     "execution_count": 6,
     "metadata": {},
     "output_type": "execute_result"
    }
   ],
   "source": [
    "total = 0\n",
    "for secret_number in numbers:\n",
    "    total += get_price(secret_number, 2000)\n",
    "total"
   ]
  },
  {
   "cell_type": "markdown",
   "id": "6e1a5205-21da-4324-8ce4-cc7027859693",
   "metadata": {},
   "source": [
    "## Part 2"
   ]
  },
  {
   "cell_type": "markdown",
   "id": "9a84469c-cbe7-483f-8c60-376477a47245",
   "metadata": {},
   "source": [
    "Now we modify `get_price` slightly to just look at the last digit of each secret number and to return the entire list of prices."
   ]
  },
  {
   "cell_type": "code",
   "execution_count": 7,
   "id": "7a1e5700-4dec-42d8-9259-b8c8e391c959",
   "metadata": {},
   "outputs": [],
   "source": [
    "def get_price_list(secret_number, iterations):\n",
    "    current = secret_number\n",
    "    price_list = [current % 10]\n",
    "    for i in range(iterations):\n",
    "        current = generate_next_number(current)\n",
    "        price_list.append(current % 10)\n",
    "    return price_list"
   ]
  },
  {
   "cell_type": "markdown",
   "id": "2c18c1b7-bf0f-42c5-ac30-86952014637a",
   "metadata": {},
   "source": [
    "Now for each monkey, we simply **iterate through every sequence of 4 consecutive price changes** out of the list of `2000`. For a given sequence of price changes $(\\Delta_1, \\Delta_2, \\Delta_3, \\Delta_4)$, we keep track of the price after $\\Delta_4$ if this is the first time we see this sequence of price changes. Otherwise, we do nothing. This gives all possible sequences of 4 consecutive price changes that will **yield a sale from this monkey vendor**. Doing this over all monkeys and summing up all the values for each sequence of price changes will give us the one that will get us the most bananas overall."
   ]
  },
  {
   "cell_type": "code",
   "execution_count": 8,
   "id": "e8846525-8891-4a2f-a08b-53177e6f82db",
   "metadata": {},
   "outputs": [],
   "source": [
    "from collections import defaultdict\n",
    "price_change_sequences = defaultdict(int)\n",
    "for secret_number in numbers:\n",
    "    price_list = get_price_list(secret_number, 2000)\n",
    "    # Keep track of the sequences of price changes we've seen before\n",
    "    seen = set()\n",
    "    for i in range(len(price_list) - 4):\n",
    "        # Get the sequence of 4 consecutive price changes starting at the ith iteration\n",
    "        change_sequence = tuple(price_list[i+j+1] - price for j, price in enumerate(price_list[i:i+4]))\n",
    "        if change_sequence not in seen:\n",
    "            # Add the number of bananas we'd get from this monkey and price change sequence\n",
    "            price_change_sequences[change_sequence] += price_list[i+4]\n",
    "            seen.add(change_sequence)"
   ]
  },
  {
   "cell_type": "code",
   "execution_count": 9,
   "id": "042b3a03-e5f7-48f6-a161-264ad868732b",
   "metadata": {},
   "outputs": [
    {
     "name": "stdout",
     "output_type": "stream",
     "text": [
      "(0, -1, 0, 1)\n",
      "1831\n"
     ]
    }
   ],
   "source": [
    "print(max(price_change_sequences, key=price_change_sequences.get))\n",
    "print(max(price_change_sequences.values()))"
   ]
  },
  {
   "cell_type": "markdown",
   "id": "ba143e50-ebf1-47e1-abc4-a431f1c5d0ad",
   "metadata": {
    "jp-MarkdownHeadingCollapsed": true
   },
   "source": [
    "# [Day 23: LAN Party](https://adventofcode.com/2024/day/23)"
   ]
  },
  {
   "cell_type": "code",
   "execution_count": 2,
   "id": "8e0213c3-db08-48fb-bc02-1e2c980851a0",
   "metadata": {},
   "outputs": [],
   "source": [
    "file = open('input23.txt', 'r')\n",
    "input_text = file.read()\n",
    "file.close()"
   ]
  },
  {
   "cell_type": "code",
   "execution_count": 3,
   "id": "eb75ab63-afeb-4fea-8831-41243c5fc5a7",
   "metadata": {},
   "outputs": [],
   "source": [
    "import networkx as nx\n",
    "def read_graph(input_text):\n",
    "    edges = input_text.strip().splitlines()\n",
    "    G = nx.Graph()\n",
    "    for edge in edges:\n",
    "        vertices = edge.split('-')\n",
    "        G.add_edge(vertices[0], vertices[1])\n",
    "    return G"
   ]
  },
  {
   "cell_type": "code",
   "execution_count": 4,
   "id": "ce870eab-2692-4434-9e3d-bb0194eae424",
   "metadata": {},
   "outputs": [],
   "source": [
    "G = read_graph(input_text)"
   ]
  },
  {
   "cell_type": "markdown",
   "id": "5d8baa9c-e185-4fa4-ae99-0d5702abe86f",
   "metadata": {},
   "source": [
    "This one is pretty easy if you know some **graph theory**. We can model our **computers as vertices** of a graph and the **connections as edges**. Recall that a subset of $n$ vertices of a graph is called an **$n$-clique** if every pair of these $n$ vertices is an edge in the graph. Thus, Part 1 is asking us to find the number of $3$-cliques that contain a computer with a name that starts with a `t`.\n",
    "\n",
    "We will use `networkx` again. In fact, `networkx` already has a method to find cliques, but we will only use the library to represent our graph and check edge relations."
   ]
  },
  {
   "cell_type": "code",
   "execution_count": 5,
   "id": "72bccead-f916-4ed9-816a-63f1bc7a1846",
   "metadata": {},
   "outputs": [],
   "source": [
    "import itertools\n",
    "t_nodes = [node for node in G.nodes if node[0] == \"t\"]\n",
    "three_cliques = set()\n",
    "for node in t_nodes:\n",
    "    neighbors = list(G.neighbors(node))\n",
    "    pairs = itertools.combinations(neighbors, 2)\n",
    "    for pair in pairs:\n",
    "        if G.has_edge(*pair):\n",
    "            three_cliques.add(frozenset([node, *pair]))"
   ]
  },
  {
   "cell_type": "code",
   "execution_count": 6,
   "id": "4c924cee-1593-4490-be81-0d30a0a0547d",
   "metadata": {},
   "outputs": [
    {
     "data": {
      "text/plain": [
       "1419"
      ]
     },
     "execution_count": 6,
     "metadata": {},
     "output_type": "execute_result"
    }
   ],
   "source": [
    "len(three_cliques)"
   ]
  },
  {
   "cell_type": "markdown",
   "id": "ed95c5f2-14de-48e1-aba4-9f22df7ed8c7",
   "metadata": {},
   "source": [
    "## Part 2"
   ]
  },
  {
   "cell_type": "markdown",
   "id": "b0f2cf7e-ea6b-4527-a11d-de1e3ae714a8",
   "metadata": {},
   "source": [
    "Now we want to find the **maximal clique** in our computer network. We can do this recursively. The key observation is that for an $n$-clique $C$, *any* subset of $n-1$ vertices $C'$ must form an $(n-1)$-clique. This means any $n$-clique $C$ is of the form $\\set{v} \\cup C'$ where $C'$ is an $(n-1)$-clique and $v$ is a vertex not in $C'$ that shares an edge with every vertex in $C'$. Computationally, if we know an $(n-1)$-clique $C'$, we can check if there are any common neighbors between all elements of $C'$ to see if it is part of an $n$-clique. Doing this over all $(n-1)$-cliques gives rise to all possible $n$-cliques."
   ]
  },
  {
   "cell_type": "code",
   "execution_count": 7,
   "id": "337407df-0926-46d6-b52c-faa6d0556838",
   "metadata": {},
   "outputs": [],
   "source": [
    "cliques_memoization = {}\n",
    "\n",
    "def get_n_cliques(G, n):\n",
    "    if n in cliques_memoization.keys():\n",
    "        return cliques_memoization[n]\n",
    "\n",
    "    # The set of 1-cliques is just the set of vertices\n",
    "    if n == 1:\n",
    "        n_cliques = set([frozenset([node]) for node in G.nodes])\n",
    "        cliques_memoization[1] = n_cliques\n",
    "        return n_cliques\n",
    "\n",
    "    # Look at all n-1 cliques\n",
    "    n_1_cliques = get_n_cliques(G, n-1)\n",
    "    n_cliques = set()\n",
    "    for clique in n_1_cliques:\n",
    "        # Check for common neighbors amongst all n-1 vertices\n",
    "        common_neighbors = G.nodes\n",
    "        for node in clique:\n",
    "            neighbors = set(G.neighbors(node))\n",
    "            common_neighbors = common_neighbors & neighbors\n",
    "        # Any common neighbor gives us an n clique\n",
    "        for common_neighbor in common_neighbors:\n",
    "            new_clique = set(clique)\n",
    "            new_clique.add(common_neighbor)\n",
    "            n_cliques.add(frozenset(new_clique))\n",
    "    cliques_memoization[n] = n_cliques\n",
    "    return n_cliques"
   ]
  },
  {
   "cell_type": "code",
   "execution_count": 8,
   "id": "93762aa1-06a1-4d35-9a35-7c461b670c68",
   "metadata": {},
   "outputs": [],
   "source": [
    "n = 1\n",
    "current = get_n_cliques(G,n)\n",
    "while len(current) > 0:\n",
    "    n+= 1\n",
    "    current = get_n_cliques(G,n)"
   ]
  },
  {
   "cell_type": "code",
   "execution_count": 9,
   "id": "27191026-f83d-4e67-a903-fecc2e227dd4",
   "metadata": {},
   "outputs": [
    {
     "data": {
      "text/plain": [
       "14"
      ]
     },
     "execution_count": 9,
     "metadata": {},
     "output_type": "execute_result"
    }
   ],
   "source": [
    "n"
   ]
  },
  {
   "cell_type": "markdown",
   "id": "30ec61e1-bc49-4b7f-8ab6-5c006523ba70",
   "metadata": {},
   "source": [
    "It seems that `14` is the first value of `n` for which there are no $n$-cliques. This means the maximal clique size is `13`."
   ]
  },
  {
   "cell_type": "code",
   "execution_count": 10,
   "id": "15739ea2-3c4e-46bc-9d5e-11dee961035e",
   "metadata": {},
   "outputs": [
    {
     "data": {
      "text/plain": [
       "'af,aq,ck,ee,fb,it,kg,of,ol,rt,sc,vk,zh'"
      ]
     },
     "execution_count": 10,
     "metadata": {},
     "output_type": "execute_result"
    }
   ],
   "source": [
    "max_clique = next(iter(get_n_cliques(G,13)))\n",
    "\",\".join(sorted(list(max_clique)))"
   ]
  },
  {
   "cell_type": "code",
   "execution_count": null,
   "id": "89e59539-7c6d-4703-a117-bc880d9f7349",
   "metadata": {},
   "outputs": [],
   "source": []
  }
 ],
 "metadata": {
  "kernelspec": {
   "display_name": "Python 3 (ipykernel)",
   "language": "python",
   "name": "python3"
  },
  "language_info": {
   "codemirror_mode": {
    "name": "ipython",
    "version": 3
   },
   "file_extension": ".py",
   "mimetype": "text/x-python",
   "name": "python",
   "nbconvert_exporter": "python",
   "pygments_lexer": "ipython3",
   "version": "3.11.8"
  }
 },
 "nbformat": 4,
 "nbformat_minor": 5
}
