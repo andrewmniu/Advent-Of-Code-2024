{
 "cells": [
  {
   "cell_type": "markdown",
   "id": "7ef1b7aa-ec72-4102-927e-89ba2c393e3e",
   "metadata": {},
   "source": [
    "# Advent of Code 2024 Solutions"
   ]
  },
  {
   "cell_type": "markdown",
   "id": "35ab2450-a78f-43b6-8320-f59b0c89916d",
   "metadata": {},
   "source": [
    "First, let's import all the packages we'll use:"
   ]
  },
  {
   "cell_type": "code",
   "execution_count": 5,
   "id": "39bf5b8f-e19d-4598-90d6-325dd9c50e74",
   "metadata": {},
   "outputs": [],
   "source": [
    "import numpy as np\n",
    "import re\n",
    "import networkx as nx\n",
    "# import copy"
   ]
  },
  {
   "cell_type": "markdown",
   "id": "6724dfd4-3bc6-4427-93e1-87301dbc010e",
   "metadata": {
    "jp-MarkdownHeadingCollapsed": true
   },
   "source": [
    "# [Day 1 Historian Hysteria](https://adventofcode.com/2024/day/1)"
   ]
  },
  {
   "cell_type": "code",
   "execution_count": 7,
   "id": "7d2cf1fb-a8f4-4c8d-8818-5015f0e6e97a",
   "metadata": {},
   "outputs": [],
   "source": [
    "file = open('input1.txt', 'r')\n",
    "input_text = file.read()\n",
    "file.close()"
   ]
  },
  {
   "cell_type": "markdown",
   "id": "d6fda1c3-8553-4cee-aefa-90979a864cd6",
   "metadata": {},
   "source": [
    "## Part 1"
   ]
  },
  {
   "cell_type": "markdown",
   "id": "f00288e8-9813-424e-9c0f-c50e6990a7c1",
   "metadata": {},
   "source": [
    "Starting off pretty easy - let's just convert our lists to vectors, sort by size, and then take the difference."
   ]
  },
  {
   "cell_type": "code",
   "execution_count": 8,
   "id": "31ceb173-5873-4b1f-8e37-769e0fba521c",
   "metadata": {},
   "outputs": [],
   "source": [
    "def create_lists(input_text):\n",
    "    lines = input_text.strip().splitlines()\n",
    "    left_list = []\n",
    "    right_list = []\n",
    "    for line in lines:\n",
    "        left, right = line.split()\n",
    "        left_list.append(int(left))\n",
    "        right_list.append(int(right))\n",
    "    return left_list, right_list"
   ]
  },
  {
   "cell_type": "code",
   "execution_count": 11,
   "id": "b7fd9546-3af1-4fce-827a-c1b0de782703",
   "metadata": {},
   "outputs": [
    {
     "data": {
      "text/plain": [
       "2367773"
      ]
     },
     "execution_count": 11,
     "metadata": {},
     "output_type": "execute_result"
    }
   ],
   "source": [
    "left_list, right_list = create_lists(input_text)\n",
    "left_list = np.sort(left_list)\n",
    "right_list = np.sort(right_list)\n",
    "np.sum(np.absolute(right_list-left_list))"
   ]
  },
  {
   "cell_type": "markdown",
   "id": "8b9157d1-2e52-41e3-843f-96d0b3b5a1b9",
   "metadata": {},
   "source": [
    "## Part 2"
   ]
  },
  {
   "cell_type": "markdown",
   "id": "b95b795a-df13-4e3c-82e8-088f87b7dba0",
   "metadata": {},
   "source": [
    "This one's also pretty chill. We can just loop through each value in left list and count how many times it appears in the right list."
   ]
  },
  {
   "cell_type": "code",
   "execution_count": 13,
   "id": "e1ebe38c-98de-4055-a549-4a3207bbd1ad",
   "metadata": {},
   "outputs": [
    {
     "data": {
      "text/plain": [
       "21271939"
      ]
     },
     "execution_count": 13,
     "metadata": {},
     "output_type": "execute_result"
    }
   ],
   "source": [
    "score = 0\n",
    "for num in left_list:\n",
    "    score += num * np.count_nonzero(right_list == num)\n",
    "score"
   ]
  },
  {
   "cell_type": "markdown",
   "id": "e0a1bd9f-f0dd-4391-a176-2ab8674d5fce",
   "metadata": {
    "jp-MarkdownHeadingCollapsed": true
   },
   "source": [
    "# [Day 2: Red-Nosed Reports](https://adventofcode.com/2024/day/2)"
   ]
  },
  {
   "cell_type": "code",
   "execution_count": 1,
   "id": "092bec7e-7dca-4d1a-90ae-d9325505f32f",
   "metadata": {},
   "outputs": [],
   "source": [
    "file = open('input2.txt', 'r')\n",
    "input_text = file.read()\n",
    "file.close()"
   ]
  },
  {
   "cell_type": "markdown",
   "id": "71665e02-a5da-49e1-9dff-8c72e9223e2f",
   "metadata": {},
   "source": [
    "## Part 1"
   ]
  },
  {
   "cell_type": "code",
   "execution_count": 2,
   "id": "dfc697ec-a40e-4e66-a262-f6a3ddfcd198",
   "metadata": {},
   "outputs": [],
   "source": [
    "def read_reports(input_text):\n",
    "    lines = input_text.strip().splitlines()\n",
    "    \n",
    "    reports = []\n",
    "    for line in lines:\n",
    "        reports.append([int(level) for level in line.split()])\n",
    "    return reports"
   ]
  },
  {
   "cell_type": "code",
   "execution_count": 3,
   "id": "cf011387-f316-4546-919a-1e30ecfedaa2",
   "metadata": {},
   "outputs": [],
   "source": [
    "reports = read_reports(input_text)"
   ]
  },
  {
   "cell_type": "markdown",
   "id": "6499adbf-e3f9-4d8b-bf6e-f7aea7781c97",
   "metadata": {},
   "source": [
    "A report is safe if its **strictly monotonic**, and each consecutive difference is **between $1$ and $3$ in absolute value**. We'll create a function to test for this and then run this function on every report in our list."
   ]
  },
  {
   "cell_type": "code",
   "execution_count": 4,
   "id": "20efbf75-3996-423a-9a00-f397e2d2e9d3",
   "metadata": {},
   "outputs": [],
   "source": [
    "def is_report_safe(report):\n",
    "    differences = []\n",
    "    for i in range(len(report) - 1):\n",
    "        differences.append(report[i+1]-report[i])\n",
    "    strictly_monotonic = all(num < 0 for num in differences) or all(num > 0 for num in differences)\n",
    "    gradual = all(1 <= num and 3 >= num for num in [abs(difference) for difference in differences])\n",
    "    return strictly_monotonic and gradual"
   ]
  },
  {
   "cell_type": "code",
   "execution_count": 5,
   "id": "92452bc8-6b7c-4c06-9936-21009f4e3d40",
   "metadata": {},
   "outputs": [
    {
     "data": {
      "text/plain": [
       "502"
      ]
     },
     "execution_count": 5,
     "metadata": {},
     "output_type": "execute_result"
    }
   ],
   "source": [
    "number_safe = 0\n",
    "for report in reports:\n",
    "    if is_report_safe(report):\n",
    "        number_safe += 1\n",
    "number_safe"
   ]
  },
  {
   "cell_type": "markdown",
   "id": "0c32f66a-cd6f-45c6-9354-58879154a3c8",
   "metadata": {},
   "source": [
    "## Part 2 "
   ]
  },
  {
   "cell_type": "markdown",
   "id": "b46b2a6e-6e47-4a6f-b0a8-3899431d8317",
   "metadata": {},
   "source": [
    "For each report, we can see if it only has one bad level by removing each level and seeing if the remaining levels constitute a safe report."
   ]
  },
  {
   "cell_type": "code",
   "execution_count": 7,
   "id": "490f604c-06a3-49e1-a417-9b92b6dfc942",
   "metadata": {},
   "outputs": [
    {
     "data": {
      "text/plain": [
       "544"
      ]
     },
     "execution_count": 7,
     "metadata": {},
     "output_type": "execute_result"
    }
   ],
   "source": [
    "number_safe = 0\n",
    "for report in reports:\n",
    "    for i in range(len(report)):\n",
    "        if is_report_safe([level for j, level in enumerate(report) if j != i]):\n",
    "            number_safe += 1\n",
    "            break\n",
    "number_safe"
   ]
  },
  {
   "cell_type": "markdown",
   "id": "f7231a77-94e4-4b92-9d14-d3d24d5d6b19",
   "metadata": {},
   "source": [
    "# [Day 3: Mull It Over](https://adventofcode.com/2024/day/3)"
   ]
  },
  {
   "cell_type": "code",
   "execution_count": 2,
   "id": "99be8450-0ae0-4e7a-92c7-6872e6368d06",
   "metadata": {},
   "outputs": [],
   "source": [
    "file = open('input3.txt', 'r')\n",
    "input_text = file.read()\n",
    "file.close()"
   ]
  },
  {
   "cell_type": "markdown",
   "id": "77394098-27a9-436a-969b-f4e6bf058a94",
   "metadata": {},
   "source": [
    "## Part 1"
   ]
  },
  {
   "cell_type": "markdown",
   "id": "06c083af-a0ba-413d-90e7-635991dd3b1e",
   "metadata": {},
   "source": [
    "We can use a simple **regular expression** to detect all substrings of the form `mul(X,Y)` where `X` and `Y` are 1-3 digit numbers"
   ]
  },
  {
   "cell_type": "code",
   "execution_count": 3,
   "id": "9fa8f2f2-8483-4db8-b0e8-63e5c268fbdc",
   "metadata": {},
   "outputs": [],
   "source": [
    "mem = input_text"
   ]
  },
  {
   "cell_type": "code",
   "execution_count": 4,
   "id": "d0c8f83b-adce-49e3-8048-17dffcf460f2",
   "metadata": {},
   "outputs": [],
   "source": [
    "regex = r\"mul\\((-?\\d+),(-?\\d+)\\)\"\n",
    "def extract_multiplications(mem):\n",
    "    total = 0\n",
    "    matches = re.findall(regex, mem)\n",
    "    for match in matches:\n",
    "        total += int(match[0])*int(match[1])\n",
    "    return total"
   ]
  },
  {
   "cell_type": "code",
   "execution_count": 6,
   "id": "5ef8942c-9306-4b9c-b78e-655b423b1b29",
   "metadata": {},
   "outputs": [
    {
     "data": {
      "text/plain": [
       "167090022"
      ]
     },
     "execution_count": 6,
     "metadata": {},
     "output_type": "execute_result"
    }
   ],
   "source": [
    "# mult_regex = r\"mul\\((-?\\d+),(-?\\d+)\\)\"\n",
    "extract_multiplications(mem)"
   ]
  },
  {
   "cell_type": "markdown",
   "id": "4c8f0962-3de7-449b-9538-fcdb22af8c29",
   "metadata": {},
   "source": [
    "# Part 2"
   ]
  },
  {
   "cell_type": "markdown",
   "id": "fbcde6df-3d5e-4e95-9682-1352cd8f6a33",
   "metadata": {},
   "source": [
    "We just have to preprocess our string a bit for part 2. We can split our string into blocks separated by `don't()`'s. Since the multiplication instructions are **enabled at the beginning**, we can count all the multiplications in the first block. In the other blocks, we only want to count multiplications **after the first `do()`**, since the start of each block follows a `don't()`."
   ]
  },
  {
   "cell_type": "code",
   "execution_count": 7,
   "id": "de830a01-7ba4-4594-8679-7e0a65bbffbb",
   "metadata": {},
   "outputs": [
    {
     "data": {
      "text/plain": [
       "89823704"
      ]
     },
     "execution_count": 7,
     "metadata": {},
     "output_type": "execute_result"
    }
   ],
   "source": [
    "blocks = mem.split(\"don't()\")\n",
    "total = 0\n",
    "for block in blocks[1:]:\n",
    "    do = str(block.split(\"do()\", 1)[1:])\n",
    "    total += extract_multiplications(do)\n",
    "total += extract_multiplications(blocks[0])\n",
    "total"
   ]
  },
  {
   "cell_type": "code",
   "execution_count": null,
   "id": "fb87d63b-8396-424d-96da-ab500d1913d2",
   "metadata": {},
   "outputs": [],
   "source": []
  }
 ],
 "metadata": {
  "kernelspec": {
   "display_name": "Python 3 (ipykernel)",
   "language": "python",
   "name": "python3"
  },
  "language_info": {
   "codemirror_mode": {
    "name": "ipython",
    "version": 3
   },
   "file_extension": ".py",
   "mimetype": "text/x-python",
   "name": "python",
   "nbconvert_exporter": "python",
   "pygments_lexer": "ipython3",
   "version": "3.11.8"
  }
 },
 "nbformat": 4,
 "nbformat_minor": 5
}
