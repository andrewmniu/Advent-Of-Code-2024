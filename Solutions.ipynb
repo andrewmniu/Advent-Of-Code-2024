{
 "cells": [
  {
   "cell_type": "markdown",
   "id": "7ef1b7aa-ec72-4102-927e-89ba2c393e3e",
   "metadata": {},
   "source": [
    "# Advent of Code 2024 Solutions"
   ]
  },
  {
   "cell_type": "markdown",
   "id": "35ab2450-a78f-43b6-8320-f59b0c89916d",
   "metadata": {},
   "source": [
    "First, let's import all the packages we'll use:"
   ]
  },
  {
   "cell_type": "code",
   "execution_count": 1,
   "id": "39bf5b8f-e19d-4598-90d6-325dd9c50e74",
   "metadata": {},
   "outputs": [],
   "source": [
    "import numpy as np\n",
    "import re\n",
    "import networkx as nx\n",
    "import itertools\n",
    "import math\n",
    "import copy"
   ]
  },
  {
   "cell_type": "markdown",
   "id": "6724dfd4-3bc6-4427-93e1-87301dbc010e",
   "metadata": {
    "jp-MarkdownHeadingCollapsed": true
   },
   "source": [
    "# [Day 1 Historian Hysteria](https://adventofcode.com/2024/day/1)"
   ]
  },
  {
   "cell_type": "code",
   "execution_count": 7,
   "id": "7d2cf1fb-a8f4-4c8d-8818-5015f0e6e97a",
   "metadata": {},
   "outputs": [],
   "source": [
    "file = open('input1.txt', 'r')\n",
    "input_text = file.read()\n",
    "file.close()"
   ]
  },
  {
   "cell_type": "markdown",
   "id": "d6fda1c3-8553-4cee-aefa-90979a864cd6",
   "metadata": {},
   "source": [
    "## Part 1"
   ]
  },
  {
   "cell_type": "markdown",
   "id": "f00288e8-9813-424e-9c0f-c50e6990a7c1",
   "metadata": {},
   "source": [
    "Starting off pretty easy - let's just convert our lists to vectors, sort by size, and then take the difference."
   ]
  },
  {
   "cell_type": "code",
   "execution_count": 8,
   "id": "31ceb173-5873-4b1f-8e37-769e0fba521c",
   "metadata": {},
   "outputs": [],
   "source": [
    "def create_lists(input_text):\n",
    "    lines = input_text.strip().splitlines()\n",
    "    left_list = []\n",
    "    right_list = []\n",
    "    for line in lines:\n",
    "        left, right = line.split()\n",
    "        left_list.append(int(left))\n",
    "        right_list.append(int(right))\n",
    "    return left_list, right_list"
   ]
  },
  {
   "cell_type": "code",
   "execution_count": 11,
   "id": "b7fd9546-3af1-4fce-827a-c1b0de782703",
   "metadata": {},
   "outputs": [
    {
     "data": {
      "text/plain": [
       "2367773"
      ]
     },
     "execution_count": 11,
     "metadata": {},
     "output_type": "execute_result"
    }
   ],
   "source": [
    "left_list, right_list = create_lists(input_text)\n",
    "left_list = np.sort(left_list)\n",
    "right_list = np.sort(right_list)\n",
    "np.sum(np.absolute(right_list-left_list))"
   ]
  },
  {
   "cell_type": "markdown",
   "id": "8b9157d1-2e52-41e3-843f-96d0b3b5a1b9",
   "metadata": {},
   "source": [
    "## Part 2"
   ]
  },
  {
   "cell_type": "markdown",
   "id": "b95b795a-df13-4e3c-82e8-088f87b7dba0",
   "metadata": {},
   "source": [
    "This one's also pretty chill. We can just loop through each value in left list and count how many times it appears in the right list."
   ]
  },
  {
   "cell_type": "code",
   "execution_count": 13,
   "id": "e1ebe38c-98de-4055-a549-4a3207bbd1ad",
   "metadata": {},
   "outputs": [
    {
     "data": {
      "text/plain": [
       "21271939"
      ]
     },
     "execution_count": 13,
     "metadata": {},
     "output_type": "execute_result"
    }
   ],
   "source": [
    "score = 0\n",
    "for num in left_list:\n",
    "    score += num * np.count_nonzero(right_list == num)\n",
    "score"
   ]
  },
  {
   "cell_type": "markdown",
   "id": "e0a1bd9f-f0dd-4391-a176-2ab8674d5fce",
   "metadata": {
    "jp-MarkdownHeadingCollapsed": true
   },
   "source": [
    "# [Day 2: Red-Nosed Reports](https://adventofcode.com/2024/day/2)"
   ]
  },
  {
   "cell_type": "code",
   "execution_count": 1,
   "id": "092bec7e-7dca-4d1a-90ae-d9325505f32f",
   "metadata": {},
   "outputs": [],
   "source": [
    "file = open('input2.txt', 'r')\n",
    "input_text = file.read()\n",
    "file.close()"
   ]
  },
  {
   "cell_type": "markdown",
   "id": "71665e02-a5da-49e1-9dff-8c72e9223e2f",
   "metadata": {},
   "source": [
    "## Part 1"
   ]
  },
  {
   "cell_type": "code",
   "execution_count": 2,
   "id": "dfc697ec-a40e-4e66-a262-f6a3ddfcd198",
   "metadata": {},
   "outputs": [],
   "source": [
    "def read_reports(input_text):\n",
    "    lines = input_text.strip().splitlines()\n",
    "    \n",
    "    reports = []\n",
    "    for line in lines:\n",
    "        reports.append([int(level) for level in line.split()])\n",
    "    return reports"
   ]
  },
  {
   "cell_type": "code",
   "execution_count": 3,
   "id": "cf011387-f316-4546-919a-1e30ecfedaa2",
   "metadata": {},
   "outputs": [],
   "source": [
    "reports = read_reports(input_text)"
   ]
  },
  {
   "cell_type": "markdown",
   "id": "6499adbf-e3f9-4d8b-bf6e-f7aea7781c97",
   "metadata": {},
   "source": [
    "A report is safe if its **strictly monotonic**, and each consecutive difference is **between $1$ and $3$ in absolute value**. We'll create a function to test for this and then run this function on every report in our list."
   ]
  },
  {
   "cell_type": "code",
   "execution_count": 4,
   "id": "20efbf75-3996-423a-9a00-f397e2d2e9d3",
   "metadata": {},
   "outputs": [],
   "source": [
    "def is_report_safe(report):\n",
    "    differences = []\n",
    "    for i in range(len(report) - 1):\n",
    "        differences.append(report[i+1]-report[i])\n",
    "    strictly_monotonic = all(num < 0 for num in differences) or all(num > 0 for num in differences)\n",
    "    gradual = all(1 <= num and 3 >= num for num in [abs(difference) for difference in differences])\n",
    "    return strictly_monotonic and gradual"
   ]
  },
  {
   "cell_type": "code",
   "execution_count": 5,
   "id": "92452bc8-6b7c-4c06-9936-21009f4e3d40",
   "metadata": {},
   "outputs": [
    {
     "data": {
      "text/plain": [
       "502"
      ]
     },
     "execution_count": 5,
     "metadata": {},
     "output_type": "execute_result"
    }
   ],
   "source": [
    "number_safe = 0\n",
    "for report in reports:\n",
    "    if is_report_safe(report):\n",
    "        number_safe += 1\n",
    "number_safe"
   ]
  },
  {
   "cell_type": "markdown",
   "id": "0c32f66a-cd6f-45c6-9354-58879154a3c8",
   "metadata": {},
   "source": [
    "## Part 2 "
   ]
  },
  {
   "cell_type": "markdown",
   "id": "b46b2a6e-6e47-4a6f-b0a8-3899431d8317",
   "metadata": {},
   "source": [
    "For each report, we can see if it only has one bad level by removing each level and seeing if the remaining levels constitute a safe report."
   ]
  },
  {
   "cell_type": "code",
   "execution_count": 7,
   "id": "490f604c-06a3-49e1-a417-9b92b6dfc942",
   "metadata": {},
   "outputs": [
    {
     "data": {
      "text/plain": [
       "544"
      ]
     },
     "execution_count": 7,
     "metadata": {},
     "output_type": "execute_result"
    }
   ],
   "source": [
    "number_safe = 0\n",
    "for report in reports:\n",
    "    for i in range(len(report)):\n",
    "        if is_report_safe([level for j, level in enumerate(report) if j != i]):\n",
    "            number_safe += 1\n",
    "            break\n",
    "number_safe"
   ]
  },
  {
   "cell_type": "markdown",
   "id": "f7231a77-94e4-4b92-9d14-d3d24d5d6b19",
   "metadata": {
    "jp-MarkdownHeadingCollapsed": true
   },
   "source": [
    "# [Day 3: Mull It Over](https://adventofcode.com/2024/day/3)"
   ]
  },
  {
   "cell_type": "code",
   "execution_count": 2,
   "id": "99be8450-0ae0-4e7a-92c7-6872e6368d06",
   "metadata": {},
   "outputs": [],
   "source": [
    "file = open('input3.txt', 'r')\n",
    "input_text = file.read()\n",
    "file.close()"
   ]
  },
  {
   "cell_type": "markdown",
   "id": "77394098-27a9-436a-969b-f4e6bf058a94",
   "metadata": {},
   "source": [
    "## Part 1"
   ]
  },
  {
   "cell_type": "markdown",
   "id": "06c083af-a0ba-413d-90e7-635991dd3b1e",
   "metadata": {},
   "source": [
    "We can use a simple **regular expression** to detect all substrings of the form `mul(X,Y)` where `X` and `Y` are 1-3 digit numbers"
   ]
  },
  {
   "cell_type": "code",
   "execution_count": 3,
   "id": "9fa8f2f2-8483-4db8-b0e8-63e5c268fbdc",
   "metadata": {},
   "outputs": [],
   "source": [
    "mem = input_text"
   ]
  },
  {
   "cell_type": "code",
   "execution_count": 4,
   "id": "d0c8f83b-adce-49e3-8048-17dffcf460f2",
   "metadata": {},
   "outputs": [],
   "source": [
    "regex = r\"mul\\((-?\\d+),(-?\\d+)\\)\"\n",
    "def extract_multiplications(mem):\n",
    "    total = 0\n",
    "    matches = re.findall(regex, mem)\n",
    "    for match in matches:\n",
    "        total += int(match[0])*int(match[1])\n",
    "    return total"
   ]
  },
  {
   "cell_type": "code",
   "execution_count": 6,
   "id": "5ef8942c-9306-4b9c-b78e-655b423b1b29",
   "metadata": {},
   "outputs": [
    {
     "data": {
      "text/plain": [
       "167090022"
      ]
     },
     "execution_count": 6,
     "metadata": {},
     "output_type": "execute_result"
    }
   ],
   "source": [
    "# mult_regex = r\"mul\\((-?\\d+),(-?\\d+)\\)\"\n",
    "extract_multiplications(mem)"
   ]
  },
  {
   "cell_type": "markdown",
   "id": "4c8f0962-3de7-449b-9538-fcdb22af8c29",
   "metadata": {},
   "source": [
    "## Part 2"
   ]
  },
  {
   "cell_type": "markdown",
   "id": "fbcde6df-3d5e-4e95-9682-1352cd8f6a33",
   "metadata": {},
   "source": [
    "We just have to preprocess our string a bit for part 2. We can split our string into blocks separated by `don't()`'s. Since the multiplication instructions are **enabled at the beginning**, we can count all the multiplications in the first block. In the other blocks, we only want to count multiplications **after the first `do()`**, since the start of each block follows a `don't()`."
   ]
  },
  {
   "cell_type": "code",
   "execution_count": 7,
   "id": "de830a01-7ba4-4594-8679-7e0a65bbffbb",
   "metadata": {},
   "outputs": [
    {
     "data": {
      "text/plain": [
       "89823704"
      ]
     },
     "execution_count": 7,
     "metadata": {},
     "output_type": "execute_result"
    }
   ],
   "source": [
    "blocks = mem.split(\"don't()\")\n",
    "total = 0\n",
    "for block in blocks[1:]:\n",
    "    do = str(block.split(\"do()\", 1)[1:])\n",
    "    total += extract_multiplications(do)\n",
    "total += extract_multiplications(blocks[0])\n",
    "total"
   ]
  },
  {
   "cell_type": "markdown",
   "id": "5ca96b9d-7b46-451b-b5e1-81a1e3042312",
   "metadata": {
    "jp-MarkdownHeadingCollapsed": true
   },
   "source": [
    "# [Day 4: Ceres Search](https://adventofcode.com/2024/day/4)"
   ]
  },
  {
   "cell_type": "code",
   "execution_count": 2,
   "id": "ebb7d161-e326-41cb-9dd4-e320880f1ae4",
   "metadata": {},
   "outputs": [],
   "source": [
    "file = open('input4.txt', 'r')\n",
    "input_text = file.read()\n",
    "file.close()"
   ]
  },
  {
   "cell_type": "markdown",
   "id": "595f3f02-7172-48dd-9d54-a98ead1e6207",
   "metadata": {},
   "source": [
    "## Part 1"
   ]
  },
  {
   "cell_type": "code",
   "execution_count": 10,
   "id": "01c79620-96d3-479b-b496-f89ea6cab858",
   "metadata": {},
   "outputs": [],
   "source": [
    "def read_word_search(input_text):\n",
    "    lines = input_text.strip().splitlines()\n",
    "\n",
    "    # We'll pad our array so when we use numpy vector as indices, we don't have to worry about going out of bounds.\n",
    "    word_search = [['.']*(len(lines[0])+2)] \n",
    "    \n",
    "    for line in lines:\n",
    "        row = ['.']\n",
    "        for col_index, char in enumerate(line):\n",
    "            row.append(char) \n",
    "        row.append('.')\n",
    "        word_search.append(row)\n",
    "    word_search.append(['.']*(len(lines[0])+2))\n",
    "    return word_search"
   ]
  },
  {
   "cell_type": "code",
   "execution_count": 4,
   "id": "d644635a-fb89-47f1-bc32-836218bbeb2a",
   "metadata": {},
   "outputs": [],
   "source": [
    "word_search = read_word_search(input_text)"
   ]
  },
  {
   "cell_type": "markdown",
   "id": "e1cc9584-c6aa-4ffd-825c-cfea03b7309e",
   "metadata": {},
   "source": [
    "For each character in our word search, we'll iterate in each direction and check if those characters spell \"XMAS.\""
   ]
  },
  {
   "cell_type": "code",
   "execution_count": 5,
   "id": "2331e45f-e787-477a-bc1a-a7041508b86e",
   "metadata": {},
   "outputs": [],
   "source": [
    "def detect_xmas(i, j, direction, word_search):\n",
    "    current = np.array([i,j])\n",
    "    for i in range(4):\n",
    "        ith_letter = current + i * direction\n",
    "        if word_search[ith_letter[0]][ith_letter[1]] != \"XMAS\"[i]:\n",
    "            return 0\n",
    "    return 1"
   ]
  },
  {
   "cell_type": "code",
   "execution_count": 6,
   "id": "43bf2178-c7a2-4a40-9621-1b4dedbe433a",
   "metadata": {},
   "outputs": [
    {
     "data": {
      "text/plain": [
       "2406"
      ]
     },
     "execution_count": 6,
     "metadata": {},
     "output_type": "execute_result"
    }
   ],
   "source": [
    "directions = [np.array(direction) for direction in [(-1,0),(0,1),(1,0),(0,-1),(1,1),(1,-1),(-1,-1),(-1,1)]]    \n",
    "total = 0\n",
    "for i, row in enumerate(word_search):\n",
    "    for j, entry in enumerate(row):\n",
    "        if entry == '.':\n",
    "            continue\n",
    "        for direction in directions:\n",
    "            total += detect_xmas(i, j, direction, word_search)\n",
    "total"
   ]
  },
  {
   "cell_type": "markdown",
   "id": "86169fbf-1980-46fb-8559-3724f139b183",
   "metadata": {},
   "source": [
    "## Part 2"
   ]
  },
  {
   "cell_type": "markdown",
   "id": "c6cd372f-6ac0-4293-9947-f5eef8cd4751",
   "metadata": {},
   "source": [
    "Not much extra stuff to do here. We just have to get a little fancier to get the neighboring letters. For any given `A`, we just have to check the cells neighboring it diagonally. Below, we flatten out our diagonals from the bottom left to the top right. So if we have a diagonal crossing that looks like,\n",
    "\n",
    "$\\begin{bmatrix} x_1 & . & x_2 \\\\ . & x_3 & . \\\\ x_4 & . & x_5 \\end{bmatrix}$, \n",
    "\n",
    "we map this to the string $x_4x_5x_3x_1x_2$. We then check to see if this matches one of the four possible`X-MAS`'s."
   ]
  },
  {
   "cell_type": "code",
   "execution_count": 7,
   "id": "220d1b70-b8eb-4f18-9bfe-def2974953bb",
   "metadata": {},
   "outputs": [],
   "source": [
    "valid_x_mas = {\"MSAMS\",\"MMASS\",\"SMASM\",\"SSAMM\"}\n",
    "def detect_x_mas(i, j, word_search):\n",
    "    cross = \"\"\n",
    "    parity_checker = (i+j) % 2\n",
    "    for k in range(i-1, i+2):\n",
    "        for l in range(j-1, j+2):\n",
    "            if (k + l) % 2 == parity_checker: \n",
    "                cross += word_search[k][l]\n",
    "    return 1 if cross in valid_x_mas else 0"
   ]
  },
  {
   "cell_type": "code",
   "execution_count": 8,
   "id": "b1a896e2-6c3a-47e7-b87f-d133334d902c",
   "metadata": {},
   "outputs": [
    {
     "data": {
      "text/plain": [
       "1807"
      ]
     },
     "execution_count": 8,
     "metadata": {},
     "output_type": "execute_result"
    }
   ],
   "source": [
    "x_mas_total = 0\n",
    "for i, row in enumerate(word_search):\n",
    "    for j, entry in enumerate(row):\n",
    "        if entry == '.':\n",
    "            continue\n",
    "        x_mas_total += detect_x_mas(i, j, word_search)\n",
    "x_mas_total"
   ]
  },
  {
   "cell_type": "markdown",
   "id": "653b5df0-98de-4cb7-a816-5a6e5549d431",
   "metadata": {
    "jp-MarkdownHeadingCollapsed": true
   },
   "source": [
    "# [Day 5: Print Queue](https://adventofcode.com/2024/day/5)"
   ]
  },
  {
   "cell_type": "code",
   "execution_count": 2,
   "id": "9db34ab9-68dc-4379-9091-bdb23a717fb5",
   "metadata": {},
   "outputs": [],
   "source": [
    "file = open('input5.txt', 'r')\n",
    "input_text = file.read()\n",
    "file.close()"
   ]
  },
  {
   "cell_type": "markdown",
   "id": "c6613181-245f-47eb-9f9f-1080dc2fec83",
   "metadata": {},
   "source": [
    "## Part 1"
   ]
  },
  {
   "cell_type": "code",
   "execution_count": 3,
   "id": "e915a515-6032-4be8-a434-b61a0236879a",
   "metadata": {},
   "outputs": [],
   "source": [
    "def get_rules_and_updates(input_text):\n",
    "    rules, updates = input_text.strip().split(\"\\n\\n\")\n",
    "    rules = rules.split('\\n')\n",
    "    updates = updates.split('\\n')\n",
    "    return rules, updates"
   ]
  },
  {
   "cell_type": "code",
   "execution_count": 5,
   "id": "a27ef40a-2293-4944-aa0b-8dcbd1ec5426",
   "metadata": {},
   "outputs": [],
   "source": [
    "rules, updates = get_rules_and_updates(input_text)\n",
    "rules = set(tuple(rule.split('|')) for rule in rules)"
   ]
  },
  {
   "cell_type": "markdown",
   "id": "cdb1cf06-324a-4c45-b83e-1db637d23aad",
   "metadata": {},
   "source": [
    "Since the rules give us a way to order updates of pages, we can just use **quick sort** with `|` in place of `<`. Once we get a sorted list of pages according to the rules, we can check if the update matches the sorted list of pages.\n",
    "\n",
    "*Digression: Initially I assumed that the rules would form a total ordering of the pages since this was the case in the small example that the problem gave. So my first approach was just to attempt to sort all of the pages at the beginning, which is why I thought to use quick sort. After spending some time being very confused as to why my code wasn't working, I **finally** checked the input for the first time. It was a good lesson to check my input before writing the solution for later days.*"
   ]
  },
  {
   "cell_type": "code",
   "execution_count": 6,
   "id": "47cdb412-695a-4934-9402-a8cb396d9991",
   "metadata": {},
   "outputs": [],
   "source": [
    "def quicksort(lst):\n",
    "    if len(lst) == 0:\n",
    "        return []\n",
    "    pivot = lst[0]\n",
    "    left = []\n",
    "    right = []\n",
    "    for elt in lst[1:]:\n",
    "        if (elt, pivot) in rules:\n",
    "            left.append(elt)\n",
    "        else:\n",
    "            right.append(elt)\n",
    "    return quicksort(left) + [pivot] + quicksort(right)"
   ]
  },
  {
   "cell_type": "code",
   "execution_count": 7,
   "id": "4fdaea93-420f-4fdd-9d56-234ce711d1ee",
   "metadata": {},
   "outputs": [
    {
     "data": {
      "text/plain": [
       "5588"
      ]
     },
     "execution_count": 7,
     "metadata": {},
     "output_type": "execute_result"
    }
   ],
   "source": [
    "total = 0 \n",
    "for update in updates:\n",
    "    update_pages = update.split(',')\n",
    "    sorted_pages = quicksort(update_pages)\n",
    "    mapped_update = [sorted_pages.index(page) for page in update_pages]\n",
    "    monotonic = all([mapped_update[i] < mapped_update[i+1] for i in range(len(mapped_update) - 1)])\n",
    "    if monotonic:\n",
    "        total += int(update_pages[int((len(mapped_update)-1)/2)])\n",
    "total"
   ]
  },
  {
   "cell_type": "markdown",
   "id": "a7c4d9bf-cf26-48de-9f43-bd85beeba4ed",
   "metadata": {},
   "source": [
    "## Part 2"
   ]
  },
  {
   "cell_type": "markdown",
   "id": "2e745b82-a59e-44c5-85cf-eece8e426c64",
   "metadata": {},
   "source": [
    "This should be pretty easy since we already sorted updates into the correct order in Part 1."
   ]
  },
  {
   "cell_type": "code",
   "execution_count": 8,
   "id": "3ae84f36-c235-41ff-a490-2aee880e8540",
   "metadata": {},
   "outputs": [
    {
     "data": {
      "text/plain": [
       "5331"
      ]
     },
     "execution_count": 8,
     "metadata": {},
     "output_type": "execute_result"
    }
   ],
   "source": [
    "total = 0 \n",
    "for update in updates:\n",
    "    update_pages = update.split(',')\n",
    "    sorted_pages = quicksort(update_pages)\n",
    "    mapped_update = [sorted_pages.index(page) for page in update_pages]\n",
    "    monotonic = all([mapped_update[i] < mapped_update[i+1] for i in range(len(mapped_update) - 1)])\n",
    "    if not monotonic:\n",
    "        total += int(sorted_pages[int((len(mapped_update)-1)/2)])\n",
    "total"
   ]
  },
  {
   "cell_type": "markdown",
   "id": "2fa993ff-bc16-4736-b976-bd775f3f64d7",
   "metadata": {
    "jp-MarkdownHeadingCollapsed": true
   },
   "source": [
    "# [Day 6: Guard Gallivant](https://adventofcode.com/2024/day/6)"
   ]
  },
  {
   "cell_type": "code",
   "execution_count": 1,
   "id": "86264f33-bf38-410f-93e0-d5cf3e541704",
   "metadata": {},
   "outputs": [],
   "source": [
    "file = open('input6.txt', 'r')\n",
    "input_text = file.read()\n",
    "file.close()"
   ]
  },
  {
   "cell_type": "markdown",
   "id": "a4ec18ec-6a68-4c33-8cd1-04fd944b9d6e",
   "metadata": {},
   "source": [
    "## Part 1"
   ]
  },
  {
   "cell_type": "code",
   "execution_count": 3,
   "id": "626c5974-3cd1-4a51-bb58-d1bd01e94db2",
   "metadata": {},
   "outputs": [],
   "source": [
    "def read_map(input_text):\n",
    "    lines = input_text.strip().splitlines()\n",
    "    matrix = [['@' for i in range(len(lines[0])+2)]]\n",
    "\n",
    "    for row_index, line in enumerate(lines):\n",
    "        row = ['@']\n",
    "        for col_index, char in enumerate(line):\n",
    "            if char == '#':\n",
    "                row.append(\"#\")\n",
    "            else:\n",
    "                row.append('.')\n",
    "            if char == '^':\n",
    "                start_position = (row_index+1, col_index+1)\n",
    "        row.append('@')\n",
    "        matrix.append(row)\n",
    "    matrix.append(['@' for i in range(len(lines[0])+2)])\n",
    "    \n",
    "    return matrix, np.array(start_position)"
   ]
  },
  {
   "cell_type": "code",
   "execution_count": 4,
   "id": "688be072-c01f-47f7-9fbc-e1cf560d46d7",
   "metadata": {},
   "outputs": [],
   "source": [
    "guard_map, start_position = read_map(input_text)"
   ]
  },
  {
   "cell_type": "code",
   "execution_count": 5,
   "id": "fc75de31-7107-4457-8c7d-067db50f5838",
   "metadata": {},
   "outputs": [],
   "source": [
    "directions = [np.array(direction) for direction in [(-1,0),(0,1),(1,0),(0,-1)]]\n",
    "i = 0\n",
    "position = np.copy(start_position)\n",
    "squares = set()\n",
    "while True:\n",
    "    squares.add(tuple(position))\n",
    "    next_position = position + directions[i]\n",
    "    if guard_map[next_position[0]][next_position[1]] == \"@\":\n",
    "        break\n",
    "    elif guard_map[next_position[0]][next_position[1]] == \"#\":\n",
    "        i = (i+1) % 4\n",
    "    else:\n",
    "        position = next_position"
   ]
  },
  {
   "cell_type": "code",
   "execution_count": 6,
   "id": "d6164e5f-6615-423a-8781-3c158b50359f",
   "metadata": {},
   "outputs": [
    {
     "data": {
      "text/plain": [
       "4656"
      ]
     },
     "execution_count": 6,
     "metadata": {},
     "output_type": "execute_result"
    }
   ],
   "source": [
    "len(squares)"
   ]
  },
  {
   "cell_type": "markdown",
   "id": "a34e82d7-c770-4529-90a0-74a2bbcb2979",
   "metadata": {},
   "source": [
    "## Part 2"
   ]
  },
  {
   "cell_type": "code",
   "execution_count": null,
   "id": "ed287af1-d70f-49be-bd32-401877be2116",
   "metadata": {},
   "outputs": [],
   "source": []
  },
  {
   "cell_type": "markdown",
   "id": "ace5d9e1-4b2d-4499-ae6b-85268e38339c",
   "metadata": {
    "jp-MarkdownHeadingCollapsed": true
   },
   "source": [
    "# [Day 7: Bridge Repair](https://adventofcode.com/2024/day/7)"
   ]
  },
  {
   "cell_type": "code",
   "execution_count": 1,
   "id": "793d4d27-514d-4d6b-a590-6e3953840125",
   "metadata": {},
   "outputs": [],
   "source": [
    "file = open('input7.txt', 'r')\n",
    "input_text = file.read()\n",
    "file.close()"
   ]
  },
  {
   "cell_type": "markdown",
   "id": "24e71de2-046a-4648-aa37-567116a8fe65",
   "metadata": {},
   "source": [
    "## Part 1"
   ]
  },
  {
   "cell_type": "code",
   "execution_count": 7,
   "id": "7165d061-944e-4a11-a932-3b0d98a6c84b",
   "metadata": {},
   "outputs": [],
   "source": [
    "def read_equations(input_text):\n",
    "    equations = []\n",
    "    lines = input_text.strip().splitlines()    \n",
    "    for equation in lines:\n",
    "        data = equation.split(' ')\n",
    "        test_value = int(data[0][:-1])\n",
    "        nums = tuple(int(value) for value in data[1:])\n",
    "        equations.append({\n",
    "            'test_value': test_value,\n",
    "            'nums': nums,\n",
    "        })\n",
    "    return equations"
   ]
  },
  {
   "cell_type": "code",
   "execution_count": 8,
   "id": "a777e9a6-ea64-47f6-ac08-24de06ff22ac",
   "metadata": {},
   "outputs": [],
   "source": [
    "equations = read_equations(input_text)"
   ]
  },
  {
   "cell_type": "markdown",
   "id": "4e086e37-8763-42d8-b02e-90d13ece43b9",
   "metadata": {},
   "source": [
    "We'll use recursion here. For a given sequence of numbers $x_1 \\ x_2 \\ \\ldots \\ x_{n-1} \\ x_n$ in an equation, we compute all the possible results we could get from different combinations of operations for the sequence $x_1 \\ x_2 \\ \\ldots \\ x_{n-1}$. Then for each number in this set, we add or multiply $x_n$ to get all the possible values we could get by inserting different combinations of operations into our entire sequence. I'm not sure whether memoizing is necessary here, but why not?"
   ]
  },
  {
   "cell_type": "code",
   "execution_count": 9,
   "id": "0f24c927-c62f-4226-af2a-b6f6297c43b3",
   "metadata": {},
   "outputs": [],
   "source": [
    "memoization_table = {}\n",
    "def get_combinations(nums):\n",
    "    if len(nums) == 1:\n",
    "        return set(nums)\n",
    "    last = nums[-1]\n",
    "    subtuple = nums[:-1]\n",
    "    if subtuple in memoization_table.keys():\n",
    "        rest = memoization_table[subtuple]\n",
    "    else:\n",
    "        rest = get_combinations(subtuple)\n",
    "        memoization_table[subtuple] = rest\n",
    "    return set(last + combination for combination in rest) | set(last * combination for combination in rest)"
   ]
  },
  {
   "cell_type": "code",
   "execution_count": 10,
   "id": "87275e58-53bc-4aee-b2b9-1cd6b366843d",
   "metadata": {},
   "outputs": [
    {
     "data": {
      "text/plain": [
       "303766880536"
      ]
     },
     "execution_count": 10,
     "metadata": {},
     "output_type": "execute_result"
    }
   ],
   "source": [
    "total = 0\n",
    "for equation in equations:\n",
    "    test_value = equation['test_value']\n",
    "    nums = equation['nums']\n",
    "    if test_value in get_combinations(nums):\n",
    "        total += test_value\n",
    "total"
   ]
  },
  {
   "cell_type": "markdown",
   "id": "97ac4f8b-4ea3-4389-8dab-c93a88043186",
   "metadata": {},
   "source": [
    "## Part 2"
   ]
  },
  {
   "cell_type": "markdown",
   "id": "b4837c19-89f0-4e38-b054-5660400ffbc1",
   "metadata": {},
   "source": [
    "We'll apply the same recursive method as above but now we throw in the concatenation operator in the inductive step."
   ]
  },
  {
   "cell_type": "code",
   "execution_count": 11,
   "id": "c375ce89-fa45-4e51-80be-8010c5fc77f3",
   "metadata": {},
   "outputs": [],
   "source": [
    "memoization_table2 = {}\n",
    "def get_combinations2(nums):\n",
    "    if len(nums) == 1:\n",
    "        return set(nums)\n",
    "    last = nums[-1]\n",
    "    subtuple = nums[:-1]\n",
    "    if subtuple in memoization_table2.keys():\n",
    "        rest = memoization_table2[subtuple]\n",
    "    else:\n",
    "        rest = get_combinations2(subtuple)\n",
    "        memoization_table[subtuple] = rest\n",
    "    return set(last + combination for combination in rest) | set(last * combination for combination in rest) | set(int(str(combination) + str(last)) for combination in rest)"
   ]
  },
  {
   "cell_type": "code",
   "execution_count": 12,
   "id": "2d0221bb-bfd0-42eb-8e47-cc354ebddd6d",
   "metadata": {},
   "outputs": [
    {
     "data": {
      "text/plain": [
       "337041851384440"
      ]
     },
     "execution_count": 12,
     "metadata": {},
     "output_type": "execute_result"
    }
   ],
   "source": [
    "total = 0\n",
    "for equation in equations:\n",
    "    test_value = equation['test_value']\n",
    "    nums = equation['nums']\n",
    "    if test_value in get_combinations2(nums):\n",
    "        total += test_value\n",
    "total"
   ]
  },
  {
   "cell_type": "markdown",
   "id": "5a1d8608-dcdd-4018-93a3-426e61c57b59",
   "metadata": {
    "jp-MarkdownHeadingCollapsed": true
   },
   "source": [
    "# [Day 8: Resonant Collinearity](https://adventofcode.com/2024/day/8)"
   ]
  },
  {
   "cell_type": "code",
   "execution_count": 2,
   "id": "3fb69d59-78ac-426a-8fd4-f6059d386897",
   "metadata": {},
   "outputs": [],
   "source": [
    "file = open('input8.txt', 'r')\n",
    "input_text = file.read()\n",
    "file.close()"
   ]
  },
  {
   "cell_type": "markdown",
   "id": "c46a125d-d388-47c7-baa0-8828e1e1c56b",
   "metadata": {},
   "source": [
    "## Part 1"
   ]
  },
  {
   "cell_type": "code",
   "execution_count": 3,
   "id": "09723a8c-0b1b-415a-b1ba-17f82384af9e",
   "metadata": {},
   "outputs": [],
   "source": [
    "def read_grid(input_text):\n",
    "    lines = input_text.strip().splitlines()\n",
    "    grid = []\n",
    "    for line in lines:\n",
    "        row = []\n",
    "        for char in line:\n",
    "            row.append(char)\n",
    "        grid.append(row)\n",
    "    return grid"
   ]
  },
  {
   "cell_type": "code",
   "execution_count": 4,
   "id": "53c41a94-08ee-4fad-9ddf-1175e9dbfddd",
   "metadata": {},
   "outputs": [],
   "source": [
    "grid = read_grid(input_text)"
   ]
  },
  {
   "cell_type": "markdown",
   "id": "03d85b64-c97f-42a5-be5a-a6c3b6590351",
   "metadata": {},
   "source": [
    "First, for each unique character/frequency, we'll get a list of coordinates where that character appears."
   ]
  },
  {
   "cell_type": "code",
   "execution_count": 6,
   "id": "db01d45f-16e8-4989-bbdc-4dd4d64ed2c4",
   "metadata": {},
   "outputs": [],
   "source": [
    "def get_character_positions(grid):\n",
    "    character_positions = {}\n",
    "    for i, row in enumerate(grid):\n",
    "        for j, value in enumerate(row):\n",
    "            if value == \".\":\n",
    "                continue\n",
    "            if value in character_positions.keys():\n",
    "                character_positions[value].add((i,j))\n",
    "            else:\n",
    "                character_positions[value] = {(i,j)}\n",
    "    return character_positions"
   ]
  },
  {
   "cell_type": "code",
   "execution_count": 7,
   "id": "963e7149-e0d5-4ddd-90a9-ea2ab23f4389",
   "metadata": {},
   "outputs": [],
   "source": [
    "character_positions = get_character_positions(grid)"
   ]
  },
  {
   "cell_type": "markdown",
   "id": "2ec191c7-7dc4-4411-81da-fe31de84efc1",
   "metadata": {},
   "source": [
    "We're given that an antinode only occurs when it's aligned with two antennas of the same frequency, and the distance from one of the antennas is twice as far as the distance from the other antenna. So for every pair of antennas $a_1, a_2 \\in \\mathbb{Z}^2$ with the same frequency, the two possible anitnodes will be $(a_2 - a_1) + a_2$ and $a_1 - (a_2 - a_1)$. Thus, for any such pair, we just check if these two coordinates are in the bounds of our grid."
   ]
  },
  {
   "cell_type": "code",
   "execution_count": 8,
   "id": "f2372ab5-e9ae-4694-8077-0b374fb28b98",
   "metadata": {},
   "outputs": [],
   "source": [
    "def is_valid_coord(coordinates):\n",
    "    return coordinates[0] >= 0 and coordinates[1] >= 0 and coordinates[0] < len(grid) and coordinates[1] < len(grid[0])\n",
    "\n",
    "def get_antinodes(antennas):\n",
    "    antinodes = set()\n",
    "    antennas_np = [np.array(antenna) for antenna in antennas]\n",
    "    pairs = itertools.combinations(antennas_np, 2)\n",
    "    for combo in pairs:\n",
    "        p1, p2 = combo\n",
    "        difference = p2 - p1\n",
    "        antinode1 = p1 - difference\n",
    "        antinode2 = p2 + difference\n",
    "        \n",
    "        if is_valid_coord(antinode1):\n",
    "            antinodes.add(tuple(antinode1))\n",
    "        if is_valid_coord(antinode2):\n",
    "            antinodes.add(tuple(antinode2))\n",
    "    return antinodes"
   ]
  },
  {
   "cell_type": "code",
   "execution_count": 9,
   "id": "8b081dd5-1bb8-4e27-97ad-546301b1ea0b",
   "metadata": {},
   "outputs": [
    {
     "data": {
      "text/plain": [
       "289"
      ]
     },
     "execution_count": 9,
     "metadata": {},
     "output_type": "execute_result"
    }
   ],
   "source": [
    "antinodes = set()\n",
    "for char in character_positions.keys():\n",
    "    antinodes = antinodes | get_antinodes(character_positions[char])\n",
    "len(antinodes)"
   ]
  },
  {
   "cell_type": "markdown",
   "id": "f3baade5-d2b0-4451-a78f-2a8c7c54cf92",
   "metadata": {},
   "source": [
    "## Part 2"
   ]
  },
  {
   "cell_type": "markdown",
   "id": "07c9dfab-b4b5-4890-b6c9-cbaa48a99da9",
   "metadata": {},
   "source": [
    "For part 2, antinodes can occur at **any point that is collinear** with two antennas of the same frequency. Thus, for any pair of same-frequency antennas $a_1, a_2$, we can parametrize the line they lie on to enumerate all integer points on this line. We again look at the difference vector $a_2 - a_1$, but to ensure we attain all possible integer values on this line, we need to scale down by the $\\gcd$ of its $x$ and $y$ coordinates. As before, we only have to do this for points that fit within the bounds of our grid."
   ]
  },
  {
   "cell_type": "code",
   "execution_count": 13,
   "id": "a0be2d53-6d77-4248-a80a-4d3f9b3aa4cb",
   "metadata": {},
   "outputs": [],
   "source": [
    "def get_antinodes_2(antennas):\n",
    "    antinodes = set()\n",
    "    antennas_np = [np.array(antenna) for antenna in antennas]\n",
    "    pairs = itertools.combinations(antennas_np, 2)\n",
    "    for combo in pairs:\n",
    "        p1, p2 = combo\n",
    "        difference = p2 - p1\n",
    "        gcd = math.gcd(int(difference[0]), int(difference[1]))\n",
    "        difference = ((1/gcd)*difference).astype(int)\n",
    "        \n",
    "        current = copy.deepcopy(p1)\n",
    "        while is_valid_coord(current):\n",
    "            antinodes.add(tuple(current))\n",
    "            current += difference\n",
    "\n",
    "        current = copy.deepcopy(p1)\n",
    "        while is_valid_coord(current):\n",
    "            antinodes.add(tuple(current))\n",
    "            current -= difference\n",
    "\n",
    "    return antinodes"
   ]
  },
  {
   "cell_type": "code",
   "execution_count": 14,
   "id": "fc0004b0-5595-4756-b754-1cc1e2a696fb",
   "metadata": {},
   "outputs": [
    {
     "data": {
      "text/plain": [
       "1030"
      ]
     },
     "execution_count": 14,
     "metadata": {},
     "output_type": "execute_result"
    }
   ],
   "source": [
    "antinodes = set()\n",
    "for char in character_positions.keys():\n",
    "    antinodes = antinodes | get_antinodes_2(character_positions[char])\n",
    "len(antinodes)"
   ]
  },
  {
   "cell_type": "markdown",
   "id": "43d5c46a-4d23-4e29-ae87-f4889a7843b7",
   "metadata": {
    "jp-MarkdownHeadingCollapsed": true
   },
   "source": [
    "# Day 9"
   ]
  },
  {
   "cell_type": "code",
   "execution_count": null,
   "id": "09bc025f-c071-4348-a194-58fe5452231f",
   "metadata": {},
   "outputs": [],
   "source": []
  },
  {
   "cell_type": "markdown",
   "id": "691a4fa7-875a-4670-9ad9-570edb2441b1",
   "metadata": {
    "jp-MarkdownHeadingCollapsed": true
   },
   "source": [
    "# [Day 10: Hoof It](https://adventofcode.com/2024/day/10)"
   ]
  },
  {
   "cell_type": "markdown",
   "id": "6eced34a-892f-419a-b71d-301b081f12b5",
   "metadata": {},
   "source": [
    "## Part 1"
   ]
  },
  {
   "cell_type": "code",
   "execution_count": 2,
   "id": "b6814a3f-38ab-4077-a9ce-2e50476d4bff",
   "metadata": {},
   "outputs": [],
   "source": [
    "file = open('input10.txt', 'r')\n",
    "input_text = file.read()\n",
    "file.close()"
   ]
  },
  {
   "cell_type": "code",
   "execution_count": 3,
   "id": "9b78a25b-8e6b-463d-8461-238795c4854d",
   "metadata": {},
   "outputs": [],
   "source": [
    "def read_map(input_text):\n",
    "    lines = input_text.strip().splitlines()\n",
    "\n",
    "    # Add a buffer to the sides of the map\n",
    "    topographic_map = [[11 for i in range(len(lines[0])+2)]]\n",
    "    \n",
    "    for row_index, line in enumerate(lines):\n",
    "        row = [11]\n",
    "        for col_index, char in enumerate(line):\n",
    "            if char == \".\":\n",
    "                row.append(-1)\n",
    "            else:\n",
    "                row.append(int(char))   \n",
    "        row.append(11)\n",
    "        topographic_map.append(row)\n",
    "    topographic_map.append([11 for i in range(len(lines[0])+2)])\n",
    "    return topographic_map"
   ]
  },
  {
   "cell_type": "markdown",
   "id": "f9d8ab16-7cbe-4fb6-ae1b-417742b57fe0",
   "metadata": {},
   "source": [
    "We can view our topographic map as a directed graph $G = (V,A)$ with vertices $V = \\{(i,j) \\ | \\ 1 \\leq i \\leq \\text{\\# of rows}, \\ 1 \\leq j \\leq \\text{\\# of cols} \\}$. A pair $((i,j), (k,l))$ is an arc when $(i,j)$ and $(k,l)$ are vertical or horizontal neighbors and the height at $(i,j)$ is exactly one less than the height at $(k,l)$.\n",
    "\n",
    "Then to find the score of a trailhead with height $0$, we can apply breadth-first search (BFS) to find all reachable vertices in $G$ and count the number of distinct vertices with height $9$ that are reachable."
   ]
  },
  {
   "cell_type": "code",
   "execution_count": 4,
   "id": "e5c93dd5-c40e-4212-b584-c588f4f1fce5",
   "metadata": {},
   "outputs": [],
   "source": [
    "topographic_map = read_map(input_text)"
   ]
  },
  {
   "cell_type": "code",
   "execution_count": 5,
   "id": "6d5800f6-9724-4c31-b001-1859ea640c3a",
   "metadata": {},
   "outputs": [],
   "source": [
    "directions = [np.array(direction) for direction in [(-1,0),(0,1),(1,0),(0,-1)]]\n",
    "\n",
    "def bfs(start):\n",
    "    # Initialize every vertex except the start is unreachable\n",
    "    reachable = [[0 for i in range(len(topographic_map[0]))] for j in range(len(topographic_map))]\n",
    "    reachable[start[0]][start[1]] = 1 \n",
    "\n",
    "    # Now explore the neighbors of every reachable vertex whose neighbors we haven't visited before\n",
    "    queue = [start]\n",
    "    while len(queue) > 0: \n",
    "        current_node = queue[0]\n",
    "        reachable[current_node[0]][current_node[1]] = 1\n",
    "        for direction in directions:\n",
    "            neighbor = current_node + direction\n",
    "            if topographic_map[neighbor[0]][neighbor[1]] == (topographic_map[current_node[0]][current_node[1]] + 1):\n",
    "                queue.append(neighbor)\n",
    "        queue.pop(0)\n",
    "    return reachable"
   ]
  },
  {
   "cell_type": "markdown",
   "id": "296c6b82-69ba-4be2-b7eb-04b4e93753f7",
   "metadata": {},
   "source": [
    "The above function implements BFS, so now let's get the indices of all the $0$-height and $9$-height values and apply our algorithm to every trailhead."
   ]
  },
  {
   "cell_type": "code",
   "execution_count": 6,
   "id": "f7a5c3c4-f3bb-41b3-b1b9-ee4bd4b7f703",
   "metadata": {},
   "outputs": [],
   "source": [
    "def get_indices_of_value(value):\n",
    "    return [(i,j) for i, row in enumerate(topographic_map) for j, elt in enumerate(row) if elt == value]"
   ]
  },
  {
   "cell_type": "code",
   "execution_count": 7,
   "id": "5646a220-3b03-4b8f-8583-d501eea5a7b4",
   "metadata": {},
   "outputs": [],
   "source": [
    "zeroes = get_indices_of_value(0)\n",
    "nines = get_indices_of_value(9)"
   ]
  },
  {
   "cell_type": "code",
   "execution_count": 8,
   "id": "02a5d92c-c165-4ed7-a584-6be10c1f0e11",
   "metadata": {},
   "outputs": [],
   "source": [
    "scores = {}\n",
    "for zero in zeroes:\n",
    "    scores[zero] = []\n",
    "    reachable = bfs(np.array(zero))\n",
    "    for nine in nines:\n",
    "        if reachable[nine[0]][nine[1]]:\n",
    "            scores[zero].append(nine)"
   ]
  },
  {
   "cell_type": "code",
   "execution_count": 9,
   "id": "8d941a65-ba1c-48ca-98c4-4deca9b140c1",
   "metadata": {},
   "outputs": [
    {
     "data": {
      "text/plain": [
       "550"
      ]
     },
     "execution_count": 9,
     "metadata": {},
     "output_type": "execute_result"
    }
   ],
   "source": [
    "sum([len(score) for score in scores.values()])"
   ]
  },
  {
   "cell_type": "markdown",
   "id": "36ac49a2-26b7-4fd4-843d-c4967e6715e3",
   "metadata": {},
   "source": [
    "## Part 2"
   ]
  },
  {
   "cell_type": "markdown",
   "id": "d19c0663-a5f2-40a6-b717-1d3c96ba5419",
   "metadata": {},
   "source": [
    "To find the number of distinct paths between a $0$-height position and a $9$-height position, we can use our standard path-counting algorithm. If `count_paths(u,v)` gives us the number of directed paths between vertices $u,v \\in V$, we can look at all the neighbors $w_1, \\ldots w_k$ of $v$ such that $(w_i, v) \\in A$. Then \n",
    "\n",
    "`count_paths(u,v) = count_paths(u,w1) + ... + count_paths(u,wk)`. \n",
    "\n",
    "Alright, let's implement this. Not sure if memoization is necessary for this size of map, but it won't hurt."
   ]
  },
  {
   "cell_type": "code",
   "execution_count": 10,
   "id": "43b5618e-e3f0-4cdc-a5a6-5457987e1430",
   "metadata": {},
   "outputs": [],
   "source": [
    "memoization_table = {}\n",
    "def count_paths(start, end):\n",
    "    # Base case\n",
    "    if (topographic_map[end[0]][end[1]] == topographic_map[start[0]][start[1]] + 1) and any(np.array_equal(end, start + direction) for direction in directions):\n",
    "        return 1\n",
    "\n",
    "    # Recursive step\n",
    "    total = 0\n",
    "    for direction in directions:\n",
    "        neighbor = end + direction\n",
    "        if topographic_map[neighbor[0]][neighbor[1]] == topographic_map[end[0]][end[1]] - 1:\n",
    "            key = tuple(np.concatenate((start, neighbor), axis=None))\n",
    "            if key in memoization_table.keys():\n",
    "                neighbor_count = memoization_table[key]\n",
    "            else:\n",
    "                neighbor_count = count_paths(start, neighbor)\n",
    "                memoization_table[key] = neighbor_count\n",
    "            total += neighbor_count\n",
    "    return total"
   ]
  },
  {
   "cell_type": "markdown",
   "id": "b0ba5316-2b01-400e-a57a-f761a3970cc0",
   "metadata": {},
   "source": [
    "Now we just run this function between each trailhead and trailtop."
   ]
  },
  {
   "cell_type": "code",
   "execution_count": 11,
   "id": "78e7c182-37c9-416c-ade9-f90571cced35",
   "metadata": {},
   "outputs": [],
   "source": [
    "total = 0\n",
    "for zero in scores.keys():\n",
    "    for nine in scores[zero]:\n",
    "        total += count_paths(zero, nine)"
   ]
  },
  {
   "cell_type": "code",
   "execution_count": 12,
   "id": "59d6d0dc-e2f2-482f-b404-8262308664ac",
   "metadata": {},
   "outputs": [
    {
     "data": {
      "text/plain": [
       "1255"
      ]
     },
     "execution_count": 12,
     "metadata": {},
     "output_type": "execute_result"
    }
   ],
   "source": [
    "total"
   ]
  },
  {
   "cell_type": "markdown",
   "id": "5e59fa8d-3e8b-4f28-8626-19f5bdd64ebe",
   "metadata": {
    "jp-MarkdownHeadingCollapsed": true
   },
   "source": [
    "# [Day 11: Plutonian Pebbles](https://adventofcode.com/2024/day/11)"
   ]
  },
  {
   "cell_type": "markdown",
   "id": "0d4d542b-309b-49be-9cb7-4d7dca1813ac",
   "metadata": {},
   "source": [
    "## Part 1"
   ]
  },
  {
   "cell_type": "code",
   "execution_count": 2,
   "id": "6f344155-046f-41b0-8829-7e7335281887",
   "metadata": {},
   "outputs": [],
   "source": [
    "file = open('input11.txt', 'r')\n",
    "input_text = file.read()\n",
    "file.close()"
   ]
  },
  {
   "cell_type": "code",
   "execution_count": 3,
   "id": "41183ab0-763a-4b98-81b1-720f9a704e74",
   "metadata": {},
   "outputs": [],
   "source": [
    "stones = [int(stone) for stone in input_text.strip().split(' ')]"
   ]
  },
  {
   "cell_type": "markdown",
   "id": "978474e3-dfc5-4329-9c8a-8d0430c23c36",
   "metadata": {},
   "source": [
    "Since each stone changes **simultaneously** by the **same rules**, we can apply the appropriate to change to each stone individually in order and place all the results in a list. Then we just repeat this 25 times to get our final answer."
   ]
  },
  {
   "cell_type": "code",
   "execution_count": 4,
   "id": "d3237b4e-7e32-407c-90cb-a10abac99d2f",
   "metadata": {},
   "outputs": [],
   "source": [
    "def change(stone):\n",
    "    if stone == 0:\n",
    "        return [1]\n",
    "    s = str(stone)\n",
    "    if len(s) % 2 == 0:\n",
    "        return [int(s[:int(len(s)/2)]), int(s[int(len(s)/2):])]\n",
    "    return [stone*2024]\n",
    "\n",
    "def blink(stones):\n",
    "    new_stones = []\n",
    "    for stone in stones:\n",
    "        new_stones += change(stone)\n",
    "    return new_stones"
   ]
  },
  {
   "cell_type": "code",
   "execution_count": 5,
   "id": "e48ecfe0-b80e-48fc-af77-7a56bf95222e",
   "metadata": {},
   "outputs": [],
   "source": [
    "stones_temp = [stone for stone in stones]\n",
    "for i in range(0,25):\n",
    "    stones_temp = blink(stones_temp)"
   ]
  },
  {
   "cell_type": "code",
   "execution_count": 6,
   "id": "024f9202-e37c-4141-9519-57b0a5392b66",
   "metadata": {},
   "outputs": [
    {
     "data": {
      "text/plain": [
       "186203"
      ]
     },
     "execution_count": 6,
     "metadata": {},
     "output_type": "execute_result"
    }
   ],
   "source": [
    "len(stones_temp)"
   ]
  },
  {
   "cell_type": "markdown",
   "id": "2ed87403-b07f-462e-be07-6da3e9d2ca8a",
   "metadata": {},
   "source": [
    "## Part 2"
   ]
  },
  {
   "cell_type": "markdown",
   "id": "16c2677c-eb36-4b24-aae1-907de47eae53",
   "metadata": {},
   "source": [
    "Since blinking will cause the number of stones to **potentially double**, the number of times we have to run `change` grows **exponentially** in the worst case. So it's probably not the best idea to try and apply the same strategy as before 75 times. Instead, we notice that whenever we change our stones, we have the potential to produce a stone with a number we have already seen before. Thus, we can use recursion + memoization to reduce the number of times we need to call `change`. \n",
    "\n",
    "If we have `stones = [s1, s2, ..., sk]`, and we want to count the number of stones after $n$ blinks, we can use the recursive computation:\n",
    "\n",
    "`count_stones(stones, n) = count_stones(s1, n-1) + count_stones(s2, n-1) + ... + counts_stones(sk, n-1)` for $n > 1$, and\n",
    "\n",
    "`count_stones(stones, 1) = len(blink(stones))` for $n = 1$."
   ]
  },
  {
   "cell_type": "code",
   "execution_count": 7,
   "id": "619e7ce1-6490-41cf-b218-48dae287a456",
   "metadata": {},
   "outputs": [],
   "source": [
    "memoization_table = {}\n",
    "\n",
    "def count_stones(stones, n):\n",
    "    # If we're only blinking once, we just use our original blink method\n",
    "    if n == 1:\n",
    "        return len(blink(stones))\n",
    "        \n",
    "    total = 0\n",
    "    for stone in stones:\n",
    "        if (stone, n-1) in memoization_table.keys():\n",
    "            total += memoization_table[(stone,n-1)]\n",
    "        else:\n",
    "            memoization_table[(stone,n-1)] = count_stones(change(stone), n-1)\n",
    "            total += memoization_table[(stone,n-1)]\n",
    "    return total"
   ]
  },
  {
   "cell_type": "code",
   "execution_count": 8,
   "id": "fdb52755-3d69-43c8-8495-d0a09a7f36cd",
   "metadata": {},
   "outputs": [
    {
     "data": {
      "text/plain": [
       "221291560078593"
      ]
     },
     "execution_count": 8,
     "metadata": {},
     "output_type": "execute_result"
    }
   ],
   "source": [
    "count_stones(stones, 75)"
   ]
  },
  {
   "cell_type": "markdown",
   "id": "0eac9a20-5182-48f8-9fe1-fdaaabd6af22",
   "metadata": {},
   "source": [
    "Now that we successfully implemented our recursive approach, we can see how many calls to `change` we saved."
   ]
  },
  {
   "cell_type": "code",
   "execution_count": 9,
   "id": "a5fa9d75-8c1f-4d80-9d3d-dffc8d9ede94",
   "metadata": {},
   "outputs": [
    {
     "data": {
      "text/plain": [
       "121273"
      ]
     },
     "execution_count": 9,
     "metadata": {},
     "output_type": "execute_result"
    }
   ],
   "source": [
    "len(memoization_table)"
   ]
  },
  {
   "cell_type": "markdown",
   "id": "7051c4ac-1f49-4ac9-9c5f-bd53f8d6a104",
   "metadata": {},
   "source": [
    "Since our memoization table only has `121273` distinct values, and we memoized every value we computed, this is roughly equal to the number of times we called `change` (not accounting for the times in the `blink` calls). On the other hand, if we just recursively applied `blink`, we would have had to call `change` for every stone in our list of stones after blinks 1 through 74. So to count the number of calls to `change` we would have made in our iterative approach, we just sum up the number of stones after $i$ blinks for $1 \\leq i \\leq 74$."
   ]
  },
  {
   "cell_type": "code",
   "execution_count": 10,
   "id": "42828352-1cef-47e5-86b4-f70093acd8b6",
   "metadata": {
    "scrolled": true
   },
   "outputs": [
    {
     "data": {
      "text/plain": [
       "280740494459387"
      ]
     },
     "execution_count": 10,
     "metadata": {},
     "output_type": "execute_result"
    }
   ],
   "source": [
    "total_change_calls = 0\n",
    "for i in range(1, 74):\n",
    "    total_change_calls += count_stones(stones, i)\n",
    "total_change_calls"
   ]
  },
  {
   "cell_type": "markdown",
   "id": "11edf3d4-abcc-47f9-bc5a-1dd73d781dc4",
   "metadata": {},
   "source": [
    "Wow, I'm a math PhD, so I can say with confidence that $280740494459387 - 121273 = 280740494282105$ is a large number of extra calls."
   ]
  },
  {
   "cell_type": "markdown",
   "id": "dd635781-fae3-4228-b7c8-93321c260c86",
   "metadata": {
    "jp-MarkdownHeadingCollapsed": true
   },
   "source": [
    "# [Day 12: Garden Groups](https://adventofcode.com/2024/day/12)"
   ]
  },
  {
   "cell_type": "markdown",
   "id": "e95ee7b1-719b-4d85-b42c-98636df95246",
   "metadata": {},
   "source": [
    "## Part 1"
   ]
  },
  {
   "cell_type": "code",
   "execution_count": 2,
   "id": "14e7f1e6-1d14-44be-9e67-6c59076c30d0",
   "metadata": {},
   "outputs": [],
   "source": [
    "file = open('input12.txt', 'r')\n",
    "input_text = file.read()\n",
    "file.close()"
   ]
  },
  {
   "cell_type": "code",
   "execution_count": 3,
   "id": "72244476-710b-4793-a94d-13b02b6baecb",
   "metadata": {},
   "outputs": [],
   "source": [
    "def read_farm(input_text):\n",
    "    lines = input_text.strip().splitlines()\n",
    "    \n",
    "    farm = [['.' for i in range(len(lines[0])+2)]]\n",
    "    for row_index, line in enumerate(lines):\n",
    "        row = ['.']\n",
    "        for col_index, char in enumerate(line):\n",
    "            row.append(char) \n",
    "        row.append('.')\n",
    "        farm.append(row)\n",
    "    farm.append(['.' for i in range(len(lines[0])+2)])\n",
    "    return farm"
   ]
  },
  {
   "cell_type": "code",
   "execution_count": 4,
   "id": "659b07a9-c036-4c24-acd5-a6fa6b1d5eb6",
   "metadata": {},
   "outputs": [],
   "source": [
    "farm = read_farm(input_text)"
   ]
  },
  {
   "cell_type": "markdown",
   "id": "429cbfff-941e-4a8a-806a-24f3f8432b6d",
   "metadata": {},
   "source": [
    "First, let's get our regions. Similar to our approach in **Day 10**, we can view our farm as a graph $G = (V,E)$ where the vertices are our plots and the edges are between adjacent plots of the same plant. Then the **regions of our farm are precisely the connected components** of $G$, which we can compute using BFS."
   ]
  },
  {
   "cell_type": "code",
   "execution_count": 5,
   "id": "ab5643ff-63c0-43f0-a864-352bf4b6d718",
   "metadata": {},
   "outputs": [],
   "source": [
    "directions = [np.array(direction) for direction in [(-1,0),(0,1),(1,0),(0,-1)]]\n",
    "\n",
    "def get_region(start):\n",
    "    reachable = set()\n",
    "    queue = [start]\n",
    "    reachable.add(tuple(start))\n",
    "    while len(queue) > 0:\n",
    "        current_node = queue[0]\n",
    "        for direction in directions:\n",
    "            neighbor = current_node + direction\n",
    "            if farm[neighbor[0]][neighbor[1]] == farm[current_node[0]][current_node[1]] and tuple(neighbor) not in reachable:\n",
    "                queue.append(neighbor)\n",
    "                reachable.add(tuple(neighbor))\n",
    "        queue.pop(0)\n",
    "    return reachable"
   ]
  },
  {
   "cell_type": "markdown",
   "id": "6ebcf167-adb3-4e93-8d9e-7b790b1ca2a1",
   "metadata": {},
   "source": [
    "Now that we've implemented a function to give us the region that a plot is contained in, we need to compute the perimeter of a given region. We observe that the perimeter of a region is the **sum of all sides of plots that do not border another plot in the region**. In terms of our graph, let $R = (V', E')$ be the connected component corresponding to our region. Then the perimeter of $R$ is $4|V'| - 2|E'|$ since each plot has four sides and every edge represents a pair of bordering plots."
   ]
  },
  {
   "cell_type": "code",
   "execution_count": 6,
   "id": "164e9a3d-b77b-4d1c-9192-99e6137b83f9",
   "metadata": {},
   "outputs": [],
   "source": [
    "def count_neighbors(region):\n",
    "    total = 0\n",
    "    for plot in region:\n",
    "        for direction in directions:\n",
    "            neighbor = plot + direction\n",
    "            total = total + 1 if farm[neighbor[0]][neighbor[1]] == farm[plot[0]][plot[1]] else total\n",
    "    return total\n",
    "\n",
    "def get_perimeter(region):\n",
    "    return 4 * len(region) - count_neighbors(region)"
   ]
  },
  {
   "cell_type": "markdown",
   "id": "a118fbb0-1b25-455b-bb07-562bdd52835d",
   "metadata": {},
   "source": [
    "Note that in our implementation, `count_neighbors` actually gives us the sum of degrees of vertices in our region $R$, which is equal to $2|E'|$."
   ]
  },
  {
   "cell_type": "markdown",
   "id": "496e819e-52da-4369-b1f3-12cc9ccb3a32",
   "metadata": {},
   "source": [
    "Finally, we get all the regions on our farm and compute the price of the fence around each region."
   ]
  },
  {
   "cell_type": "code",
   "execution_count": 7,
   "id": "a26cf807-22d1-48d4-a0bd-44311a54d43b",
   "metadata": {},
   "outputs": [],
   "source": [
    "regions = []\n",
    "visited = set()\n",
    "\n",
    "for i, row in enumerate(farm):\n",
    "    for j, char in enumerate(row):\n",
    "        if char == '.':\n",
    "            continue\n",
    "        if (i,j) not in visited:\n",
    "            region = get_region(np.array([i,j]))\n",
    "            regions.append(region)\n",
    "            visited = visited | region"
   ]
  },
  {
   "cell_type": "code",
   "execution_count": 8,
   "id": "37cf6673-3b0f-49dd-9ca4-d36823e99f33",
   "metadata": {},
   "outputs": [
    {
     "data": {
      "text/plain": [
       "1344578"
      ]
     },
     "execution_count": 8,
     "metadata": {},
     "output_type": "execute_result"
    }
   ],
   "source": [
    "price = 0\n",
    "for region in regions:\n",
    "    price += len(region) * get_perimeter(region)\n",
    "price"
   ]
  },
  {
   "cell_type": "markdown",
   "id": "c1a6e9e4-8a6a-4353-ac24-9ce3b601a395",
   "metadata": {},
   "source": [
    "## Part 2"
   ]
  },
  {
   "cell_type": "markdown",
   "id": "5da48f0f-a847-4ec4-982d-8fe1fa5b4fb0",
   "metadata": {},
   "source": [
    "To compute the number of sides in our region, we can compute the number of **vertical sides in each column** and the number of **horizontal sides in each row**. Let's try to compute the number of sides in the **E region** in the following example:\n",
    "```\n",
    "EEEEE\n",
    "EXXXX\n",
    "EEEEE\n",
    "EXXXX\n",
    "EEEEE\n",
    "```\n",
    "Let's try and count the number of vertical sides in the **first column**. We first identify plots in our column whose **left/right neighbors are not in our region**. Then the number of left/right sides in this column is the **number of consecutive groups of plots** that we identified in the previous step. So to count the right sides in the first column, we identify the second and fourth plots from highest plots since those are the only plots whose right neighbor isn't in the E region. So our identified plots look like\n",
    "```\n",
    ".\n",
    "E\n",
    ".\n",
    "E\n",
    ".\n",
    "```\n",
    "which has **two consecutive groups** of plots (in this case each group only contains one plot). This means we have **two right edges** in the first column. To count the left edges in the first column, we identify every plot, since none of them have left neighbors inside the E region, so our identified plots look like\n",
    "```\n",
    "E\n",
    "E\n",
    "E\n",
    "E\n",
    "E\n",
    "```\n",
    "which has **one consecutive group** of plots. This gives us **one left edge** in the first column. For the second, third, and fourth columns, all E plots have left/right neighbors in the E region, so none of them contain left/right edges. In the last column, we have 0 left edges and 3 right edges.\n",
    "\n",
    "We can do the same with rows and top/bottom edges. For example, to compute the top edges of the first row `EEEEE`, we identify every plot as none of them have top neighbors in the E region. This gives us one consecutive group of plots for one top side. To compute the bottom edges, we identify every plot but the first one, so we get `.EEEE` which also only has one consecutive group of plots. Thus, the first row has **one top side** and **one bottom side**."
   ]
  },
  {
   "cell_type": "code",
   "execution_count": 9,
   "id": "8563abcf-3e12-4b39-be20-99ae01f6ef03",
   "metadata": {},
   "outputs": [],
   "source": [
    "def count_consecutive_ones(lst):\n",
    "    return len(list(filter(None, lst.split('0')))) \n",
    "\n",
    "def get_edges_in_col(vertical_window, col, region):\n",
    "    top = min(vertical_window)\n",
    "    bottom = max(vertical_window)\n",
    "    left = ''\n",
    "    right = ''\n",
    "    for row in range(top, bottom+1):\n",
    "        if row in vertical_window and (row, col-1) not in region:\n",
    "            left += '1'\n",
    "        else:\n",
    "            left += '0'\n",
    "\n",
    "        if row in vertical_window and (row, col+1) not in region:\n",
    "            right += '1'\n",
    "        else:\n",
    "            right += '0'\n",
    "    return count_consecutive_ones(left) + count_consecutive_ones(right)\n",
    "\n",
    "def get_edges_in_row(horizontal_window, row, region):\n",
    "    left = min(horizontal_window)\n",
    "    right = max(horizontal_window)\n",
    "    top = ''\n",
    "    bottom = ''\n",
    "    for col in range(left, right+1):\n",
    "        if col in horizontal_window and (row - 1, col) not in region:\n",
    "            top += '1'\n",
    "        else:\n",
    "            top += '0'\n",
    "\n",
    "        if col in horizontal_window and (row + 1, col) not in region:\n",
    "            bottom += '1'\n",
    "        else:\n",
    "            bottom += '0'\n",
    "    return count_consecutive_ones(top) + count_consecutive_ones(bottom)"
   ]
  },
  {
   "cell_type": "code",
   "execution_count": 10,
   "id": "16410493-56d9-4f4f-9e69-ec0eac9660d0",
   "metadata": {},
   "outputs": [],
   "source": [
    "def detect_vertical_edges(region):\n",
    "    left_border = min(region, key=lambda plot: plot[1])[1]\n",
    "    right_border = max(region, key=lambda plot: plot[1])[1]\n",
    "    total = 0\n",
    "    for col in range(left_border, right_border+1):\n",
    "        vertical_window = set([plot[0] for plot in region if plot[1] == col])\n",
    "        total += get_edges_in_col(vertical_window, col, region)\n",
    "    return total\n",
    "\n",
    "def detect_horizontal_edges(region):\n",
    "    top_border = min(region, key=lambda plot: plot[0])[0]\n",
    "    bottom_border = max(region, key=lambda plot: plot[0])[0]\n",
    "    total = 0\n",
    "    for row in range(top_border, bottom_border+1):\n",
    "        horizontal_window = set([plot[1] for plot in region if plot[0] == row])\n",
    "        total += get_edges_in_row(horizontal_window, row, region)\n",
    "    return total\n",
    "    "
   ]
  },
  {
   "cell_type": "code",
   "execution_count": 11,
   "id": "435cd181-a6ad-46f7-ab39-7be407fce0b7",
   "metadata": {},
   "outputs": [
    {
     "data": {
      "text/plain": [
       "814302"
      ]
     },
     "execution_count": 11,
     "metadata": {},
     "output_type": "execute_result"
    }
   ],
   "source": [
    "price = 0 \n",
    "for region in regions:\n",
    "    area = len(region)\n",
    "    sides = detect_vertical_edges(region) + detect_horizontal_edges(region)\n",
    "    price += area*sides\n",
    "price"
   ]
  },
  {
   "cell_type": "markdown",
   "id": "bce484e7-c0cf-42aa-8e93-c3723b6c8bee",
   "metadata": {},
   "source": [
    "# [Day 13: Claw Contraption](https://adventofcode.com/2024/day/13)"
   ]
  },
  {
   "cell_type": "markdown",
   "id": "c88bb449-ae8f-4bf3-a018-35801045be99",
   "metadata": {},
   "source": [
    "## Part 1"
   ]
  },
  {
   "cell_type": "code",
   "execution_count": 2,
   "id": "533d45e5-c47d-43dd-9956-9b6a2e43fd16",
   "metadata": {},
   "outputs": [],
   "source": [
    "file = open('input13.txt', 'r')\n",
    "input_text = file.read()\n",
    "file.close()"
   ]
  },
  {
   "cell_type": "markdown",
   "id": "ec919a7f-3762-43c2-8c03-42703c504dd5",
   "metadata": {},
   "source": [
    "This one is just linear algebra. For a given claw machine, let\n",
    "\n",
    "$a = \\begin{bmatrix} a_1 \\\\ a_2 \\end{bmatrix}$, $b = \\begin{bmatrix} b_1 \\\\ b_2 \\end{bmatrix}$, and $x = \\begin{bmatrix} x_1 \\\\ x_2 \\end{bmatrix} \\in \\mathbb{Z}^2$. \n",
    "\n",
    "The vectors **$a$ and $b$ represent the direction the claw moves after pressing button A and B respectively**, and the vector **$x$ is the location of our prize**. We can reprseent this as a system of equations $Ms = x$ where $s \\in \\mathbb{R}^2$, and \n",
    "\n",
    "$M = \\begin{bmatrix} a_1 & b_1 \\\\ a_2 & b_2 \\end{bmatrix}.$\n",
    "\n",
    "Since we can only move our claw with **non-negative integer linear combinations** of $a$ and $b$, we need to find a non-negative, integer-valued $s$ for us to be able to win the prize in our machine. If $M$ is **invertible**, then there is a **unique** $s$ satisfying the above system given by\n",
    "\n",
    "$s = M^{-1}x = \\frac{1}{\\det M} \\text{adj}(M) x = \\frac{1}{\\det M} \\begin{bmatrix} b_2 & -b_1 \\\\ -a_2 & b_1 \\end{bmatrix}x$.\n",
    "\n",
    "This corresponding combination of presses will **cost us $3 \\cdot s_1 + s_2$ tokens**. If $M$ isn't invertible, we'll have to think harder. But first, let's convert our input into systems of linear equations and deal with that later if we have to."
   ]
  },
  {
   "cell_type": "code",
   "execution_count": 3,
   "id": "5c116ff5-26a3-4b2a-89fb-a14455d07f8b",
   "metadata": {},
   "outputs": [],
   "source": [
    "import re\n",
    "def get_systems_of_linear_equations(input_text):\n",
    "    systems = []\n",
    "    groups = input_text.strip().split(\"\\n\\n\")\n",
    "    for group in groups:\n",
    "        lines = group.split(\"\\n\")\n",
    "        a_match = re.search(r\"X\\+(\\d+), Y\\+(\\d+)\", lines[0])\n",
    "        b_match = re.search(r\"X\\+(\\d+), Y\\+(\\d+)\", lines[1])\n",
    "        prize_match = re.search(r\"X\\=(\\d+), Y\\=(\\d+)\", lines[2])\n",
    "        \n",
    "        A = [int(a_match.group(1)), int(a_match.group(2))]\n",
    "        B = [int(b_match.group(1)), int(b_match.group(2))]\n",
    "        prize = [int(prize_match.group(1)), int(prize_match.group(2))]\n",
    "        systems.append((A,B,prize))\n",
    "    return systems"
   ]
  },
  {
   "cell_type": "code",
   "execution_count": 4,
   "id": "0a415794-77f3-4814-bc67-ddd19867380f",
   "metadata": {},
   "outputs": [],
   "source": [
    "systems = get_systems_of_linear_equations(input_text)"
   ]
  },
  {
   "cell_type": "markdown",
   "id": "31f71095-83fa-4289-b62d-96b8ce1c606c",
   "metadata": {},
   "source": [
    "Next, let's implement all the linear algebra formulas that we need."
   ]
  },
  {
   "cell_type": "code",
   "execution_count": 5,
   "id": "875f9ea3-21d6-4137-b970-43c2b16bed5e",
   "metadata": {},
   "outputs": [],
   "source": [
    "def determinant(A,B):\n",
    "    return A[0]*B[1] - B[0]*A[1]\n",
    "\n",
    "def adjugate(A, B, prize):\n",
    "    return [B[1] * prize[0] - B[0] * prize[1], -A[1] * prize[0] + A[0] * prize[1]]\n",
    "\n",
    "def token_price(solution):\n",
    "    return 3 * solution[0] + solution[1]"
   ]
  },
  {
   "cell_type": "markdown",
   "id": "7ee91dca-2233-4ce9-a098-ab101c3806cb",
   "metadata": {},
   "source": [
    "Let's check that all of these systems are invertible."
   ]
  },
  {
   "cell_type": "code",
   "execution_count": 6,
   "id": "7403e013-6dee-44b3-b178-14d484faacb3",
   "metadata": {},
   "outputs": [],
   "source": [
    "for system in systems:\n",
    "    A, B, _ = system\n",
    "    if determinant(A,B) == 0:\n",
    "        print(\"Think harder about this.\")\n",
    "        break"
   ]
  },
  {
   "cell_type": "markdown",
   "id": "c3f00442-d07d-4204-8d48-a2543a41bc8c",
   "metadata": {},
   "source": [
    "Great, we don't have to think any harder! Now we just solve each system of equation and get the cost of each non-negative, integer-valued solution."
   ]
  },
  {
   "cell_type": "code",
   "execution_count": 7,
   "id": "a219bd29-ac8f-4b19-bc6f-3f0bec8104a1",
   "metadata": {},
   "outputs": [],
   "source": [
    "tokens = 0\n",
    "for system in systems:\n",
    "    A, B, prize = system\n",
    "    adj = adjugate(A, B, prize)\n",
    "    det = determinant(A,B)\n",
    "    \n",
    "    integer_valued = all([coord % det == 0 for coord in adj])\n",
    "    \n",
    "    solution = [coord/det for coord in adj]\n",
    "    nonnegative = all([coord >= 0 for coord in solution])\n",
    "    if integer_valued and nonnegative:\n",
    "        tokens += token_price(solution)"
   ]
  },
  {
   "cell_type": "code",
   "execution_count": 8,
   "id": "0698cdf3-0c66-4630-9ada-fea7c47f1c51",
   "metadata": {},
   "outputs": [
    {
     "data": {
      "text/plain": [
       "33427.0"
      ]
     },
     "execution_count": 8,
     "metadata": {},
     "output_type": "execute_result"
    }
   ],
   "source": [
    "tokens"
   ]
  },
  {
   "cell_type": "markdown",
   "id": "a7f90ac0-9513-4f29-9e9f-b6781033cf31",
   "metadata": {},
   "source": [
    "*Aside: When I originally solved this, I used* `numpy` *matrices and vectors, but I kept getting the occasional floating point error, which took me forever to fix for some reason. After wasting a bunch of time fixing that, I remembered that linear algebra in $\\mathbb{R}^2$ is really easy to implement without* `numpy`."
   ]
  },
  {
   "cell_type": "markdown",
   "id": "ed8d54f4-1931-4a77-ade0-2abcfb5fb9be",
   "metadata": {},
   "source": [
    "## Part 2"
   ]
  },
  {
   "cell_type": "markdown",
   "id": "d056aefe-4180-48f6-bc97-9f8bf606f882",
   "metadata": {},
   "source": [
    "This should be as easy as adding `10000000000000` to each coordinate of our prize and rerunning the same code as above."
   ]
  },
  {
   "cell_type": "code",
   "execution_count": 9,
   "id": "a3b96a55-133e-496e-8bb8-975dcfbc8298",
   "metadata": {},
   "outputs": [],
   "source": [
    "for system in systems:\n",
    "    prize = system[-1]\n",
    "    prize[0] += 10000000000000\n",
    "    prize[1] += 10000000000000"
   ]
  },
  {
   "cell_type": "code",
   "execution_count": 10,
   "id": "5d908b0a-1f19-4e67-82e0-c33a4358c875",
   "metadata": {},
   "outputs": [
    {
     "data": {
      "text/plain": [
       "91649162972270.0"
      ]
     },
     "execution_count": 10,
     "metadata": {},
     "output_type": "execute_result"
    }
   ],
   "source": [
    "tokens = 0\n",
    "for system in systems:\n",
    "    A, B, prize = system\n",
    "    solution = adjugate(A, B, prize)\n",
    "    det = determinant(A,B)\n",
    "    integer_valued = (solution[0] % det) == 0 and (solution[1] % det) == 0\n",
    "    \n",
    "    solution = [coord/det for coord in solution]\n",
    "    nonnegative = solution[0] >= 0 and solution[1] >= 0\n",
    "    if integer_valued and nonnegative:\n",
    "        tokens += token_price(solution)\n",
    "tokens"
   ]
  },
  {
   "cell_type": "code",
   "execution_count": null,
   "id": "74eeb821-432f-4e80-9498-ff66345494c1",
   "metadata": {},
   "outputs": [],
   "source": []
  }
 ],
 "metadata": {
  "kernelspec": {
   "display_name": "Python 3 (ipykernel)",
   "language": "python",
   "name": "python3"
  },
  "language_info": {
   "codemirror_mode": {
    "name": "ipython",
    "version": 3
   },
   "file_extension": ".py",
   "mimetype": "text/x-python",
   "name": "python",
   "nbconvert_exporter": "python",
   "pygments_lexer": "ipython3",
   "version": "3.11.8"
  }
 },
 "nbformat": 4,
 "nbformat_minor": 5
}
