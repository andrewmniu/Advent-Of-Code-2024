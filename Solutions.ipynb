{
 "cells": [
  {
   "cell_type": "markdown",
   "id": "7ef1b7aa-ec72-4102-927e-89ba2c393e3e",
   "metadata": {},
   "source": [
    "# Advent of Code 2024 Solutions"
   ]
  },
  {
   "cell_type": "markdown",
   "id": "35ab2450-a78f-43b6-8320-f59b0c89916d",
   "metadata": {},
   "source": [
    "First, let's import all the packages we'll use:"
   ]
  },
  {
   "cell_type": "code",
   "execution_count": 1,
   "id": "39bf5b8f-e19d-4598-90d6-325dd9c50e74",
   "metadata": {},
   "outputs": [],
   "source": [
    "import numpy as np\n",
    "import re\n",
    "import networkx as nx\n",
    "import itertools\n",
    "import math\n",
    "import copy"
   ]
  },
  {
   "cell_type": "markdown",
   "id": "6724dfd4-3bc6-4427-93e1-87301dbc010e",
   "metadata": {
    "jp-MarkdownHeadingCollapsed": true
   },
   "source": [
    "# [Day 1 Historian Hysteria](https://adventofcode.com/2024/day/1)"
   ]
  },
  {
   "cell_type": "code",
   "execution_count": 7,
   "id": "7d2cf1fb-a8f4-4c8d-8818-5015f0e6e97a",
   "metadata": {},
   "outputs": [],
   "source": [
    "file = open('input1.txt', 'r')\n",
    "input_text = file.read()\n",
    "file.close()"
   ]
  },
  {
   "cell_type": "markdown",
   "id": "d6fda1c3-8553-4cee-aefa-90979a864cd6",
   "metadata": {},
   "source": [
    "## Part 1"
   ]
  },
  {
   "cell_type": "markdown",
   "id": "f00288e8-9813-424e-9c0f-c50e6990a7c1",
   "metadata": {},
   "source": [
    "Starting off pretty easy - let's just convert our lists to vectors, sort by size, and then take the difference."
   ]
  },
  {
   "cell_type": "code",
   "execution_count": 8,
   "id": "31ceb173-5873-4b1f-8e37-769e0fba521c",
   "metadata": {},
   "outputs": [],
   "source": [
    "def create_lists(input_text):\n",
    "    lines = input_text.strip().splitlines()\n",
    "    left_list = []\n",
    "    right_list = []\n",
    "    for line in lines:\n",
    "        left, right = line.split()\n",
    "        left_list.append(int(left))\n",
    "        right_list.append(int(right))\n",
    "    return left_list, right_list"
   ]
  },
  {
   "cell_type": "code",
   "execution_count": 11,
   "id": "b7fd9546-3af1-4fce-827a-c1b0de782703",
   "metadata": {},
   "outputs": [
    {
     "data": {
      "text/plain": [
       "2367773"
      ]
     },
     "execution_count": 11,
     "metadata": {},
     "output_type": "execute_result"
    }
   ],
   "source": [
    "left_list, right_list = create_lists(input_text)\n",
    "left_list = np.sort(left_list)\n",
    "right_list = np.sort(right_list)\n",
    "np.sum(np.absolute(right_list-left_list))"
   ]
  },
  {
   "cell_type": "markdown",
   "id": "8b9157d1-2e52-41e3-843f-96d0b3b5a1b9",
   "metadata": {},
   "source": [
    "## Part 2"
   ]
  },
  {
   "cell_type": "markdown",
   "id": "b95b795a-df13-4e3c-82e8-088f87b7dba0",
   "metadata": {},
   "source": [
    "This one's also pretty chill. We can just loop through each value in left list and count how many times it appears in the right list."
   ]
  },
  {
   "cell_type": "code",
   "execution_count": 13,
   "id": "e1ebe38c-98de-4055-a549-4a3207bbd1ad",
   "metadata": {},
   "outputs": [
    {
     "data": {
      "text/plain": [
       "21271939"
      ]
     },
     "execution_count": 13,
     "metadata": {},
     "output_type": "execute_result"
    }
   ],
   "source": [
    "score = 0\n",
    "for num in left_list:\n",
    "    score += num * np.count_nonzero(right_list == num)\n",
    "score"
   ]
  },
  {
   "cell_type": "markdown",
   "id": "e0a1bd9f-f0dd-4391-a176-2ab8674d5fce",
   "metadata": {
    "jp-MarkdownHeadingCollapsed": true
   },
   "source": [
    "# [Day 2: Red-Nosed Reports](https://adventofcode.com/2024/day/2)"
   ]
  },
  {
   "cell_type": "code",
   "execution_count": 1,
   "id": "092bec7e-7dca-4d1a-90ae-d9325505f32f",
   "metadata": {},
   "outputs": [],
   "source": [
    "file = open('input2.txt', 'r')\n",
    "input_text = file.read()\n",
    "file.close()"
   ]
  },
  {
   "cell_type": "markdown",
   "id": "71665e02-a5da-49e1-9dff-8c72e9223e2f",
   "metadata": {},
   "source": [
    "## Part 1"
   ]
  },
  {
   "cell_type": "code",
   "execution_count": 2,
   "id": "dfc697ec-a40e-4e66-a262-f6a3ddfcd198",
   "metadata": {},
   "outputs": [],
   "source": [
    "def read_reports(input_text):\n",
    "    lines = input_text.strip().splitlines()\n",
    "    \n",
    "    reports = []\n",
    "    for line in lines:\n",
    "        reports.append([int(level) for level in line.split()])\n",
    "    return reports"
   ]
  },
  {
   "cell_type": "code",
   "execution_count": 3,
   "id": "cf011387-f316-4546-919a-1e30ecfedaa2",
   "metadata": {},
   "outputs": [],
   "source": [
    "reports = read_reports(input_text)"
   ]
  },
  {
   "cell_type": "markdown",
   "id": "6499adbf-e3f9-4d8b-bf6e-f7aea7781c97",
   "metadata": {},
   "source": [
    "A report is safe if its **strictly monotonic**, and each consecutive difference is **between $1$ and $3$ in absolute value**. We'll create a function to test for this and then run this function on every report in our list."
   ]
  },
  {
   "cell_type": "code",
   "execution_count": 4,
   "id": "20efbf75-3996-423a-9a00-f397e2d2e9d3",
   "metadata": {},
   "outputs": [],
   "source": [
    "def is_report_safe(report):\n",
    "    differences = []\n",
    "    for i in range(len(report) - 1):\n",
    "        differences.append(report[i+1]-report[i])\n",
    "    strictly_monotonic = all(num < 0 for num in differences) or all(num > 0 for num in differences)\n",
    "    gradual = all(1 <= num and 3 >= num for num in [abs(difference) for difference in differences])\n",
    "    return strictly_monotonic and gradual"
   ]
  },
  {
   "cell_type": "code",
   "execution_count": 5,
   "id": "92452bc8-6b7c-4c06-9936-21009f4e3d40",
   "metadata": {},
   "outputs": [
    {
     "data": {
      "text/plain": [
       "502"
      ]
     },
     "execution_count": 5,
     "metadata": {},
     "output_type": "execute_result"
    }
   ],
   "source": [
    "number_safe = 0\n",
    "for report in reports:\n",
    "    if is_report_safe(report):\n",
    "        number_safe += 1\n",
    "number_safe"
   ]
  },
  {
   "cell_type": "markdown",
   "id": "0c32f66a-cd6f-45c6-9354-58879154a3c8",
   "metadata": {},
   "source": [
    "## Part 2 "
   ]
  },
  {
   "cell_type": "markdown",
   "id": "b46b2a6e-6e47-4a6f-b0a8-3899431d8317",
   "metadata": {},
   "source": [
    "For each report, we can see if it only has one bad level by removing each level and seeing if the remaining levels constitute a safe report."
   ]
  },
  {
   "cell_type": "code",
   "execution_count": 7,
   "id": "490f604c-06a3-49e1-a417-9b92b6dfc942",
   "metadata": {},
   "outputs": [
    {
     "data": {
      "text/plain": [
       "544"
      ]
     },
     "execution_count": 7,
     "metadata": {},
     "output_type": "execute_result"
    }
   ],
   "source": [
    "number_safe = 0\n",
    "for report in reports:\n",
    "    for i in range(len(report)):\n",
    "        if is_report_safe([level for j, level in enumerate(report) if j != i]):\n",
    "            number_safe += 1\n",
    "            break\n",
    "number_safe"
   ]
  },
  {
   "cell_type": "markdown",
   "id": "f7231a77-94e4-4b92-9d14-d3d24d5d6b19",
   "metadata": {
    "jp-MarkdownHeadingCollapsed": true
   },
   "source": [
    "# [Day 3: Mull It Over](https://adventofcode.com/2024/day/3)"
   ]
  },
  {
   "cell_type": "code",
   "execution_count": 2,
   "id": "99be8450-0ae0-4e7a-92c7-6872e6368d06",
   "metadata": {},
   "outputs": [],
   "source": [
    "file = open('input3.txt', 'r')\n",
    "input_text = file.read()\n",
    "file.close()"
   ]
  },
  {
   "cell_type": "markdown",
   "id": "77394098-27a9-436a-969b-f4e6bf058a94",
   "metadata": {},
   "source": [
    "## Part 1"
   ]
  },
  {
   "cell_type": "markdown",
   "id": "06c083af-a0ba-413d-90e7-635991dd3b1e",
   "metadata": {},
   "source": [
    "We can use a simple **regular expression** to detect all substrings of the form `mul(X,Y)` where `X` and `Y` are 1-3 digit numbers"
   ]
  },
  {
   "cell_type": "code",
   "execution_count": 3,
   "id": "9fa8f2f2-8483-4db8-b0e8-63e5c268fbdc",
   "metadata": {},
   "outputs": [],
   "source": [
    "mem = input_text"
   ]
  },
  {
   "cell_type": "code",
   "execution_count": 4,
   "id": "d0c8f83b-adce-49e3-8048-17dffcf460f2",
   "metadata": {},
   "outputs": [],
   "source": [
    "regex = r\"mul\\((-?\\d+),(-?\\d+)\\)\"\n",
    "def extract_multiplications(mem):\n",
    "    total = 0\n",
    "    matches = re.findall(regex, mem)\n",
    "    for match in matches:\n",
    "        total += int(match[0])*int(match[1])\n",
    "    return total"
   ]
  },
  {
   "cell_type": "code",
   "execution_count": 6,
   "id": "5ef8942c-9306-4b9c-b78e-655b423b1b29",
   "metadata": {},
   "outputs": [
    {
     "data": {
      "text/plain": [
       "167090022"
      ]
     },
     "execution_count": 6,
     "metadata": {},
     "output_type": "execute_result"
    }
   ],
   "source": [
    "# mult_regex = r\"mul\\((-?\\d+),(-?\\d+)\\)\"\n",
    "extract_multiplications(mem)"
   ]
  },
  {
   "cell_type": "markdown",
   "id": "4c8f0962-3de7-449b-9538-fcdb22af8c29",
   "metadata": {},
   "source": [
    "## Part 2"
   ]
  },
  {
   "cell_type": "markdown",
   "id": "fbcde6df-3d5e-4e95-9682-1352cd8f6a33",
   "metadata": {},
   "source": [
    "We just have to preprocess our string a bit for part 2. We can split our string into blocks separated by `don't()`'s. Since the multiplication instructions are **enabled at the beginning**, we can count all the multiplications in the first block. In the other blocks, we only want to count multiplications **after the first `do()`**, since the start of each block follows a `don't()`."
   ]
  },
  {
   "cell_type": "code",
   "execution_count": 7,
   "id": "de830a01-7ba4-4594-8679-7e0a65bbffbb",
   "metadata": {},
   "outputs": [
    {
     "data": {
      "text/plain": [
       "89823704"
      ]
     },
     "execution_count": 7,
     "metadata": {},
     "output_type": "execute_result"
    }
   ],
   "source": [
    "blocks = mem.split(\"don't()\")\n",
    "total = 0\n",
    "for block in blocks[1:]:\n",
    "    do = str(block.split(\"do()\", 1)[1:])\n",
    "    total += extract_multiplications(do)\n",
    "total += extract_multiplications(blocks[0])\n",
    "total"
   ]
  },
  {
   "cell_type": "markdown",
   "id": "5ca96b9d-7b46-451b-b5e1-81a1e3042312",
   "metadata": {
    "jp-MarkdownHeadingCollapsed": true
   },
   "source": [
    "# [Day 4: Ceres Search](https://adventofcode.com/2024/day/4)"
   ]
  },
  {
   "cell_type": "code",
   "execution_count": 2,
   "id": "ebb7d161-e326-41cb-9dd4-e320880f1ae4",
   "metadata": {},
   "outputs": [],
   "source": [
    "file = open('input4.txt', 'r')\n",
    "input_text = file.read()\n",
    "file.close()"
   ]
  },
  {
   "cell_type": "markdown",
   "id": "595f3f02-7172-48dd-9d54-a98ead1e6207",
   "metadata": {},
   "source": [
    "## Part 1"
   ]
  },
  {
   "cell_type": "code",
   "execution_count": 10,
   "id": "01c79620-96d3-479b-b496-f89ea6cab858",
   "metadata": {},
   "outputs": [],
   "source": [
    "def read_word_search(input_text):\n",
    "    lines = input_text.strip().splitlines()\n",
    "\n",
    "    # We'll pad our array so when we use numpy vector as indices, we don't have to worry about going out of bounds.\n",
    "    word_search = [['.']*(len(lines[0])+2)] \n",
    "    \n",
    "    for line in lines:\n",
    "        row = ['.']\n",
    "        for col_index, char in enumerate(line):\n",
    "            row.append(char) \n",
    "        row.append('.')\n",
    "        word_search.append(row)\n",
    "    word_search.append(['.']*(len(lines[0])+2))\n",
    "    return word_search"
   ]
  },
  {
   "cell_type": "code",
   "execution_count": 4,
   "id": "d644635a-fb89-47f1-bc32-836218bbeb2a",
   "metadata": {},
   "outputs": [],
   "source": [
    "word_search = read_word_search(input_text)"
   ]
  },
  {
   "cell_type": "markdown",
   "id": "e1cc9584-c6aa-4ffd-825c-cfea03b7309e",
   "metadata": {},
   "source": [
    "For each character in our word search, we'll iterate in each direction and check if those characters spell \"XMAS.\""
   ]
  },
  {
   "cell_type": "code",
   "execution_count": 5,
   "id": "2331e45f-e787-477a-bc1a-a7041508b86e",
   "metadata": {},
   "outputs": [],
   "source": [
    "def detect_xmas(i, j, direction, word_search):\n",
    "    current = np.array([i,j])\n",
    "    for i in range(4):\n",
    "        ith_letter = current + i * direction\n",
    "        if word_search[ith_letter[0]][ith_letter[1]] != \"XMAS\"[i]:\n",
    "            return 0\n",
    "    return 1"
   ]
  },
  {
   "cell_type": "code",
   "execution_count": 6,
   "id": "43bf2178-c7a2-4a40-9621-1b4dedbe433a",
   "metadata": {},
   "outputs": [
    {
     "data": {
      "text/plain": [
       "2406"
      ]
     },
     "execution_count": 6,
     "metadata": {},
     "output_type": "execute_result"
    }
   ],
   "source": [
    "directions = [np.array(direction) for direction in [(-1,0),(0,1),(1,0),(0,-1),(1,1),(1,-1),(-1,-1),(-1,1)]]    \n",
    "total = 0\n",
    "for i, row in enumerate(word_search):\n",
    "    for j, entry in enumerate(row):\n",
    "        if entry == '.':\n",
    "            continue\n",
    "        for direction in directions:\n",
    "            total += detect_xmas(i, j, direction, word_search)\n",
    "total"
   ]
  },
  {
   "cell_type": "markdown",
   "id": "86169fbf-1980-46fb-8559-3724f139b183",
   "metadata": {},
   "source": [
    "## Part 2"
   ]
  },
  {
   "cell_type": "markdown",
   "id": "c6cd372f-6ac0-4293-9947-f5eef8cd4751",
   "metadata": {},
   "source": [
    "Not much extra stuff to do here. We just have to get a little fancier to get the neighboring letters. For any given `A`, we just have to check the cells neighboring it diagonally. Below, we flatten out our diagonals from the bottom left to the top right. So if we have a diagonal crossing that looks like,\n",
    "\n",
    "$\\begin{bmatrix} x_1 & . & x_2 \\\\ . & x_3 & . \\\\ x_4 & . & x_5 \\end{bmatrix}$, \n",
    "\n",
    "we map this to the string $x_4x_5x_3x_1x_2$. We then check to see if this matches one of the four possible`X-MAS`'s."
   ]
  },
  {
   "cell_type": "code",
   "execution_count": 7,
   "id": "220d1b70-b8eb-4f18-9bfe-def2974953bb",
   "metadata": {},
   "outputs": [],
   "source": [
    "valid_x_mas = {\"MSAMS\",\"MMASS\",\"SMASM\",\"SSAMM\"}\n",
    "def detect_x_mas(i, j, word_search):\n",
    "    cross = \"\"\n",
    "    parity_checker = (i+j) % 2\n",
    "    for k in range(i-1, i+2):\n",
    "        for l in range(j-1, j+2):\n",
    "            if (k + l) % 2 == parity_checker: \n",
    "                cross += word_search[k][l]\n",
    "    return 1 if cross in valid_x_mas else 0"
   ]
  },
  {
   "cell_type": "code",
   "execution_count": 8,
   "id": "b1a896e2-6c3a-47e7-b87f-d133334d902c",
   "metadata": {},
   "outputs": [
    {
     "data": {
      "text/plain": [
       "1807"
      ]
     },
     "execution_count": 8,
     "metadata": {},
     "output_type": "execute_result"
    }
   ],
   "source": [
    "x_mas_total = 0\n",
    "for i, row in enumerate(word_search):\n",
    "    for j, entry in enumerate(row):\n",
    "        if entry == '.':\n",
    "            continue\n",
    "        x_mas_total += detect_x_mas(i, j, word_search)\n",
    "x_mas_total"
   ]
  },
  {
   "cell_type": "markdown",
   "id": "653b5df0-98de-4cb7-a816-5a6e5549d431",
   "metadata": {
    "jp-MarkdownHeadingCollapsed": true
   },
   "source": [
    "# [Day 5: Print Queue](https://adventofcode.com/2024/day/5)"
   ]
  },
  {
   "cell_type": "code",
   "execution_count": 2,
   "id": "9db34ab9-68dc-4379-9091-bdb23a717fb5",
   "metadata": {},
   "outputs": [],
   "source": [
    "file = open('input5.txt', 'r')\n",
    "input_text = file.read()\n",
    "file.close()"
   ]
  },
  {
   "cell_type": "markdown",
   "id": "c6613181-245f-47eb-9f9f-1080dc2fec83",
   "metadata": {},
   "source": [
    "## Part 1"
   ]
  },
  {
   "cell_type": "code",
   "execution_count": 3,
   "id": "e915a515-6032-4be8-a434-b61a0236879a",
   "metadata": {},
   "outputs": [],
   "source": [
    "def get_rules_and_updates(input_text):\n",
    "    rules, updates = input_text.strip().split(\"\\n\\n\")\n",
    "    rules = rules.split('\\n')\n",
    "    updates = updates.split('\\n')\n",
    "    return rules, updates"
   ]
  },
  {
   "cell_type": "code",
   "execution_count": 5,
   "id": "a27ef40a-2293-4944-aa0b-8dcbd1ec5426",
   "metadata": {},
   "outputs": [],
   "source": [
    "rules, updates = get_rules_and_updates(input_text)\n",
    "rules = set(tuple(rule.split('|')) for rule in rules)"
   ]
  },
  {
   "cell_type": "markdown",
   "id": "cdb1cf06-324a-4c45-b83e-1db637d23aad",
   "metadata": {},
   "source": [
    "Since the rules give us a way to order updates of pages, we can just use **quick sort** with `|` in place of `<`. Once we get a sorted list of pages according to the rules, we can check if the update matches the sorted list of pages.\n",
    "\n",
    "*Digression: Initially I assumed that the rules would form a total ordering of the pages since this was the case in the small example that the problem gave. So my first approach was just to attempt to sort all of the pages at the beginning, which is why I thought to use quick sort. After spending some time being very confused as to why my code wasn't working, I **finally** checked the input for the first time. It was a good lesson to check my input before writing the solution for later days.*"
   ]
  },
  {
   "cell_type": "code",
   "execution_count": 6,
   "id": "47cdb412-695a-4934-9402-a8cb396d9991",
   "metadata": {},
   "outputs": [],
   "source": [
    "def quicksort(lst):\n",
    "    if len(lst) == 0:\n",
    "        return []\n",
    "    pivot = lst[0]\n",
    "    left = []\n",
    "    right = []\n",
    "    for elt in lst[1:]:\n",
    "        if (elt, pivot) in rules:\n",
    "            left.append(elt)\n",
    "        else:\n",
    "            right.append(elt)\n",
    "    return quicksort(left) + [pivot] + quicksort(right)"
   ]
  },
  {
   "cell_type": "code",
   "execution_count": 7,
   "id": "4fdaea93-420f-4fdd-9d56-234ce711d1ee",
   "metadata": {},
   "outputs": [
    {
     "data": {
      "text/plain": [
       "5588"
      ]
     },
     "execution_count": 7,
     "metadata": {},
     "output_type": "execute_result"
    }
   ],
   "source": [
    "total = 0 \n",
    "for update in updates:\n",
    "    update_pages = update.split(',')\n",
    "    sorted_pages = quicksort(update_pages)\n",
    "    mapped_update = [sorted_pages.index(page) for page in update_pages]\n",
    "    monotonic = all([mapped_update[i] < mapped_update[i+1] for i in range(len(mapped_update) - 1)])\n",
    "    if monotonic:\n",
    "        total += int(update_pages[int((len(mapped_update)-1)/2)])\n",
    "total"
   ]
  },
  {
   "cell_type": "markdown",
   "id": "a7c4d9bf-cf26-48de-9f43-bd85beeba4ed",
   "metadata": {},
   "source": [
    "## Part 2"
   ]
  },
  {
   "cell_type": "markdown",
   "id": "2e745b82-a59e-44c5-85cf-eece8e426c64",
   "metadata": {},
   "source": [
    "This should be pretty easy since we already sorted updates into the correct order in Part 1."
   ]
  },
  {
   "cell_type": "code",
   "execution_count": 8,
   "id": "3ae84f36-c235-41ff-a490-2aee880e8540",
   "metadata": {},
   "outputs": [
    {
     "data": {
      "text/plain": [
       "5331"
      ]
     },
     "execution_count": 8,
     "metadata": {},
     "output_type": "execute_result"
    }
   ],
   "source": [
    "total = 0 \n",
    "for update in updates:\n",
    "    update_pages = update.split(',')\n",
    "    sorted_pages = quicksort(update_pages)\n",
    "    mapped_update = [sorted_pages.index(page) for page in update_pages]\n",
    "    monotonic = all([mapped_update[i] < mapped_update[i+1] for i in range(len(mapped_update) - 1)])\n",
    "    if not monotonic:\n",
    "        total += int(sorted_pages[int((len(mapped_update)-1)/2)])\n",
    "total"
   ]
  },
  {
   "cell_type": "markdown",
   "id": "2fa993ff-bc16-4736-b976-bd775f3f64d7",
   "metadata": {
    "jp-MarkdownHeadingCollapsed": true
   },
   "source": [
    "# [Day 6: Guard Gallivant](https://adventofcode.com/2024/day/6)"
   ]
  },
  {
   "cell_type": "code",
   "execution_count": 1,
   "id": "86264f33-bf38-410f-93e0-d5cf3e541704",
   "metadata": {},
   "outputs": [],
   "source": [
    "file = open('input6.txt', 'r')\n",
    "input_text = file.read()\n",
    "file.close()"
   ]
  },
  {
   "cell_type": "markdown",
   "id": "a4ec18ec-6a68-4c33-8cd1-04fd944b9d6e",
   "metadata": {},
   "source": [
    "## Part 1"
   ]
  },
  {
   "cell_type": "code",
   "execution_count": 3,
   "id": "626c5974-3cd1-4a51-bb58-d1bd01e94db2",
   "metadata": {},
   "outputs": [],
   "source": [
    "def read_map(input_text):\n",
    "    lines = input_text.strip().splitlines()\n",
    "    matrix = [['@' for i in range(len(lines[0])+2)]]\n",
    "\n",
    "    for row_index, line in enumerate(lines):\n",
    "        row = ['@']\n",
    "        for col_index, char in enumerate(line):\n",
    "            if char == '#':\n",
    "                row.append(\"#\")\n",
    "            else:\n",
    "                row.append('.')\n",
    "            if char == '^':\n",
    "                start_position = (row_index+1, col_index+1)\n",
    "        row.append('@')\n",
    "        matrix.append(row)\n",
    "    matrix.append(['@' for i in range(len(lines[0])+2)])\n",
    "    \n",
    "    return matrix, np.array(start_position)"
   ]
  },
  {
   "cell_type": "code",
   "execution_count": 4,
   "id": "688be072-c01f-47f7-9fbc-e1cf560d46d7",
   "metadata": {},
   "outputs": [],
   "source": [
    "guard_map, start_position = read_map(input_text)"
   ]
  },
  {
   "cell_type": "code",
   "execution_count": 5,
   "id": "fc75de31-7107-4457-8c7d-067db50f5838",
   "metadata": {},
   "outputs": [],
   "source": [
    "directions = [np.array(direction) for direction in [(-1,0),(0,1),(1,0),(0,-1)]]\n",
    "i = 0\n",
    "position = np.copy(start_position)\n",
    "squares = set()\n",
    "while True:\n",
    "    squares.add(tuple(position))\n",
    "    next_position = position + directions[i]\n",
    "    if guard_map[next_position[0]][next_position[1]] == \"@\":\n",
    "        break\n",
    "    elif guard_map[next_position[0]][next_position[1]] == \"#\":\n",
    "        i = (i+1) % 4\n",
    "    else:\n",
    "        position = next_position"
   ]
  },
  {
   "cell_type": "code",
   "execution_count": 6,
   "id": "d6164e5f-6615-423a-8781-3c158b50359f",
   "metadata": {},
   "outputs": [
    {
     "data": {
      "text/plain": [
       "4656"
      ]
     },
     "execution_count": 6,
     "metadata": {},
     "output_type": "execute_result"
    }
   ],
   "source": [
    "len(squares)"
   ]
  },
  {
   "cell_type": "markdown",
   "id": "a34e82d7-c770-4529-90a0-74a2bbcb2979",
   "metadata": {},
   "source": [
    "## Part 2"
   ]
  },
  {
   "cell_type": "code",
   "execution_count": null,
   "id": "ed287af1-d70f-49be-bd32-401877be2116",
   "metadata": {},
   "outputs": [],
   "source": []
  },
  {
   "cell_type": "markdown",
   "id": "ace5d9e1-4b2d-4499-ae6b-85268e38339c",
   "metadata": {
    "jp-MarkdownHeadingCollapsed": true
   },
   "source": [
    "# [Day 7: Bridge Repair](https://adventofcode.com/2024/day/7)"
   ]
  },
  {
   "cell_type": "code",
   "execution_count": 1,
   "id": "793d4d27-514d-4d6b-a590-6e3953840125",
   "metadata": {},
   "outputs": [],
   "source": [
    "file = open('input7.txt', 'r')\n",
    "input_text = file.read()\n",
    "file.close()"
   ]
  },
  {
   "cell_type": "markdown",
   "id": "24e71de2-046a-4648-aa37-567116a8fe65",
   "metadata": {},
   "source": [
    "## Part 1"
   ]
  },
  {
   "cell_type": "code",
   "execution_count": 7,
   "id": "7165d061-944e-4a11-a932-3b0d98a6c84b",
   "metadata": {},
   "outputs": [],
   "source": [
    "def read_equations(input_text):\n",
    "    equations = []\n",
    "    lines = input_text.strip().splitlines()    \n",
    "    for equation in lines:\n",
    "        data = equation.split(' ')\n",
    "        test_value = int(data[0][:-1])\n",
    "        nums = tuple(int(value) for value in data[1:])\n",
    "        equations.append({\n",
    "            'test_value': test_value,\n",
    "            'nums': nums,\n",
    "        })\n",
    "    return equations"
   ]
  },
  {
   "cell_type": "code",
   "execution_count": 8,
   "id": "a777e9a6-ea64-47f6-ac08-24de06ff22ac",
   "metadata": {},
   "outputs": [],
   "source": [
    "equations = read_equations(input_text)"
   ]
  },
  {
   "cell_type": "markdown",
   "id": "4e086e37-8763-42d8-b02e-90d13ece43b9",
   "metadata": {},
   "source": [
    "We'll use recursion here. For a given sequence of numbers $x_1 \\ x_2 \\ \\ldots \\ x_{n-1} \\ x_n$ in an equation, we compute all the possible results we could get from different combinations of operations for the sequence $x_1 \\ x_2 \\ \\ldots \\ x_{n-1}$. Then for each number in this set, we add or multiply $x_n$ to get all the possible values we could get by inserting different combinations of operations into our entire sequence. I'm not sure whether memoizing is necessary here, but why not?"
   ]
  },
  {
   "cell_type": "code",
   "execution_count": 9,
   "id": "0f24c927-c62f-4226-af2a-b6f6297c43b3",
   "metadata": {},
   "outputs": [],
   "source": [
    "memoization_table = {}\n",
    "def get_combinations(nums):\n",
    "    if len(nums) == 1:\n",
    "        return set(nums)\n",
    "    last = nums[-1]\n",
    "    subtuple = nums[:-1]\n",
    "    if subtuple in memoization_table.keys():\n",
    "        rest = memoization_table[subtuple]\n",
    "    else:\n",
    "        rest = get_combinations(subtuple)\n",
    "        memoization_table[subtuple] = rest\n",
    "    return set(last + combination for combination in rest) | set(last * combination for combination in rest)"
   ]
  },
  {
   "cell_type": "code",
   "execution_count": 10,
   "id": "87275e58-53bc-4aee-b2b9-1cd6b366843d",
   "metadata": {},
   "outputs": [
    {
     "data": {
      "text/plain": [
       "303766880536"
      ]
     },
     "execution_count": 10,
     "metadata": {},
     "output_type": "execute_result"
    }
   ],
   "source": [
    "total = 0\n",
    "for equation in equations:\n",
    "    test_value = equation['test_value']\n",
    "    nums = equation['nums']\n",
    "    if test_value in get_combinations(nums):\n",
    "        total += test_value\n",
    "total"
   ]
  },
  {
   "cell_type": "markdown",
   "id": "97ac4f8b-4ea3-4389-8dab-c93a88043186",
   "metadata": {},
   "source": [
    "## Part 2"
   ]
  },
  {
   "cell_type": "markdown",
   "id": "b4837c19-89f0-4e38-b054-5660400ffbc1",
   "metadata": {},
   "source": [
    "We'll apply the same recursive method as above but now we throw in the concatenation operator in the inductive step."
   ]
  },
  {
   "cell_type": "code",
   "execution_count": 11,
   "id": "c375ce89-fa45-4e51-80be-8010c5fc77f3",
   "metadata": {},
   "outputs": [],
   "source": [
    "memoization_table2 = {}\n",
    "def get_combinations2(nums):\n",
    "    if len(nums) == 1:\n",
    "        return set(nums)\n",
    "    last = nums[-1]\n",
    "    subtuple = nums[:-1]\n",
    "    if subtuple in memoization_table2.keys():\n",
    "        rest = memoization_table2[subtuple]\n",
    "    else:\n",
    "        rest = get_combinations2(subtuple)\n",
    "        memoization_table[subtuple] = rest\n",
    "    return set(last + combination for combination in rest) | set(last * combination for combination in rest) | set(int(str(combination) + str(last)) for combination in rest)"
   ]
  },
  {
   "cell_type": "code",
   "execution_count": 12,
   "id": "2d0221bb-bfd0-42eb-8e47-cc354ebddd6d",
   "metadata": {},
   "outputs": [
    {
     "data": {
      "text/plain": [
       "337041851384440"
      ]
     },
     "execution_count": 12,
     "metadata": {},
     "output_type": "execute_result"
    }
   ],
   "source": [
    "total = 0\n",
    "for equation in equations:\n",
    "    test_value = equation['test_value']\n",
    "    nums = equation['nums']\n",
    "    if test_value in get_combinations2(nums):\n",
    "        total += test_value\n",
    "total"
   ]
  },
  {
   "cell_type": "markdown",
   "id": "5a1d8608-dcdd-4018-93a3-426e61c57b59",
   "metadata": {
    "jp-MarkdownHeadingCollapsed": true
   },
   "source": [
    "# [Day 8: Resonant Collinearity](https://adventofcode.com/2024/day/8)"
   ]
  },
  {
   "cell_type": "code",
   "execution_count": 2,
   "id": "3fb69d59-78ac-426a-8fd4-f6059d386897",
   "metadata": {},
   "outputs": [],
   "source": [
    "file = open('input8.txt', 'r')\n",
    "input_text = file.read()\n",
    "file.close()"
   ]
  },
  {
   "cell_type": "markdown",
   "id": "c46a125d-d388-47c7-baa0-8828e1e1c56b",
   "metadata": {},
   "source": [
    "## Part 1"
   ]
  },
  {
   "cell_type": "code",
   "execution_count": 3,
   "id": "09723a8c-0b1b-415a-b1ba-17f82384af9e",
   "metadata": {},
   "outputs": [],
   "source": [
    "def read_grid(input_text):\n",
    "    lines = input_text.strip().splitlines()\n",
    "    grid = []\n",
    "    for line in lines:\n",
    "        row = []\n",
    "        for char in line:\n",
    "            row.append(char)\n",
    "        grid.append(row)\n",
    "    return grid"
   ]
  },
  {
   "cell_type": "code",
   "execution_count": 4,
   "id": "53c41a94-08ee-4fad-9ddf-1175e9dbfddd",
   "metadata": {},
   "outputs": [],
   "source": [
    "grid = read_grid(input_text)"
   ]
  },
  {
   "cell_type": "markdown",
   "id": "03d85b64-c97f-42a5-be5a-a6c3b6590351",
   "metadata": {},
   "source": [
    "First, for each unique character/frequency, we'll get a list of coordinates where that character appears."
   ]
  },
  {
   "cell_type": "code",
   "execution_count": 6,
   "id": "db01d45f-16e8-4989-bbdc-4dd4d64ed2c4",
   "metadata": {},
   "outputs": [],
   "source": [
    "def get_character_positions(grid):\n",
    "    character_positions = {}\n",
    "    for i, row in enumerate(grid):\n",
    "        for j, value in enumerate(row):\n",
    "            if value == \".\":\n",
    "                continue\n",
    "            if value in character_positions.keys():\n",
    "                character_positions[value].add((i,j))\n",
    "            else:\n",
    "                character_positions[value] = {(i,j)}\n",
    "    return character_positions"
   ]
  },
  {
   "cell_type": "code",
   "execution_count": 7,
   "id": "963e7149-e0d5-4ddd-90a9-ea2ab23f4389",
   "metadata": {},
   "outputs": [],
   "source": [
    "character_positions = get_character_positions(grid)"
   ]
  },
  {
   "cell_type": "markdown",
   "id": "2ec191c7-7dc4-4411-81da-fe31de84efc1",
   "metadata": {},
   "source": [
    "We're given that an antinode only occurs when it's aligned with two antennas of the same frequency, and the distance from one of the antennas is twice as far as the distance from the other antenna. So for every pair of antennas $a_1, a_2 \\in \\mathbb{Z}^2$ with the same frequency, the two possible anitnodes will be $(a_2 - a_1) + a_2$ and $a_1 - (a_2 - a_1)$. Thus, for any such pair, we just check if these two coordinates are in the bounds of our grid."
   ]
  },
  {
   "cell_type": "code",
   "execution_count": 8,
   "id": "f2372ab5-e9ae-4694-8077-0b374fb28b98",
   "metadata": {},
   "outputs": [],
   "source": [
    "def is_valid_coord(coordinates):\n",
    "    return coordinates[0] >= 0 and coordinates[1] >= 0 and coordinates[0] < len(grid) and coordinates[1] < len(grid[0])\n",
    "\n",
    "def get_antinodes(antennas):\n",
    "    antinodes = set()\n",
    "    antennas_np = [np.array(antenna) for antenna in antennas]\n",
    "    pairs = itertools.combinations(antennas_np, 2)\n",
    "    for combo in pairs:\n",
    "        p1, p2 = combo\n",
    "        difference = p2 - p1\n",
    "        antinode1 = p1 - difference\n",
    "        antinode2 = p2 + difference\n",
    "        \n",
    "        if is_valid_coord(antinode1):\n",
    "            antinodes.add(tuple(antinode1))\n",
    "        if is_valid_coord(antinode2):\n",
    "            antinodes.add(tuple(antinode2))\n",
    "    return antinodes"
   ]
  },
  {
   "cell_type": "code",
   "execution_count": 9,
   "id": "8b081dd5-1bb8-4e27-97ad-546301b1ea0b",
   "metadata": {},
   "outputs": [
    {
     "data": {
      "text/plain": [
       "289"
      ]
     },
     "execution_count": 9,
     "metadata": {},
     "output_type": "execute_result"
    }
   ],
   "source": [
    "antinodes = set()\n",
    "for char in character_positions.keys():\n",
    "    antinodes = antinodes | get_antinodes(character_positions[char])\n",
    "len(antinodes)"
   ]
  },
  {
   "cell_type": "markdown",
   "id": "f3baade5-d2b0-4451-a78f-2a8c7c54cf92",
   "metadata": {},
   "source": [
    "## Part 2"
   ]
  },
  {
   "cell_type": "markdown",
   "id": "07c9dfab-b4b5-4890-b6c9-cbaa48a99da9",
   "metadata": {},
   "source": [
    "For part 2, antinodes can occur at **any point that is collinear** with two antennas of the same frequency. Thus, for any pair of same-frequency antennas $a_1, a_2$, we can parametrize the line they lie on to enumerate all integer points on this line. We again look at the difference vector $a_2 - a_1$, but to ensure we attain all possible integer values on this line, we need to scale down by the $\\gcd$ of its $x$ and $y$ coordinates. As before, we only have to do this for points that fit within the bounds of our grid."
   ]
  },
  {
   "cell_type": "code",
   "execution_count": 13,
   "id": "a0be2d53-6d77-4248-a80a-4d3f9b3aa4cb",
   "metadata": {},
   "outputs": [],
   "source": [
    "def get_antinodes_2(antennas):\n",
    "    antinodes = set()\n",
    "    antennas_np = [np.array(antenna) for antenna in antennas]\n",
    "    pairs = itertools.combinations(antennas_np, 2)\n",
    "    for combo in pairs:\n",
    "        p1, p2 = combo\n",
    "        difference = p2 - p1\n",
    "        gcd = math.gcd(int(difference[0]), int(difference[1]))\n",
    "        difference = ((1/gcd)*difference).astype(int)\n",
    "        \n",
    "        current = copy.deepcopy(p1)\n",
    "        while is_valid_coord(current):\n",
    "            antinodes.add(tuple(current))\n",
    "            current += difference\n",
    "\n",
    "        current = copy.deepcopy(p1)\n",
    "        while is_valid_coord(current):\n",
    "            antinodes.add(tuple(current))\n",
    "            current -= difference\n",
    "\n",
    "    return antinodes"
   ]
  },
  {
   "cell_type": "code",
   "execution_count": 14,
   "id": "fc0004b0-5595-4756-b754-1cc1e2a696fb",
   "metadata": {},
   "outputs": [
    {
     "data": {
      "text/plain": [
       "1030"
      ]
     },
     "execution_count": 14,
     "metadata": {},
     "output_type": "execute_result"
    }
   ],
   "source": [
    "antinodes = set()\n",
    "for char in character_positions.keys():\n",
    "    antinodes = antinodes | get_antinodes_2(character_positions[char])\n",
    "len(antinodes)"
   ]
  },
  {
   "cell_type": "markdown",
   "id": "43d5c46a-4d23-4e29-ae87-f4889a7843b7",
   "metadata": {},
   "source": [
    "# Day 9"
   ]
  },
  {
   "cell_type": "markdown",
   "id": "691a4fa7-875a-4670-9ad9-570edb2441b1",
   "metadata": {},
   "source": [
    "# Day 10"
   ]
  },
  {
   "cell_type": "markdown",
   "id": "5e59fa8d-3e8b-4f28-8626-19f5bdd64ebe",
   "metadata": {},
   "source": [
    "# Day 11"
   ]
  },
  {
   "cell_type": "markdown",
   "id": "0d4d542b-309b-49be-9cb7-4d7dca1813ac",
   "metadata": {},
   "source": [
    "## Part 1"
   ]
  },
  {
   "cell_type": "code",
   "execution_count": 2,
   "id": "6f344155-046f-41b0-8829-7e7335281887",
   "metadata": {},
   "outputs": [],
   "source": [
    "file = open('input11.txt', 'r')\n",
    "input_text = file.read()\n",
    "file.close()"
   ]
  },
  {
   "cell_type": "code",
   "execution_count": 3,
   "id": "41183ab0-763a-4b98-81b1-720f9a704e74",
   "metadata": {},
   "outputs": [],
   "source": [
    "stones = [int(stone) for stone in input_text.strip().split(' ')]"
   ]
  },
  {
   "cell_type": "markdown",
   "id": "978474e3-dfc5-4329-9c8a-8d0430c23c36",
   "metadata": {},
   "source": [
    "Since each stone changes **simultaneously** by the **same rules**, we can apply the appropriate to change to each stone individually in order and place all the results in a list. Then we just repeat this 25 times to get our final answer."
   ]
  },
  {
   "cell_type": "code",
   "execution_count": 4,
   "id": "d3237b4e-7e32-407c-90cb-a10abac99d2f",
   "metadata": {},
   "outputs": [],
   "source": [
    "def change(stone):\n",
    "    if stone == 0:\n",
    "        return [1]\n",
    "    s = str(stone)\n",
    "    if len(s) % 2 == 0:\n",
    "        return [int(s[:int(len(s)/2)]), int(s[int(len(s)/2):])]\n",
    "    return [stone*2024]\n",
    "\n",
    "def blink(stones):\n",
    "    new_stones = []\n",
    "    for stone in stones:\n",
    "        new_stones += change(stone)\n",
    "    return new_stones"
   ]
  },
  {
   "cell_type": "code",
   "execution_count": 5,
   "id": "e48ecfe0-b80e-48fc-af77-7a56bf95222e",
   "metadata": {},
   "outputs": [],
   "source": [
    "stones_temp = [stone for stone in stones]\n",
    "for i in range(0,25):\n",
    "    stones_temp = blink(stones_temp)"
   ]
  },
  {
   "cell_type": "code",
   "execution_count": 6,
   "id": "024f9202-e37c-4141-9519-57b0a5392b66",
   "metadata": {},
   "outputs": [
    {
     "data": {
      "text/plain": [
       "186203"
      ]
     },
     "execution_count": 6,
     "metadata": {},
     "output_type": "execute_result"
    }
   ],
   "source": [
    "len(stones_temp)"
   ]
  },
  {
   "cell_type": "markdown",
   "id": "2ed87403-b07f-462e-be07-6da3e9d2ca8a",
   "metadata": {},
   "source": [
    "## Part 2"
   ]
  },
  {
   "cell_type": "markdown",
   "id": "16c2677c-eb36-4b24-aae1-907de47eae53",
   "metadata": {},
   "source": [
    "Since blinking will cause the number of stones to **potentially double**, the number of times we have to run `change` grows **exponentially** in the worst case. So it's probably not the best idea to try and apply the same strategy as before 75 times. Instead, we notice that whenever we change our stones, we have the potential to produce a stone with a number we have already seen before. Thus, we can use recursion + memoization to reduce the number of times we need to call `change`. \n",
    "\n",
    "If we have `stones = [s1, s2, ..., sk]`, and we want to count the number of stones after $n$ blinks, we can use the recursive computation:\n",
    "\n",
    "`count_stones(stones, n) = count_stones(s1, n-1) + count_stones(s2, n-1) + ... + counts_stones(sk, n-1)` for $n > 1$, and\n",
    "\n",
    "`count_stones(stones, 1) = len(blink(stones))` for $n = 1$."
   ]
  },
  {
   "cell_type": "code",
   "execution_count": 7,
   "id": "619e7ce1-6490-41cf-b218-48dae287a456",
   "metadata": {},
   "outputs": [],
   "source": [
    "memoization_table = {}\n",
    "\n",
    "def count_stones(stones, n):\n",
    "    # If we're only blinking once, we just use our original blink method\n",
    "    if n == 1:\n",
    "        return len(blink(stones))\n",
    "        \n",
    "    total = 0\n",
    "    for stone in stones:\n",
    "        if (stone, n-1) in memoization_table.keys():\n",
    "            total += memoization_table[(stone,n-1)]\n",
    "        else:\n",
    "            memoization_table[(stone,n-1)] = count_stones(change(stone), n-1)\n",
    "            total += memoization_table[(stone,n-1)]\n",
    "    return total"
   ]
  },
  {
   "cell_type": "code",
   "execution_count": 8,
   "id": "fdb52755-3d69-43c8-8495-d0a09a7f36cd",
   "metadata": {},
   "outputs": [
    {
     "data": {
      "text/plain": [
       "221291560078593"
      ]
     },
     "execution_count": 8,
     "metadata": {},
     "output_type": "execute_result"
    }
   ],
   "source": [
    "count_stones(stones, 75)"
   ]
  },
  {
   "cell_type": "markdown",
   "id": "0eac9a20-5182-48f8-9fe1-fdaaabd6af22",
   "metadata": {},
   "source": [
    "Now that we successfully implemented our recursive approach, we can see how many calls to `change` we saved."
   ]
  },
  {
   "cell_type": "code",
   "execution_count": 9,
   "id": "a5fa9d75-8c1f-4d80-9d3d-dffc8d9ede94",
   "metadata": {},
   "outputs": [
    {
     "data": {
      "text/plain": [
       "121273"
      ]
     },
     "execution_count": 9,
     "metadata": {},
     "output_type": "execute_result"
    }
   ],
   "source": [
    "len(memoization_table)"
   ]
  },
  {
   "cell_type": "markdown",
   "id": "7051c4ac-1f49-4ac9-9c5f-bd53f8d6a104",
   "metadata": {},
   "source": [
    "Since our memoization table only has `121273` distinct values, and we memoized every value we computed, this is roughly equal to the number of times we called `change` (not accounting for the times in the `blink` calls). On the other hand, if we just recursively applied `blink`, we would have had to call `change` for every stone in our list of stones after blinks 1 through 74. So to count the number of calls to `change` we would have made in our iterative approach, we just sum up the number of stones after $i$ blinks for $1 \\leq i \\leq 74$."
   ]
  },
  {
   "cell_type": "code",
   "execution_count": 10,
   "id": "42828352-1cef-47e5-86b4-f70093acd8b6",
   "metadata": {
    "scrolled": true
   },
   "outputs": [
    {
     "data": {
      "text/plain": [
       "280740494459387"
      ]
     },
     "execution_count": 10,
     "metadata": {},
     "output_type": "execute_result"
    }
   ],
   "source": [
    "total_change_calls = 0\n",
    "for i in range(1, 74):\n",
    "    total_change_calls += count_stones(stones, i)\n",
    "total_change_calls"
   ]
  },
  {
   "cell_type": "markdown",
   "id": "11edf3d4-abcc-47f9-bc5a-1dd73d781dc4",
   "metadata": {},
   "source": [
    "Wow, I'm a math PhD, so I can say with confidence that $280740494459387 - 121273 = 280740494282105$ is a large number of extra calls."
   ]
  },
  {
   "cell_type": "code",
   "execution_count": null,
   "id": "965fa7fc-861b-4a4b-9eb3-4ca987ee594f",
   "metadata": {},
   "outputs": [],
   "source": []
  }
 ],
 "metadata": {
  "kernelspec": {
   "display_name": "Python 3 (ipykernel)",
   "language": "python",
   "name": "python3"
  },
  "language_info": {
   "codemirror_mode": {
    "name": "ipython",
    "version": 3
   },
   "file_extension": ".py",
   "mimetype": "text/x-python",
   "name": "python",
   "nbconvert_exporter": "python",
   "pygments_lexer": "ipython3",
   "version": "3.11.8"
  }
 },
 "nbformat": 4,
 "nbformat_minor": 5
}
